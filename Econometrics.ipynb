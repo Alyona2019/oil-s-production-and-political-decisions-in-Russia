{
 "cells": [
  {
   "cell_type": "code",
   "execution_count": 1,
   "metadata": {},
   "outputs": [
    {
     "name": "stdout",
     "output_type": "stream",
     "text": [
      "Populating the interactive namespace from numpy and matplotlib\n"
     ]
    }
   ],
   "source": [
    "%pylab inline\n",
    "import seaborn as sns\n",
    "import pandas as pd\n",
    "import numpy as np\n",
    "\n",
    "import warnings\n",
    "warnings.filterwarnings('ignore')"
   ]
  },
  {
   "cell_type": "code",
   "execution_count": 114,
   "metadata": {},
   "outputs": [],
   "source": [
    "data = pd.read_excel('statistics_oil.xlsx')\n"
   ]
  },
  {
   "cell_type": "code",
   "execution_count": 115,
   "metadata": {},
   "outputs": [
    {
     "data": {
      "text/html": [
       "<div>\n",
       "<style scoped>\n",
       "    .dataframe tbody tr th:only-of-type {\n",
       "        vertical-align: middle;\n",
       "    }\n",
       "\n",
       "    .dataframe tbody tr th {\n",
       "        vertical-align: top;\n",
       "    }\n",
       "\n",
       "    .dataframe thead th {\n",
       "        text-align: right;\n",
       "    }\n",
       "</style>\n",
       "<table border=\"1\" class=\"dataframe\">\n",
       "  <thead>\n",
       "    <tr style=\"text-align: right;\">\n",
       "      <th></th>\n",
       "      <th>data</th>\n",
       "      <th>Export</th>\n",
       "      <th>Output</th>\n",
       "      <th>Primary_proc</th>\n",
       "      <th>Quotation</th>\n",
       "      <th>Export_duty</th>\n",
       "      <th>OPEC_convention</th>\n",
       "      <th>Venezuela_crisis</th>\n",
       "      <th>Russia_elections</th>\n",
       "      <th>Russia_max_output</th>\n",
       "    </tr>\n",
       "  </thead>\n",
       "  <tbody>\n",
       "    <tr>\n",
       "      <th>0</th>\n",
       "      <td>01.01.2018</td>\n",
       "      <td>21311.3</td>\n",
       "      <td>46323.800</td>\n",
       "      <td>24551.100</td>\n",
       "      <td>499.8</td>\n",
       "      <td>NaN</td>\n",
       "      <td>0</td>\n",
       "      <td>0</td>\n",
       "      <td>0</td>\n",
       "      <td>0</td>\n",
       "    </tr>\n",
       "    <tr>\n",
       "      <th>1</th>\n",
       "      <td>01.02.2018</td>\n",
       "      <td>19266.4</td>\n",
       "      <td>41849.700</td>\n",
       "      <td>22517.200</td>\n",
       "      <td>485.5</td>\n",
       "      <td>120.1</td>\n",
       "      <td>0</td>\n",
       "      <td>0</td>\n",
       "      <td>0</td>\n",
       "      <td>0</td>\n",
       "    </tr>\n",
       "    <tr>\n",
       "      <th>2</th>\n",
       "      <td>01.03.2018</td>\n",
       "      <td>21148.1</td>\n",
       "      <td>46392.300</td>\n",
       "      <td>24392.800</td>\n",
       "      <td>483.7</td>\n",
       "      <td>119.5</td>\n",
       "      <td>0</td>\n",
       "      <td>0</td>\n",
       "      <td>1</td>\n",
       "      <td>0</td>\n",
       "    </tr>\n",
       "    <tr>\n",
       "      <th>3</th>\n",
       "      <td>01.04.2018</td>\n",
       "      <td>21329.6</td>\n",
       "      <td>44880.500</td>\n",
       "      <td>22864.600</td>\n",
       "      <td>456.6</td>\n",
       "      <td>111.4</td>\n",
       "      <td>0</td>\n",
       "      <td>0</td>\n",
       "      <td>0</td>\n",
       "      <td>0</td>\n",
       "    </tr>\n",
       "    <tr>\n",
       "      <th>4</th>\n",
       "      <td>01.05.2018</td>\n",
       "      <td>21388.9</td>\n",
       "      <td>46407.200</td>\n",
       "      <td>24687.600</td>\n",
       "      <td>NaN</td>\n",
       "      <td>NaN</td>\n",
       "      <td>0</td>\n",
       "      <td>0</td>\n",
       "      <td>0</td>\n",
       "      <td>0</td>\n",
       "    </tr>\n",
       "    <tr>\n",
       "      <th>5</th>\n",
       "      <td>01.06.2018</td>\n",
       "      <td>20161.3</td>\n",
       "      <td>45292.300</td>\n",
       "      <td>24579.600</td>\n",
       "      <td>NaN</td>\n",
       "      <td>NaN</td>\n",
       "      <td>0</td>\n",
       "      <td>0</td>\n",
       "      <td>0</td>\n",
       "      <td>0</td>\n",
       "    </tr>\n",
       "    <tr>\n",
       "      <th>6</th>\n",
       "      <td>01.07.2018</td>\n",
       "      <td>21532.5</td>\n",
       "      <td>47442.900</td>\n",
       "      <td>25467.900</td>\n",
       "      <td>549.1</td>\n",
       "      <td>139.1</td>\n",
       "      <td>0</td>\n",
       "      <td>0</td>\n",
       "      <td>0</td>\n",
       "      <td>0</td>\n",
       "    </tr>\n",
       "    <tr>\n",
       "      <th>7</th>\n",
       "      <td>01.08.2018</td>\n",
       "      <td>22058.2</td>\n",
       "      <td>47429.000</td>\n",
       "      <td>24828.200</td>\n",
       "      <td>518.7</td>\n",
       "      <td>135.4</td>\n",
       "      <td>0</td>\n",
       "      <td>0</td>\n",
       "      <td>0</td>\n",
       "      <td>0</td>\n",
       "    </tr>\n",
       "    <tr>\n",
       "      <th>8</th>\n",
       "      <td>01.09.2018</td>\n",
       "      <td>21125.4</td>\n",
       "      <td>46527.300</td>\n",
       "      <td>24260.200</td>\n",
       "      <td>518.7</td>\n",
       "      <td>130.0</td>\n",
       "      <td>0</td>\n",
       "      <td>0</td>\n",
       "      <td>0</td>\n",
       "      <td>0</td>\n",
       "    </tr>\n",
       "    <tr>\n",
       "      <th>9</th>\n",
       "      <td>01.10.2018</td>\n",
       "      <td>23332.6</td>\n",
       "      <td>48286.900</td>\n",
       "      <td>23766.500</td>\n",
       "      <td>NaN</td>\n",
       "      <td>NaN</td>\n",
       "      <td>0</td>\n",
       "      <td>0</td>\n",
       "      <td>0</td>\n",
       "      <td>1</td>\n",
       "    </tr>\n",
       "    <tr>\n",
       "      <th>10</th>\n",
       "      <td>01.11.2018</td>\n",
       "      <td>21820.6</td>\n",
       "      <td>46558.100</td>\n",
       "      <td>23978.800</td>\n",
       "      <td>NaN</td>\n",
       "      <td>NaN</td>\n",
       "      <td>0</td>\n",
       "      <td>0</td>\n",
       "      <td>0</td>\n",
       "      <td>1</td>\n",
       "    </tr>\n",
       "    <tr>\n",
       "      <th>11</th>\n",
       "      <td>01.12.2018</td>\n",
       "      <td>23029.6</td>\n",
       "      <td>48443.900</td>\n",
       "      <td>25521.776</td>\n",
       "      <td>535.8</td>\n",
       "      <td>135.1</td>\n",
       "      <td>0</td>\n",
       "      <td>0</td>\n",
       "      <td>0</td>\n",
       "      <td>1</td>\n",
       "    </tr>\n",
       "    <tr>\n",
       "      <th>12</th>\n",
       "      <td>01.01.2019</td>\n",
       "      <td>22077.3</td>\n",
       "      <td>48113.791</td>\n",
       "      <td>25257.100</td>\n",
       "      <td>441.4</td>\n",
       "      <td>89.0</td>\n",
       "      <td>0</td>\n",
       "      <td>1</td>\n",
       "      <td>0</td>\n",
       "      <td>1</td>\n",
       "    </tr>\n",
       "    <tr>\n",
       "      <th>13</th>\n",
       "      <td>01.02.2019</td>\n",
       "      <td>20637.1</td>\n",
       "      <td>43296.400</td>\n",
       "      <td>22667.700</td>\n",
       "      <td>408.4</td>\n",
       "      <td>80.7</td>\n",
       "      <td>0</td>\n",
       "      <td>1</td>\n",
       "      <td>0</td>\n",
       "      <td>1</td>\n",
       "    </tr>\n",
       "    <tr>\n",
       "      <th>14</th>\n",
       "      <td>01.03.2019</td>\n",
       "      <td>22810.5</td>\n",
       "      <td>47802.300</td>\n",
       "      <td>23981.200</td>\n",
       "      <td>450.4</td>\n",
       "      <td>91.2</td>\n",
       "      <td>0</td>\n",
       "      <td>1</td>\n",
       "      <td>0</td>\n",
       "      <td>1</td>\n",
       "    </tr>\n",
       "    <tr>\n",
       "      <th>15</th>\n",
       "      <td>01.04.2019</td>\n",
       "      <td>22283.5</td>\n",
       "      <td>45999.800</td>\n",
       "      <td>22224.100</td>\n",
       "      <td>475.0</td>\n",
       "      <td>97.4</td>\n",
       "      <td>0</td>\n",
       "      <td>1</td>\n",
       "      <td>0</td>\n",
       "      <td>1</td>\n",
       "    </tr>\n",
       "    <tr>\n",
       "      <th>16</th>\n",
       "      <td>01.05.2019</td>\n",
       "      <td>21253.6</td>\n",
       "      <td>46998.200</td>\n",
       "      <td>22828.500</td>\n",
       "      <td>503.9</td>\n",
       "      <td>104.6</td>\n",
       "      <td>0</td>\n",
       "      <td>1</td>\n",
       "      <td>0</td>\n",
       "      <td>1</td>\n",
       "    </tr>\n",
       "    <tr>\n",
       "      <th>17</th>\n",
       "      <td>01.06.2019</td>\n",
       "      <td>21423.5</td>\n",
       "      <td>45673.900</td>\n",
       "      <td>23774.200</td>\n",
       "      <td>527.3</td>\n",
       "      <td>110.4</td>\n",
       "      <td>0</td>\n",
       "      <td>1</td>\n",
       "      <td>0</td>\n",
       "      <td>1</td>\n",
       "    </tr>\n",
       "    <tr>\n",
       "      <th>18</th>\n",
       "      <td>01.07.2019</td>\n",
       "      <td>23025.9</td>\n",
       "      <td>47174.000</td>\n",
       "      <td>25503.500</td>\n",
       "      <td>486.6</td>\n",
       "      <td>100.3</td>\n",
       "      <td>0</td>\n",
       "      <td>1</td>\n",
       "      <td>0</td>\n",
       "      <td>1</td>\n",
       "    </tr>\n",
       "    <tr>\n",
       "      <th>19</th>\n",
       "      <td>01.08.2019</td>\n",
       "      <td>23516.6</td>\n",
       "      <td>47806.300</td>\n",
       "      <td>25437.800</td>\n",
       "      <td>462.1</td>\n",
       "      <td>94.1</td>\n",
       "      <td>0</td>\n",
       "      <td>1</td>\n",
       "      <td>0</td>\n",
       "      <td>1</td>\n",
       "    </tr>\n",
       "    <tr>\n",
       "      <th>20</th>\n",
       "      <td>01.09.2019</td>\n",
       "      <td>22451.0</td>\n",
       "      <td>46100.300</td>\n",
       "      <td>24156.900</td>\n",
       "      <td>448.5</td>\n",
       "      <td>90.7</td>\n",
       "      <td>0</td>\n",
       "      <td>1</td>\n",
       "      <td>0</td>\n",
       "      <td>1</td>\n",
       "    </tr>\n",
       "    <tr>\n",
       "      <th>21</th>\n",
       "      <td>01.10.2019</td>\n",
       "      <td>23834.7</td>\n",
       "      <td>47534.600</td>\n",
       "      <td>24363.200</td>\n",
       "      <td>434.5</td>\n",
       "      <td>87.2</td>\n",
       "      <td>0</td>\n",
       "      <td>1</td>\n",
       "      <td>0</td>\n",
       "      <td>1</td>\n",
       "    </tr>\n",
       "    <tr>\n",
       "      <th>22</th>\n",
       "      <td>01.11.2019</td>\n",
       "      <td>20845.8</td>\n",
       "      <td>46073.000</td>\n",
       "      <td>24942.200</td>\n",
       "      <td>438.6</td>\n",
       "      <td>88.3</td>\n",
       "      <td>0</td>\n",
       "      <td>1</td>\n",
       "      <td>0</td>\n",
       "      <td>1</td>\n",
       "    </tr>\n",
       "    <tr>\n",
       "      <th>23</th>\n",
       "      <td>01.12.2019</td>\n",
       "      <td>21936.7</td>\n",
       "      <td>47684.100</td>\n",
       "      <td>25134.100</td>\n",
       "      <td>447.7</td>\n",
       "      <td>90.5</td>\n",
       "      <td>0</td>\n",
       "      <td>1</td>\n",
       "      <td>0</td>\n",
       "      <td>1</td>\n",
       "    </tr>\n",
       "    <tr>\n",
       "      <th>24</th>\n",
       "      <td>01.01.2020</td>\n",
       "      <td>21699.1</td>\n",
       "      <td>47874.700</td>\n",
       "      <td>25145.800</td>\n",
       "      <td>471.2</td>\n",
       "      <td>77.2</td>\n",
       "      <td>1</td>\n",
       "      <td>1</td>\n",
       "      <td>0</td>\n",
       "      <td>1</td>\n",
       "    </tr>\n",
       "    <tr>\n",
       "      <th>25</th>\n",
       "      <td>01.02.2020</td>\n",
       "      <td>20879.2</td>\n",
       "      <td>44711.100</td>\n",
       "      <td>23794.200</td>\n",
       "      <td>477.6</td>\n",
       "      <td>78.5</td>\n",
       "      <td>1</td>\n",
       "      <td>1</td>\n",
       "      <td>0</td>\n",
       "      <td>1</td>\n",
       "    </tr>\n",
       "  </tbody>\n",
       "</table>\n",
       "</div>"
      ],
      "text/plain": [
       "          data   Export     Output  Primary_proc  Quotation  Export_duty  \\\n",
       "0   01.01.2018  21311.3  46323.800     24551.100      499.8          NaN   \n",
       "1   01.02.2018  19266.4  41849.700     22517.200      485.5        120.1   \n",
       "2   01.03.2018  21148.1  46392.300     24392.800      483.7        119.5   \n",
       "3   01.04.2018  21329.6  44880.500     22864.600      456.6        111.4   \n",
       "4   01.05.2018  21388.9  46407.200     24687.600        NaN          NaN   \n",
       "5   01.06.2018  20161.3  45292.300     24579.600        NaN          NaN   \n",
       "6   01.07.2018  21532.5  47442.900     25467.900      549.1        139.1   \n",
       "7   01.08.2018  22058.2  47429.000     24828.200      518.7        135.4   \n",
       "8   01.09.2018  21125.4  46527.300     24260.200      518.7        130.0   \n",
       "9   01.10.2018  23332.6  48286.900     23766.500        NaN          NaN   \n",
       "10  01.11.2018  21820.6  46558.100     23978.800        NaN          NaN   \n",
       "11  01.12.2018  23029.6  48443.900     25521.776      535.8        135.1   \n",
       "12  01.01.2019  22077.3  48113.791     25257.100      441.4         89.0   \n",
       "13  01.02.2019  20637.1  43296.400     22667.700      408.4         80.7   \n",
       "14  01.03.2019  22810.5  47802.300     23981.200      450.4         91.2   \n",
       "15  01.04.2019  22283.5  45999.800     22224.100      475.0         97.4   \n",
       "16  01.05.2019  21253.6  46998.200     22828.500      503.9        104.6   \n",
       "17  01.06.2019  21423.5  45673.900     23774.200      527.3        110.4   \n",
       "18  01.07.2019  23025.9  47174.000     25503.500      486.6        100.3   \n",
       "19  01.08.2019  23516.6  47806.300     25437.800      462.1         94.1   \n",
       "20  01.09.2019  22451.0  46100.300     24156.900      448.5         90.7   \n",
       "21  01.10.2019  23834.7  47534.600     24363.200      434.5         87.2   \n",
       "22  01.11.2019  20845.8  46073.000     24942.200      438.6         88.3   \n",
       "23  01.12.2019  21936.7  47684.100     25134.100      447.7         90.5   \n",
       "24  01.01.2020  21699.1  47874.700     25145.800      471.2         77.2   \n",
       "25  01.02.2020  20879.2  44711.100     23794.200      477.6         78.5   \n",
       "\n",
       "    OPEC_convention  Venezuela_crisis  Russia_elections  Russia_max_output  \n",
       "0                 0                 0                 0                  0  \n",
       "1                 0                 0                 0                  0  \n",
       "2                 0                 0                 1                  0  \n",
       "3                 0                 0                 0                  0  \n",
       "4                 0                 0                 0                  0  \n",
       "5                 0                 0                 0                  0  \n",
       "6                 0                 0                 0                  0  \n",
       "7                 0                 0                 0                  0  \n",
       "8                 0                 0                 0                  0  \n",
       "9                 0                 0                 0                  1  \n",
       "10                0                 0                 0                  1  \n",
       "11                0                 0                 0                  1  \n",
       "12                0                 1                 0                  1  \n",
       "13                0                 1                 0                  1  \n",
       "14                0                 1                 0                  1  \n",
       "15                0                 1                 0                  1  \n",
       "16                0                 1                 0                  1  \n",
       "17                0                 1                 0                  1  \n",
       "18                0                 1                 0                  1  \n",
       "19                0                 1                 0                  1  \n",
       "20                0                 1                 0                  1  \n",
       "21                0                 1                 0                  1  \n",
       "22                0                 1                 0                  1  \n",
       "23                0                 1                 0                  1  \n",
       "24                1                 1                 0                  1  \n",
       "25                1                 1                 0                  1  "
      ]
     },
     "execution_count": 115,
     "metadata": {},
     "output_type": "execute_result"
    }
   ],
   "source": [
    "data.head(26)"
   ]
  },
  {
   "cell_type": "code",
   "execution_count": 4,
   "metadata": {},
   "outputs": [
    {
     "name": "stdout",
     "output_type": "stream",
     "text": [
      "<class 'pandas.core.frame.DataFrame'>\n",
      "RangeIndex: 26 entries, 0 to 25\n",
      "Data columns (total 10 columns):\n",
      "data                 26 non-null object\n",
      "Export               26 non-null float64\n",
      "Output               26 non-null float64\n",
      "Primary_proc         26 non-null float64\n",
      "Quotation            22 non-null float64\n",
      "Export_duty          21 non-null float64\n",
      "OPEC_convention      26 non-null int64\n",
      "Venezuela_crisis     26 non-null int64\n",
      "Russia_elections     26 non-null int64\n",
      "Russia_max_output    26 non-null int64\n",
      "dtypes: float64(5), int64(4), object(1)\n",
      "memory usage: 2.1+ KB\n"
     ]
    }
   ],
   "source": [
    "data.info()"
   ]
  },
  {
   "cell_type": "code",
   "execution_count": 5,
   "metadata": {},
   "outputs": [
    {
     "data": {
      "text/html": [
       "<div>\n",
       "<style scoped>\n",
       "    .dataframe tbody tr th:only-of-type {\n",
       "        vertical-align: middle;\n",
       "    }\n",
       "\n",
       "    .dataframe tbody tr th {\n",
       "        vertical-align: top;\n",
       "    }\n",
       "\n",
       "    .dataframe thead th {\n",
       "        text-align: right;\n",
       "    }\n",
       "</style>\n",
       "<table border=\"1\" class=\"dataframe\">\n",
       "  <thead>\n",
       "    <tr style=\"text-align: right;\">\n",
       "      <th></th>\n",
       "      <th>Export</th>\n",
       "      <th>Output</th>\n",
       "      <th>Primary_proc</th>\n",
       "      <th>Quotation</th>\n",
       "      <th>Export_duty</th>\n",
       "      <th>OPEC_convention</th>\n",
       "      <th>Venezuela_crisis</th>\n",
       "      <th>Russia_elections</th>\n",
       "      <th>Russia_max_output</th>\n",
       "    </tr>\n",
       "  </thead>\n",
       "  <tbody>\n",
       "    <tr>\n",
       "      <th>count</th>\n",
       "      <td>26.000000</td>\n",
       "      <td>26.000000</td>\n",
       "      <td>26.000000</td>\n",
       "      <td>22.000000</td>\n",
       "      <td>21.000000</td>\n",
       "      <td>26.000000</td>\n",
       "      <td>26.000000</td>\n",
       "      <td>26.000000</td>\n",
       "      <td>26.000000</td>\n",
       "    </tr>\n",
       "    <tr>\n",
       "      <th>mean</th>\n",
       "      <td>21776.115385</td>\n",
       "      <td>46487.553500</td>\n",
       "      <td>24254.876000</td>\n",
       "      <td>478.231818</td>\n",
       "      <td>103.366667</td>\n",
       "      <td>0.076923</td>\n",
       "      <td>0.538462</td>\n",
       "      <td>0.038462</td>\n",
       "      <td>0.653846</td>\n",
       "    </tr>\n",
       "    <tr>\n",
       "      <th>std</th>\n",
       "      <td>1068.142982</td>\n",
       "      <td>1552.948972</td>\n",
       "      <td>985.718481</td>\n",
       "      <td>36.769350</td>\n",
       "      <td>19.737840</td>\n",
       "      <td>0.271746</td>\n",
       "      <td>0.508391</td>\n",
       "      <td>0.196116</td>\n",
       "      <td>0.485165</td>\n",
       "    </tr>\n",
       "    <tr>\n",
       "      <th>min</th>\n",
       "      <td>19266.400000</td>\n",
       "      <td>41849.700000</td>\n",
       "      <td>22224.100000</td>\n",
       "      <td>408.400000</td>\n",
       "      <td>77.200000</td>\n",
       "      <td>0.000000</td>\n",
       "      <td>0.000000</td>\n",
       "      <td>0.000000</td>\n",
       "      <td>0.000000</td>\n",
       "    </tr>\n",
       "    <tr>\n",
       "      <th>25%</th>\n",
       "      <td>21174.475000</td>\n",
       "      <td>46018.100000</td>\n",
       "      <td>23779.200000</td>\n",
       "      <td>448.975000</td>\n",
       "      <td>89.000000</td>\n",
       "      <td>0.000000</td>\n",
       "      <td>0.000000</td>\n",
       "      <td>0.000000</td>\n",
       "      <td>0.000000</td>\n",
       "    </tr>\n",
       "    <tr>\n",
       "      <th>50%</th>\n",
       "      <td>21615.800000</td>\n",
       "      <td>46542.700000</td>\n",
       "      <td>24378.000000</td>\n",
       "      <td>476.300000</td>\n",
       "      <td>97.400000</td>\n",
       "      <td>0.000000</td>\n",
       "      <td>1.000000</td>\n",
       "      <td>0.000000</td>\n",
       "      <td>1.000000</td>\n",
       "    </tr>\n",
       "    <tr>\n",
       "      <th>75%</th>\n",
       "      <td>22409.125000</td>\n",
       "      <td>47646.725000</td>\n",
       "      <td>25086.125000</td>\n",
       "      <td>502.875000</td>\n",
       "      <td>119.500000</td>\n",
       "      <td>0.000000</td>\n",
       "      <td>1.000000</td>\n",
       "      <td>0.000000</td>\n",
       "      <td>1.000000</td>\n",
       "    </tr>\n",
       "    <tr>\n",
       "      <th>max</th>\n",
       "      <td>23834.700000</td>\n",
       "      <td>48443.900000</td>\n",
       "      <td>25521.776000</td>\n",
       "      <td>549.100000</td>\n",
       "      <td>139.100000</td>\n",
       "      <td>1.000000</td>\n",
       "      <td>1.000000</td>\n",
       "      <td>1.000000</td>\n",
       "      <td>1.000000</td>\n",
       "    </tr>\n",
       "  </tbody>\n",
       "</table>\n",
       "</div>"
      ],
      "text/plain": [
       "             Export        Output  Primary_proc   Quotation  Export_duty  \\\n",
       "count     26.000000     26.000000     26.000000   22.000000    21.000000   \n",
       "mean   21776.115385  46487.553500  24254.876000  478.231818   103.366667   \n",
       "std     1068.142982   1552.948972    985.718481   36.769350    19.737840   \n",
       "min    19266.400000  41849.700000  22224.100000  408.400000    77.200000   \n",
       "25%    21174.475000  46018.100000  23779.200000  448.975000    89.000000   \n",
       "50%    21615.800000  46542.700000  24378.000000  476.300000    97.400000   \n",
       "75%    22409.125000  47646.725000  25086.125000  502.875000   119.500000   \n",
       "max    23834.700000  48443.900000  25521.776000  549.100000   139.100000   \n",
       "\n",
       "       OPEC_convention  Venezuela_crisis  Russia_elections  Russia_max_output  \n",
       "count        26.000000         26.000000         26.000000          26.000000  \n",
       "mean          0.076923          0.538462          0.038462           0.653846  \n",
       "std           0.271746          0.508391          0.196116           0.485165  \n",
       "min           0.000000          0.000000          0.000000           0.000000  \n",
       "25%           0.000000          0.000000          0.000000           0.000000  \n",
       "50%           0.000000          1.000000          0.000000           1.000000  \n",
       "75%           0.000000          1.000000          0.000000           1.000000  \n",
       "max           1.000000          1.000000          1.000000           1.000000  "
      ]
     },
     "execution_count": 5,
     "metadata": {},
     "output_type": "execute_result"
    }
   ],
   "source": [
    "data.describe()"
   ]
  },
  {
   "cell_type": "code",
   "execution_count": 6,
   "metadata": {},
   "outputs": [
    {
     "data": {
      "text/plain": [
       "data                 0\n",
       "Export               0\n",
       "Output               0\n",
       "Primary_proc         0\n",
       "Quotation            4\n",
       "Export_duty          5\n",
       "OPEC_convention      0\n",
       "Venezuela_crisis     0\n",
       "Russia_elections     0\n",
       "Russia_max_output    0\n",
       "dtype: int64"
      ]
     },
     "execution_count": 6,
     "metadata": {},
     "output_type": "execute_result"
    }
   ],
   "source": [
    "data.isnull().sum()"
   ]
  },
  {
   "cell_type": "markdown",
   "metadata": {},
   "source": [
    "В рядке с котировками и экспортными пошлинами имеются выбросы. Заменим выбросы предыдущими значениями, полагая, что, так как не было опубликовано новых данных, актуальны предыдущие до момента публикации новых."
   ]
  },
  {
   "cell_type": "code",
   "execution_count": 363,
   "metadata": {},
   "outputs": [],
   "source": [
    "#data = data.drop(['Primary_proc'], axis=1)\n",
    "#data.head(5)"
   ]
  },
  {
   "cell_type": "code",
   "execution_count": 364,
   "metadata": {},
   "outputs": [],
   "source": [
    "#data = data.drop(['OPEC_convention'], axis=1)\n",
    "#data.head(5)"
   ]
  },
  {
   "cell_type": "code",
   "execution_count": 365,
   "metadata": {},
   "outputs": [],
   "source": [
    "#data = data.drop(['Venezuela_crisis','Russia_elections','Russia_max_output'], axis=1)\n",
    "#data.head(5)"
   ]
  },
  {
   "cell_type": "code",
   "execution_count": 23,
   "metadata": {
    "scrolled": true
   },
   "outputs": [
    {
     "data": {
      "text/html": [
       "<div>\n",
       "<style scoped>\n",
       "    .dataframe tbody tr th:only-of-type {\n",
       "        vertical-align: middle;\n",
       "    }\n",
       "\n",
       "    .dataframe tbody tr th {\n",
       "        vertical-align: top;\n",
       "    }\n",
       "\n",
       "    .dataframe thead th {\n",
       "        text-align: right;\n",
       "    }\n",
       "</style>\n",
       "<table border=\"1\" class=\"dataframe\">\n",
       "  <thead>\n",
       "    <tr style=\"text-align: right;\">\n",
       "      <th></th>\n",
       "      <th>data</th>\n",
       "      <th>Export</th>\n",
       "      <th>Output</th>\n",
       "      <th>Primary_proc</th>\n",
       "      <th>Quotation</th>\n",
       "      <th>Export_duty</th>\n",
       "      <th>OPEC_convention</th>\n",
       "      <th>Venezuela_crisis</th>\n",
       "      <th>Russia_elections</th>\n",
       "      <th>Russia_max_output</th>\n",
       "    </tr>\n",
       "  </thead>\n",
       "  <tbody>\n",
       "    <tr>\n",
       "      <th>0</th>\n",
       "      <td>01.01.2018</td>\n",
       "      <td>21311.3</td>\n",
       "      <td>46323.8</td>\n",
       "      <td>24551.1</td>\n",
       "      <td>499.8</td>\n",
       "      <td>NaN</td>\n",
       "      <td>0</td>\n",
       "      <td>0</td>\n",
       "      <td>0</td>\n",
       "      <td>0</td>\n",
       "    </tr>\n",
       "    <tr>\n",
       "      <th>1</th>\n",
       "      <td>01.02.2018</td>\n",
       "      <td>19266.4</td>\n",
       "      <td>41849.7</td>\n",
       "      <td>22517.2</td>\n",
       "      <td>485.5</td>\n",
       "      <td>120.1</td>\n",
       "      <td>0</td>\n",
       "      <td>0</td>\n",
       "      <td>0</td>\n",
       "      <td>0</td>\n",
       "    </tr>\n",
       "    <tr>\n",
       "      <th>2</th>\n",
       "      <td>01.03.2018</td>\n",
       "      <td>21148.1</td>\n",
       "      <td>46392.3</td>\n",
       "      <td>24392.8</td>\n",
       "      <td>483.7</td>\n",
       "      <td>119.5</td>\n",
       "      <td>0</td>\n",
       "      <td>0</td>\n",
       "      <td>1</td>\n",
       "      <td>0</td>\n",
       "    </tr>\n",
       "    <tr>\n",
       "      <th>3</th>\n",
       "      <td>01.04.2018</td>\n",
       "      <td>21329.6</td>\n",
       "      <td>44880.5</td>\n",
       "      <td>22864.6</td>\n",
       "      <td>456.6</td>\n",
       "      <td>111.4</td>\n",
       "      <td>0</td>\n",
       "      <td>0</td>\n",
       "      <td>0</td>\n",
       "      <td>0</td>\n",
       "    </tr>\n",
       "    <tr>\n",
       "      <th>4</th>\n",
       "      <td>01.05.2018</td>\n",
       "      <td>21388.9</td>\n",
       "      <td>46407.2</td>\n",
       "      <td>24687.6</td>\n",
       "      <td>NaN</td>\n",
       "      <td>111.4</td>\n",
       "      <td>0</td>\n",
       "      <td>0</td>\n",
       "      <td>0</td>\n",
       "      <td>0</td>\n",
       "    </tr>\n",
       "  </tbody>\n",
       "</table>\n",
       "</div>"
      ],
      "text/plain": [
       "         data   Export   Output  Primary_proc  Quotation  Export_duty  \\\n",
       "0  01.01.2018  21311.3  46323.8       24551.1      499.8          NaN   \n",
       "1  01.02.2018  19266.4  41849.7       22517.2      485.5        120.1   \n",
       "2  01.03.2018  21148.1  46392.3       24392.8      483.7        119.5   \n",
       "3  01.04.2018  21329.6  44880.5       22864.6      456.6        111.4   \n",
       "4  01.05.2018  21388.9  46407.2       24687.6        NaN        111.4   \n",
       "\n",
       "   OPEC_convention  Venezuela_crisis  Russia_elections  Russia_max_output  \n",
       "0                0                 0                 0                  0  \n",
       "1                0                 0                 0                  0  \n",
       "2                0                 0                 1                  0  \n",
       "3                0                 0                 0                  0  \n",
       "4                0                 0                 0                  0  "
      ]
     },
     "execution_count": 23,
     "metadata": {},
     "output_type": "execute_result"
    }
   ],
   "source": [
    "data['Export_duty'].fillna(method='ffill', inplace = True)\n",
    "data.head()"
   ]
  },
  {
   "cell_type": "code",
   "execution_count": 24,
   "metadata": {},
   "outputs": [
    {
     "data": {
      "text/html": [
       "<div>\n",
       "<style scoped>\n",
       "    .dataframe tbody tr th:only-of-type {\n",
       "        vertical-align: middle;\n",
       "    }\n",
       "\n",
       "    .dataframe tbody tr th {\n",
       "        vertical-align: top;\n",
       "    }\n",
       "\n",
       "    .dataframe thead th {\n",
       "        text-align: right;\n",
       "    }\n",
       "</style>\n",
       "<table border=\"1\" class=\"dataframe\">\n",
       "  <thead>\n",
       "    <tr style=\"text-align: right;\">\n",
       "      <th></th>\n",
       "      <th>data</th>\n",
       "      <th>Export</th>\n",
       "      <th>Output</th>\n",
       "      <th>Primary_proc</th>\n",
       "      <th>Quotation</th>\n",
       "      <th>Export_duty</th>\n",
       "      <th>OPEC_convention</th>\n",
       "      <th>Venezuela_crisis</th>\n",
       "      <th>Russia_elections</th>\n",
       "      <th>Russia_max_output</th>\n",
       "    </tr>\n",
       "  </thead>\n",
       "  <tbody>\n",
       "    <tr>\n",
       "      <th>1</th>\n",
       "      <td>01.02.2018</td>\n",
       "      <td>19266.4</td>\n",
       "      <td>41849.7</td>\n",
       "      <td>22517.2</td>\n",
       "      <td>485.5</td>\n",
       "      <td>120.1</td>\n",
       "      <td>0</td>\n",
       "      <td>0</td>\n",
       "      <td>0</td>\n",
       "      <td>0</td>\n",
       "    </tr>\n",
       "    <tr>\n",
       "      <th>2</th>\n",
       "      <td>01.03.2018</td>\n",
       "      <td>21148.1</td>\n",
       "      <td>46392.3</td>\n",
       "      <td>24392.8</td>\n",
       "      <td>483.7</td>\n",
       "      <td>119.5</td>\n",
       "      <td>0</td>\n",
       "      <td>0</td>\n",
       "      <td>1</td>\n",
       "      <td>0</td>\n",
       "    </tr>\n",
       "    <tr>\n",
       "      <th>3</th>\n",
       "      <td>01.04.2018</td>\n",
       "      <td>21329.6</td>\n",
       "      <td>44880.5</td>\n",
       "      <td>22864.6</td>\n",
       "      <td>456.6</td>\n",
       "      <td>111.4</td>\n",
       "      <td>0</td>\n",
       "      <td>0</td>\n",
       "      <td>0</td>\n",
       "      <td>0</td>\n",
       "    </tr>\n",
       "    <tr>\n",
       "      <th>4</th>\n",
       "      <td>01.05.2018</td>\n",
       "      <td>21388.9</td>\n",
       "      <td>46407.2</td>\n",
       "      <td>24687.6</td>\n",
       "      <td>NaN</td>\n",
       "      <td>111.4</td>\n",
       "      <td>0</td>\n",
       "      <td>0</td>\n",
       "      <td>0</td>\n",
       "      <td>0</td>\n",
       "    </tr>\n",
       "    <tr>\n",
       "      <th>5</th>\n",
       "      <td>01.06.2018</td>\n",
       "      <td>20161.3</td>\n",
       "      <td>45292.3</td>\n",
       "      <td>24579.6</td>\n",
       "      <td>NaN</td>\n",
       "      <td>111.4</td>\n",
       "      <td>0</td>\n",
       "      <td>0</td>\n",
       "      <td>0</td>\n",
       "      <td>0</td>\n",
       "    </tr>\n",
       "  </tbody>\n",
       "</table>\n",
       "</div>"
      ],
      "text/plain": [
       "         data   Export   Output  Primary_proc  Quotation  Export_duty  \\\n",
       "1  01.02.2018  19266.4  41849.7       22517.2      485.5        120.1   \n",
       "2  01.03.2018  21148.1  46392.3       24392.8      483.7        119.5   \n",
       "3  01.04.2018  21329.6  44880.5       22864.6      456.6        111.4   \n",
       "4  01.05.2018  21388.9  46407.2       24687.6        NaN        111.4   \n",
       "5  01.06.2018  20161.3  45292.3       24579.6        NaN        111.4   \n",
       "\n",
       "   OPEC_convention  Venezuela_crisis  Russia_elections  Russia_max_output  \n",
       "1                0                 0                 0                  0  \n",
       "2                0                 0                 1                  0  \n",
       "3                0                 0                 0                  0  \n",
       "4                0                 0                 0                  0  \n",
       "5                0                 0                 0                  0  "
      ]
     },
     "execution_count": 24,
     "metadata": {},
     "output_type": "execute_result"
    }
   ],
   "source": [
    "data = data.drop(data.index[0])\n",
    "data.head()"
   ]
  },
  {
   "cell_type": "code",
   "execution_count": 25,
   "metadata": {},
   "outputs": [
    {
     "data": {
      "text/html": [
       "<div>\n",
       "<style scoped>\n",
       "    .dataframe tbody tr th:only-of-type {\n",
       "        vertical-align: middle;\n",
       "    }\n",
       "\n",
       "    .dataframe tbody tr th {\n",
       "        vertical-align: top;\n",
       "    }\n",
       "\n",
       "    .dataframe thead th {\n",
       "        text-align: right;\n",
       "    }\n",
       "</style>\n",
       "<table border=\"1\" class=\"dataframe\">\n",
       "  <thead>\n",
       "    <tr style=\"text-align: right;\">\n",
       "      <th></th>\n",
       "      <th>data</th>\n",
       "      <th>Export</th>\n",
       "      <th>Output</th>\n",
       "      <th>Primary_proc</th>\n",
       "      <th>Quotation</th>\n",
       "      <th>Export_duty</th>\n",
       "      <th>OPEC_convention</th>\n",
       "      <th>Venezuela_crisis</th>\n",
       "      <th>Russia_elections</th>\n",
       "      <th>Russia_max_output</th>\n",
       "    </tr>\n",
       "  </thead>\n",
       "  <tbody>\n",
       "    <tr>\n",
       "      <th>1</th>\n",
       "      <td>01.02.2018</td>\n",
       "      <td>19266.4</td>\n",
       "      <td>41849.700</td>\n",
       "      <td>22517.200</td>\n",
       "      <td>485.5</td>\n",
       "      <td>120.1</td>\n",
       "      <td>0</td>\n",
       "      <td>0</td>\n",
       "      <td>0</td>\n",
       "      <td>0</td>\n",
       "    </tr>\n",
       "    <tr>\n",
       "      <th>2</th>\n",
       "      <td>01.03.2018</td>\n",
       "      <td>21148.1</td>\n",
       "      <td>46392.300</td>\n",
       "      <td>24392.800</td>\n",
       "      <td>483.7</td>\n",
       "      <td>119.5</td>\n",
       "      <td>0</td>\n",
       "      <td>0</td>\n",
       "      <td>1</td>\n",
       "      <td>0</td>\n",
       "    </tr>\n",
       "    <tr>\n",
       "      <th>3</th>\n",
       "      <td>01.04.2018</td>\n",
       "      <td>21329.6</td>\n",
       "      <td>44880.500</td>\n",
       "      <td>22864.600</td>\n",
       "      <td>456.6</td>\n",
       "      <td>111.4</td>\n",
       "      <td>0</td>\n",
       "      <td>0</td>\n",
       "      <td>0</td>\n",
       "      <td>0</td>\n",
       "    </tr>\n",
       "    <tr>\n",
       "      <th>4</th>\n",
       "      <td>01.05.2018</td>\n",
       "      <td>21388.9</td>\n",
       "      <td>46407.200</td>\n",
       "      <td>24687.600</td>\n",
       "      <td>456.6</td>\n",
       "      <td>111.4</td>\n",
       "      <td>0</td>\n",
       "      <td>0</td>\n",
       "      <td>0</td>\n",
       "      <td>0</td>\n",
       "    </tr>\n",
       "    <tr>\n",
       "      <th>5</th>\n",
       "      <td>01.06.2018</td>\n",
       "      <td>20161.3</td>\n",
       "      <td>45292.300</td>\n",
       "      <td>24579.600</td>\n",
       "      <td>456.6</td>\n",
       "      <td>111.4</td>\n",
       "      <td>0</td>\n",
       "      <td>0</td>\n",
       "      <td>0</td>\n",
       "      <td>0</td>\n",
       "    </tr>\n",
       "    <tr>\n",
       "      <th>6</th>\n",
       "      <td>01.07.2018</td>\n",
       "      <td>21532.5</td>\n",
       "      <td>47442.900</td>\n",
       "      <td>25467.900</td>\n",
       "      <td>549.1</td>\n",
       "      <td>139.1</td>\n",
       "      <td>0</td>\n",
       "      <td>0</td>\n",
       "      <td>0</td>\n",
       "      <td>0</td>\n",
       "    </tr>\n",
       "    <tr>\n",
       "      <th>7</th>\n",
       "      <td>01.08.2018</td>\n",
       "      <td>22058.2</td>\n",
       "      <td>47429.000</td>\n",
       "      <td>24828.200</td>\n",
       "      <td>518.7</td>\n",
       "      <td>135.4</td>\n",
       "      <td>0</td>\n",
       "      <td>0</td>\n",
       "      <td>0</td>\n",
       "      <td>0</td>\n",
       "    </tr>\n",
       "    <tr>\n",
       "      <th>8</th>\n",
       "      <td>01.09.2018</td>\n",
       "      <td>21125.4</td>\n",
       "      <td>46527.300</td>\n",
       "      <td>24260.200</td>\n",
       "      <td>518.7</td>\n",
       "      <td>130.0</td>\n",
       "      <td>0</td>\n",
       "      <td>0</td>\n",
       "      <td>0</td>\n",
       "      <td>0</td>\n",
       "    </tr>\n",
       "    <tr>\n",
       "      <th>9</th>\n",
       "      <td>01.10.2018</td>\n",
       "      <td>23332.6</td>\n",
       "      <td>48286.900</td>\n",
       "      <td>23766.500</td>\n",
       "      <td>518.7</td>\n",
       "      <td>130.0</td>\n",
       "      <td>0</td>\n",
       "      <td>0</td>\n",
       "      <td>0</td>\n",
       "      <td>1</td>\n",
       "    </tr>\n",
       "    <tr>\n",
       "      <th>10</th>\n",
       "      <td>01.11.2018</td>\n",
       "      <td>21820.6</td>\n",
       "      <td>46558.100</td>\n",
       "      <td>23978.800</td>\n",
       "      <td>518.7</td>\n",
       "      <td>130.0</td>\n",
       "      <td>0</td>\n",
       "      <td>0</td>\n",
       "      <td>0</td>\n",
       "      <td>1</td>\n",
       "    </tr>\n",
       "    <tr>\n",
       "      <th>11</th>\n",
       "      <td>01.12.2018</td>\n",
       "      <td>23029.6</td>\n",
       "      <td>48443.900</td>\n",
       "      <td>25521.776</td>\n",
       "      <td>535.8</td>\n",
       "      <td>135.1</td>\n",
       "      <td>0</td>\n",
       "      <td>0</td>\n",
       "      <td>0</td>\n",
       "      <td>1</td>\n",
       "    </tr>\n",
       "    <tr>\n",
       "      <th>12</th>\n",
       "      <td>01.01.2019</td>\n",
       "      <td>22077.3</td>\n",
       "      <td>48113.791</td>\n",
       "      <td>25257.100</td>\n",
       "      <td>441.4</td>\n",
       "      <td>89.0</td>\n",
       "      <td>0</td>\n",
       "      <td>1</td>\n",
       "      <td>0</td>\n",
       "      <td>1</td>\n",
       "    </tr>\n",
       "    <tr>\n",
       "      <th>13</th>\n",
       "      <td>01.02.2019</td>\n",
       "      <td>20637.1</td>\n",
       "      <td>43296.400</td>\n",
       "      <td>22667.700</td>\n",
       "      <td>408.4</td>\n",
       "      <td>80.7</td>\n",
       "      <td>0</td>\n",
       "      <td>1</td>\n",
       "      <td>0</td>\n",
       "      <td>1</td>\n",
       "    </tr>\n",
       "    <tr>\n",
       "      <th>14</th>\n",
       "      <td>01.03.2019</td>\n",
       "      <td>22810.5</td>\n",
       "      <td>47802.300</td>\n",
       "      <td>23981.200</td>\n",
       "      <td>450.4</td>\n",
       "      <td>91.2</td>\n",
       "      <td>0</td>\n",
       "      <td>1</td>\n",
       "      <td>0</td>\n",
       "      <td>1</td>\n",
       "    </tr>\n",
       "    <tr>\n",
       "      <th>15</th>\n",
       "      <td>01.04.2019</td>\n",
       "      <td>22283.5</td>\n",
       "      <td>45999.800</td>\n",
       "      <td>22224.100</td>\n",
       "      <td>475.0</td>\n",
       "      <td>97.4</td>\n",
       "      <td>0</td>\n",
       "      <td>1</td>\n",
       "      <td>0</td>\n",
       "      <td>1</td>\n",
       "    </tr>\n",
       "    <tr>\n",
       "      <th>16</th>\n",
       "      <td>01.05.2019</td>\n",
       "      <td>21253.6</td>\n",
       "      <td>46998.200</td>\n",
       "      <td>22828.500</td>\n",
       "      <td>503.9</td>\n",
       "      <td>104.6</td>\n",
       "      <td>0</td>\n",
       "      <td>1</td>\n",
       "      <td>0</td>\n",
       "      <td>1</td>\n",
       "    </tr>\n",
       "    <tr>\n",
       "      <th>17</th>\n",
       "      <td>01.06.2019</td>\n",
       "      <td>21423.5</td>\n",
       "      <td>45673.900</td>\n",
       "      <td>23774.200</td>\n",
       "      <td>527.3</td>\n",
       "      <td>110.4</td>\n",
       "      <td>0</td>\n",
       "      <td>1</td>\n",
       "      <td>0</td>\n",
       "      <td>1</td>\n",
       "    </tr>\n",
       "    <tr>\n",
       "      <th>18</th>\n",
       "      <td>01.07.2019</td>\n",
       "      <td>23025.9</td>\n",
       "      <td>47174.000</td>\n",
       "      <td>25503.500</td>\n",
       "      <td>486.6</td>\n",
       "      <td>100.3</td>\n",
       "      <td>0</td>\n",
       "      <td>1</td>\n",
       "      <td>0</td>\n",
       "      <td>1</td>\n",
       "    </tr>\n",
       "    <tr>\n",
       "      <th>19</th>\n",
       "      <td>01.08.2019</td>\n",
       "      <td>23516.6</td>\n",
       "      <td>47806.300</td>\n",
       "      <td>25437.800</td>\n",
       "      <td>462.1</td>\n",
       "      <td>94.1</td>\n",
       "      <td>0</td>\n",
       "      <td>1</td>\n",
       "      <td>0</td>\n",
       "      <td>1</td>\n",
       "    </tr>\n",
       "    <tr>\n",
       "      <th>20</th>\n",
       "      <td>01.09.2019</td>\n",
       "      <td>22451.0</td>\n",
       "      <td>46100.300</td>\n",
       "      <td>24156.900</td>\n",
       "      <td>448.5</td>\n",
       "      <td>90.7</td>\n",
       "      <td>0</td>\n",
       "      <td>1</td>\n",
       "      <td>0</td>\n",
       "      <td>1</td>\n",
       "    </tr>\n",
       "    <tr>\n",
       "      <th>21</th>\n",
       "      <td>01.10.2019</td>\n",
       "      <td>23834.7</td>\n",
       "      <td>47534.600</td>\n",
       "      <td>24363.200</td>\n",
       "      <td>434.5</td>\n",
       "      <td>87.2</td>\n",
       "      <td>0</td>\n",
       "      <td>1</td>\n",
       "      <td>0</td>\n",
       "      <td>1</td>\n",
       "    </tr>\n",
       "    <tr>\n",
       "      <th>22</th>\n",
       "      <td>01.11.2019</td>\n",
       "      <td>20845.8</td>\n",
       "      <td>46073.000</td>\n",
       "      <td>24942.200</td>\n",
       "      <td>438.6</td>\n",
       "      <td>88.3</td>\n",
       "      <td>0</td>\n",
       "      <td>1</td>\n",
       "      <td>0</td>\n",
       "      <td>1</td>\n",
       "    </tr>\n",
       "  </tbody>\n",
       "</table>\n",
       "</div>"
      ],
      "text/plain": [
       "          data   Export     Output  Primary_proc  Quotation  Export_duty  \\\n",
       "1   01.02.2018  19266.4  41849.700     22517.200      485.5        120.1   \n",
       "2   01.03.2018  21148.1  46392.300     24392.800      483.7        119.5   \n",
       "3   01.04.2018  21329.6  44880.500     22864.600      456.6        111.4   \n",
       "4   01.05.2018  21388.9  46407.200     24687.600      456.6        111.4   \n",
       "5   01.06.2018  20161.3  45292.300     24579.600      456.6        111.4   \n",
       "6   01.07.2018  21532.5  47442.900     25467.900      549.1        139.1   \n",
       "7   01.08.2018  22058.2  47429.000     24828.200      518.7        135.4   \n",
       "8   01.09.2018  21125.4  46527.300     24260.200      518.7        130.0   \n",
       "9   01.10.2018  23332.6  48286.900     23766.500      518.7        130.0   \n",
       "10  01.11.2018  21820.6  46558.100     23978.800      518.7        130.0   \n",
       "11  01.12.2018  23029.6  48443.900     25521.776      535.8        135.1   \n",
       "12  01.01.2019  22077.3  48113.791     25257.100      441.4         89.0   \n",
       "13  01.02.2019  20637.1  43296.400     22667.700      408.4         80.7   \n",
       "14  01.03.2019  22810.5  47802.300     23981.200      450.4         91.2   \n",
       "15  01.04.2019  22283.5  45999.800     22224.100      475.0         97.4   \n",
       "16  01.05.2019  21253.6  46998.200     22828.500      503.9        104.6   \n",
       "17  01.06.2019  21423.5  45673.900     23774.200      527.3        110.4   \n",
       "18  01.07.2019  23025.9  47174.000     25503.500      486.6        100.3   \n",
       "19  01.08.2019  23516.6  47806.300     25437.800      462.1         94.1   \n",
       "20  01.09.2019  22451.0  46100.300     24156.900      448.5         90.7   \n",
       "21  01.10.2019  23834.7  47534.600     24363.200      434.5         87.2   \n",
       "22  01.11.2019  20845.8  46073.000     24942.200      438.6         88.3   \n",
       "\n",
       "    OPEC_convention  Venezuela_crisis  Russia_elections  Russia_max_output  \n",
       "1                 0                 0                 0                  0  \n",
       "2                 0                 0                 1                  0  \n",
       "3                 0                 0                 0                  0  \n",
       "4                 0                 0                 0                  0  \n",
       "5                 0                 0                 0                  0  \n",
       "6                 0                 0                 0                  0  \n",
       "7                 0                 0                 0                  0  \n",
       "8                 0                 0                 0                  0  \n",
       "9                 0                 0                 0                  1  \n",
       "10                0                 0                 0                  1  \n",
       "11                0                 0                 0                  1  \n",
       "12                0                 1                 0                  1  \n",
       "13                0                 1                 0                  1  \n",
       "14                0                 1                 0                  1  \n",
       "15                0                 1                 0                  1  \n",
       "16                0                 1                 0                  1  \n",
       "17                0                 1                 0                  1  \n",
       "18                0                 1                 0                  1  \n",
       "19                0                 1                 0                  1  \n",
       "20                0                 1                 0                  1  \n",
       "21                0                 1                 0                  1  \n",
       "22                0                 1                 0                  1  "
      ]
     },
     "execution_count": 25,
     "metadata": {},
     "output_type": "execute_result"
    }
   ],
   "source": [
    "data['Quotation'].fillna(method='ffill', inplace = True)\n",
    "data.head(22)"
   ]
  },
  {
   "cell_type": "code",
   "execution_count": 26,
   "metadata": {},
   "outputs": [],
   "source": [
    "import matplotlib.pyplot as plt\n"
   ]
  },
  {
   "cell_type": "code",
   "execution_count": 27,
   "metadata": {},
   "outputs": [
    {
     "data": {
      "text/plain": [
       "<matplotlib.axes._subplots.AxesSubplot at 0x1c1dd62ba8>"
      ]
     },
     "execution_count": 27,
     "metadata": {},
     "output_type": "execute_result"
    },
    {
     "data": {
      "image/png": "[encoded data removed]",
      "text/plain": [
       "<Figure size 432x288 with 1 Axes>"
      ]
     },
     "metadata": {
      "needs_background": "light"
     },
     "output_type": "display_data"
    }
   ],
   "source": [
    "data['Export'].hist()"
   ]
  },
  {
   "cell_type": "code",
   "execution_count": 28,
   "metadata": {
    "scrolled": true
   },
   "outputs": [
    {
     "data": {
      "image/png": "[encoded data removed]",
      "text/plain": [
       "<Figure size 432x288 with 1 Axes>"
      ]
     },
     "metadata": {
      "needs_background": "light"
     },
     "output_type": "display_data"
    }
   ],
   "source": [
    "sns.distplot(data['Export'])\n",
    "plt.title('Плотность вероятности распределения экспорта нефти')\n",
    "plt.show()"
   ]
  },
  {
   "cell_type": "code",
   "execution_count": 13,
   "metadata": {},
   "outputs": [
    {
     "data": {
      "image/png": "[encoded data removed]",
      "text/plain": [
       "<Figure size 432x288 with 1 Axes>"
      ]
     },
     "metadata": {
      "needs_background": "light"
     },
     "output_type": "display_data"
    }
   ],
   "source": [
    "sns.distplot(data['Output'])\n",
    "plt.title('Плотность вероятности распределения добычи нефти')\n",
    "plt.show()\n"
   ]
  },
  {
   "cell_type": "code",
   "execution_count": 14,
   "metadata": {},
   "outputs": [
    {
     "data": {
      "image/png": "[encoded data removed]",
      "text/plain": [
       "<Figure size 432x288 with 1 Axes>"
      ]
     },
     "metadata": {
      "needs_background": "light"
     },
     "output_type": "display_data"
    }
   ],
   "source": [
    "sns.distplot(data['Quotation'])\n",
    "plt.title('Плотность вероятности распределения котировок нефти')\n",
    "plt.show()\n",
    "\n"
   ]
  },
  {
   "cell_type": "code",
   "execution_count": 374,
   "metadata": {},
   "outputs": [
    {
     "data": {
      "image/png": "[encoded data removed]",
      "text/plain": [
       "<Figure size 432x288 with 1 Axes>"
      ]
     },
     "metadata": {
      "needs_background": "light"
     },
     "output_type": "display_data"
    }
   ],
   "source": [
    "sns.distplot(data['Primary_proc'])\n",
    "plt.title('Плотность вероятности распределения нефти, направленной на переработку')\n",
    "plt.show()"
   ]
  },
  {
   "cell_type": "code",
   "execution_count": 15,
   "metadata": {},
   "outputs": [
    {
     "data": {
      "image/png": "[encoded data removed]",
      "text/plain": [
       "<Figure size 432x288 with 1 Axes>"
      ]
     },
     "metadata": {
      "needs_background": "light"
     },
     "output_type": "display_data"
    }
   ],
   "source": [
    "sns.distplot(data['Export_duty'])\n",
    "plt.title('Плотность вероятности распределения экспортной пошлины')\n",
    "plt.show()"
   ]
  },
  {
   "cell_type": "code",
   "execution_count": 16,
   "metadata": {},
   "outputs": [
    {
     "data": {
      "text/html": [
       "<div>\n",
       "<style scoped>\n",
       "    .dataframe tbody tr th:only-of-type {\n",
       "        vertical-align: middle;\n",
       "    }\n",
       "\n",
       "    .dataframe tbody tr th {\n",
       "        vertical-align: top;\n",
       "    }\n",
       "\n",
       "    .dataframe thead th {\n",
       "        text-align: right;\n",
       "    }\n",
       "</style>\n",
       "<table border=\"1\" class=\"dataframe\">\n",
       "  <thead>\n",
       "    <tr style=\"text-align: right;\">\n",
       "      <th></th>\n",
       "      <th>Export</th>\n",
       "      <th>Output</th>\n",
       "      <th>Primary_proc</th>\n",
       "      <th>Quotation</th>\n",
       "      <th>Export_duty</th>\n",
       "      <th>OPEC_convention</th>\n",
       "      <th>Venezuela_crisis</th>\n",
       "      <th>Russia_elections</th>\n",
       "      <th>Russia_max_output</th>\n",
       "    </tr>\n",
       "  </thead>\n",
       "  <tbody>\n",
       "    <tr>\n",
       "      <th>count</th>\n",
       "      <td>25.000000</td>\n",
       "      <td>25.000000</td>\n",
       "      <td>25.000000</td>\n",
       "      <td>25.000000</td>\n",
       "      <td>25.00000</td>\n",
       "      <td>25.000000</td>\n",
       "      <td>25.000000</td>\n",
       "      <td>25.00</td>\n",
       "      <td>25.000000</td>\n",
       "    </tr>\n",
       "    <tr>\n",
       "      <th>mean</th>\n",
       "      <td>21794.708000</td>\n",
       "      <td>46494.103640</td>\n",
       "      <td>24243.027040</td>\n",
       "      <td>478.876000</td>\n",
       "      <td>106.14000</td>\n",
       "      <td>0.080000</td>\n",
       "      <td>0.560000</td>\n",
       "      <td>0.04</td>\n",
       "      <td>0.680000</td>\n",
       "    </tr>\n",
       "    <tr>\n",
       "      <th>std</th>\n",
       "      <td>1085.866403</td>\n",
       "      <td>1584.605299</td>\n",
       "      <td>1004.153136</td>\n",
       "      <td>36.587421</td>\n",
       "      <td>19.52253</td>\n",
       "      <td>0.276887</td>\n",
       "      <td>0.506623</td>\n",
       "      <td>0.20</td>\n",
       "      <td>0.476095</td>\n",
       "    </tr>\n",
       "    <tr>\n",
       "      <th>min</th>\n",
       "      <td>19266.400000</td>\n",
       "      <td>41849.700000</td>\n",
       "      <td>22224.100000</td>\n",
       "      <td>408.400000</td>\n",
       "      <td>77.20000</td>\n",
       "      <td>0.000000</td>\n",
       "      <td>0.000000</td>\n",
       "      <td>0.00</td>\n",
       "      <td>0.000000</td>\n",
       "    </tr>\n",
       "    <tr>\n",
       "      <th>25%</th>\n",
       "      <td>21148.100000</td>\n",
       "      <td>45999.800000</td>\n",
       "      <td>23774.200000</td>\n",
       "      <td>450.400000</td>\n",
       "      <td>90.50000</td>\n",
       "      <td>0.000000</td>\n",
       "      <td>0.000000</td>\n",
       "      <td>0.00</td>\n",
       "      <td>0.000000</td>\n",
       "    </tr>\n",
       "    <tr>\n",
       "      <th>50%</th>\n",
       "      <td>21699.100000</td>\n",
       "      <td>46558.100000</td>\n",
       "      <td>24363.200000</td>\n",
       "      <td>475.000000</td>\n",
       "      <td>104.60000</td>\n",
       "      <td>0.000000</td>\n",
       "      <td>1.000000</td>\n",
       "      <td>0.00</td>\n",
       "      <td>1.000000</td>\n",
       "    </tr>\n",
       "    <tr>\n",
       "      <th>75%</th>\n",
       "      <td>22451.000000</td>\n",
       "      <td>47684.100000</td>\n",
       "      <td>25134.100000</td>\n",
       "      <td>518.700000</td>\n",
       "      <td>120.10000</td>\n",
       "      <td>0.000000</td>\n",
       "      <td>1.000000</td>\n",
       "      <td>0.00</td>\n",
       "      <td>1.000000</td>\n",
       "    </tr>\n",
       "    <tr>\n",
       "      <th>max</th>\n",
       "      <td>23834.700000</td>\n",
       "      <td>48443.900000</td>\n",
       "      <td>25521.776000</td>\n",
       "      <td>549.100000</td>\n",
       "      <td>139.10000</td>\n",
       "      <td>1.000000</td>\n",
       "      <td>1.000000</td>\n",
       "      <td>1.00</td>\n",
       "      <td>1.000000</td>\n",
       "    </tr>\n",
       "  </tbody>\n",
       "</table>\n",
       "</div>"
      ],
      "text/plain": [
       "             Export        Output  Primary_proc   Quotation  Export_duty  \\\n",
       "count     25.000000     25.000000     25.000000   25.000000     25.00000   \n",
       "mean   21794.708000  46494.103640  24243.027040  478.876000    106.14000   \n",
       "std     1085.866403   1584.605299   1004.153136   36.587421     19.52253   \n",
       "min    19266.400000  41849.700000  22224.100000  408.400000     77.20000   \n",
       "25%    21148.100000  45999.800000  23774.200000  450.400000     90.50000   \n",
       "50%    21699.100000  46558.100000  24363.200000  475.000000    104.60000   \n",
       "75%    22451.000000  47684.100000  25134.100000  518.700000    120.10000   \n",
       "max    23834.700000  48443.900000  25521.776000  549.100000    139.10000   \n",
       "\n",
       "       OPEC_convention  Venezuela_crisis  Russia_elections  Russia_max_output  \n",
       "count        25.000000         25.000000             25.00          25.000000  \n",
       "mean          0.080000          0.560000              0.04           0.680000  \n",
       "std           0.276887          0.506623              0.20           0.476095  \n",
       "min           0.000000          0.000000              0.00           0.000000  \n",
       "25%           0.000000          0.000000              0.00           0.000000  \n",
       "50%           0.000000          1.000000              0.00           1.000000  \n",
       "75%           0.000000          1.000000              0.00           1.000000  \n",
       "max           1.000000          1.000000              1.00           1.000000  "
      ]
     },
     "execution_count": 16,
     "metadata": {},
     "output_type": "execute_result"
    }
   ],
   "source": [
    "data.describe()"
   ]
  },
  {
   "cell_type": "code",
   "execution_count": 17,
   "metadata": {},
   "outputs": [],
   "source": [
    "import statistics"
   ]
  },
  {
   "cell_type": "code",
   "execution_count": 18,
   "metadata": {},
   "outputs": [
    {
     "name": "stdout",
     "output_type": "stream",
     "text": [
      "Медиана:  21699.1 для переменной Export\n"
     ]
    }
   ],
   "source": [
    "print('Медиана: ', statistics.median(data['Export']), 'для переменной Export' )"
   ]
  },
  {
   "cell_type": "code",
   "execution_count": 19,
   "metadata": {},
   "outputs": [
    {
     "name": "stdout",
     "output_type": "stream",
     "text": [
      "Мода:  518.7\n"
     ]
    }
   ],
   "source": [
    "print('Мода: ', statistics.mode(data['Quotation']))\n"
   ]
  },
  {
   "cell_type": "code",
   "execution_count": 20,
   "metadata": {},
   "outputs": [
    {
     "name": "stdout",
     "output_type": "stream",
     "text": [
      "Коэффициент асимметрии для переменной Quotation:  -1.11\n"
     ]
    }
   ],
   "source": [
    "print('Коэффициент асимметрии для переменной Quotation: ', round(((statistics.mean(data['Quotation']) - statistics.mode(data['Quotation']))/statistics.pstdev(data['Quotation'])),2))"
   ]
  },
  {
   "cell_type": "markdown",
   "metadata": {},
   "source": [
    "Если рассчиать коэффициент асимметрии Пирсона как (среднее- мода)/стандартное отклонение, значение расчета отличатается от посчитанного по формуле с третьими моментами, даже отличается знак, что говорит о том, что в центре значения больше отличаются в отрицательную сторону (мода больше среднего). Однако на всей выборке коэффициент положительный"
   ]
  },
  {
   "cell_type": "code",
   "execution_count": 21,
   "metadata": {},
   "outputs": [],
   "source": [
    "from scipy.stats import kurtosis\n",
    "from scipy.stats import skew"
   ]
  },
  {
   "cell_type": "code",
   "execution_count": 22,
   "metadata": {},
   "outputs": [
    {
     "name": "stdout",
     "output_type": "stream",
     "text": [
      "Коэффициент асимметрии, полученный по формуле третьего момента:  0.21\n"
     ]
    }
   ],
   "source": [
    "print('Коэффициент асимметрии, полученный по формуле третьего момента: ', round(skew(data['Quotation']),2))"
   ]
  },
  {
   "cell_type": "markdown",
   "metadata": {},
   "source": [
    "судя по знаку коэффицента, имеем положительную асимметрию, что означает, что "
   ]
  },
  {
   "cell_type": "code",
   "execution_count": 23,
   "metadata": {},
   "outputs": [
    {
     "name": "stdout",
     "output_type": "stream",
     "text": [
      "Коэффициент эксцесса  -0.89\n"
     ]
    }
   ],
   "source": [
    "print('Коэффициент эксцесса ', round(kurtosis(data['Quotation']),2))"
   ]
  },
  {
   "cell_type": "code",
   "execution_count": 24,
   "metadata": {},
   "outputs": [
    {
     "name": "stdout",
     "output_type": "stream",
     "text": [
      "Коэффициент эксцесса  -0.79\n"
     ]
    }
   ],
   "source": [
    "print('Коэффициент эксцесса ', round(kurtosis(data['Primary_proc']),2))"
   ]
  },
  {
   "cell_type": "code",
   "execution_count": 25,
   "metadata": {},
   "outputs": [
    {
     "name": "stdout",
     "output_type": "stream",
     "text": [
      "Коэффициент эксцесса  1.38\n"
     ]
    }
   ],
   "source": [
    "print('Коэффициент эксцесса ', round(kurtosis(data['Output']),2))"
   ]
  },
  {
   "cell_type": "code",
   "execution_count": 26,
   "metadata": {},
   "outputs": [
    {
     "name": "stdout",
     "output_type": "stream",
     "text": [
      "Коэффициент эксцесса, полученный по формуле третьего момента:  -0.21\n"
     ]
    }
   ],
   "source": [
    "print('Коэффициент эксцесса, полученный по формуле третьего момента: ', round(kurtosis(data['Export']),2))"
   ]
  },
  {
   "cell_type": "markdown",
   "metadata": {},
   "source": [
    "Коэффициент эксцесса отрицальный, значит распределение имеет более плоский вид"
   ]
  },
  {
   "cell_type": "code",
   "execution_count": 27,
   "metadata": {},
   "outputs": [
    {
     "ename": "StatisticsError",
     "evalue": "no unique mode; found 2 equally common values",
     "output_type": "error",
     "traceback": [
      "\u001b[0;31m---------------------------------------------------------------------------\u001b[0m",
      "\u001b[0;31mStatisticsError\u001b[0m                           Traceback (most recent call last)",
      "\u001b[0;32m<ipython-input-27-5e203540c666>\u001b[0m in \u001b[0;36m<module>\u001b[0;34m\u001b[0m\n\u001b[0;32m----> 1\u001b[0;31m \u001b[0mprint\u001b[0m\u001b[0;34m(\u001b[0m\u001b[0;34m'Мода: '\u001b[0m\u001b[0;34m,\u001b[0m \u001b[0mstatistics\u001b[0m\u001b[0;34m.\u001b[0m\u001b[0mmode\u001b[0m\u001b[0;34m(\u001b[0m\u001b[0mdata\u001b[0m\u001b[0;34m[\u001b[0m\u001b[0;34m'Export_duty'\u001b[0m\u001b[0;34m]\u001b[0m\u001b[0;34m)\u001b[0m\u001b[0;34m)\u001b[0m\u001b[0;34m\u001b[0m\u001b[0;34m\u001b[0m\u001b[0m\n\u001b[0m",
      "\u001b[0;32m/anaconda3/lib/python3.7/statistics.py\u001b[0m in \u001b[0;36mmode\u001b[0;34m(data)\u001b[0m\n\u001b[1;32m    504\u001b[0m     \u001b[0;32melif\u001b[0m \u001b[0mtable\u001b[0m\u001b[0;34m:\u001b[0m\u001b[0;34m\u001b[0m\u001b[0;34m\u001b[0m\u001b[0m\n\u001b[1;32m    505\u001b[0m         raise StatisticsError(\n\u001b[0;32m--> 506\u001b[0;31m                 \u001b[0;34m'no unique mode; found %d equally common values'\u001b[0m \u001b[0;34m%\u001b[0m \u001b[0mlen\u001b[0m\u001b[0;34m(\u001b[0m\u001b[0mtable\u001b[0m\u001b[0;34m)\u001b[0m\u001b[0;34m\u001b[0m\u001b[0;34m\u001b[0m\u001b[0m\n\u001b[0m\u001b[1;32m    507\u001b[0m                 )\n\u001b[1;32m    508\u001b[0m     \u001b[0;32melse\u001b[0m\u001b[0;34m:\u001b[0m\u001b[0;34m\u001b[0m\u001b[0;34m\u001b[0m\u001b[0m\n",
      "\u001b[0;31mStatisticsError\u001b[0m: no unique mode; found 2 equally common values"
     ]
    }
   ],
   "source": [
    "print('Мода: ', statistics.mode(data['Export_duty']))"
   ]
  },
  {
   "cell_type": "markdown",
   "metadata": {},
   "source": [
    "Моды для переменных Export, Output, Primary_proc не существует, так как все значения одинаково часто встречаются, поэтому не существует и коэффициента асимметрии"
   ]
  },
  {
   "cell_type": "code",
   "execution_count": 28,
   "metadata": {},
   "outputs": [
    {
     "ename": "StatisticsError",
     "evalue": "no unique mode; found 2 equally common values",
     "output_type": "error",
     "traceback": [
      "\u001b[0;31m---------------------------------------------------------------------------\u001b[0m",
      "\u001b[0;31mStatisticsError\u001b[0m                           Traceback (most recent call last)",
      "\u001b[0;32m<ipython-input-28-5e203540c666>\u001b[0m in \u001b[0;36m<module>\u001b[0;34m\u001b[0m\n\u001b[0;32m----> 1\u001b[0;31m \u001b[0mprint\u001b[0m\u001b[0;34m(\u001b[0m\u001b[0;34m'Мода: '\u001b[0m\u001b[0;34m,\u001b[0m \u001b[0mstatistics\u001b[0m\u001b[0;34m.\u001b[0m\u001b[0mmode\u001b[0m\u001b[0;34m(\u001b[0m\u001b[0mdata\u001b[0m\u001b[0;34m[\u001b[0m\u001b[0;34m'Export_duty'\u001b[0m\u001b[0;34m]\u001b[0m\u001b[0;34m)\u001b[0m\u001b[0;34m)\u001b[0m\u001b[0;34m\u001b[0m\u001b[0;34m\u001b[0m\u001b[0m\n\u001b[0m",
      "\u001b[0;32m/anaconda3/lib/python3.7/statistics.py\u001b[0m in \u001b[0;36mmode\u001b[0;34m(data)\u001b[0m\n\u001b[1;32m    504\u001b[0m     \u001b[0;32melif\u001b[0m \u001b[0mtable\u001b[0m\u001b[0;34m:\u001b[0m\u001b[0;34m\u001b[0m\u001b[0;34m\u001b[0m\u001b[0m\n\u001b[1;32m    505\u001b[0m         raise StatisticsError(\n\u001b[0;32m--> 506\u001b[0;31m                 \u001b[0;34m'no unique mode; found %d equally common values'\u001b[0m \u001b[0;34m%\u001b[0m \u001b[0mlen\u001b[0m\u001b[0;34m(\u001b[0m\u001b[0mtable\u001b[0m\u001b[0;34m)\u001b[0m\u001b[0;34m\u001b[0m\u001b[0;34m\u001b[0m\u001b[0m\n\u001b[0m\u001b[1;32m    507\u001b[0m                 )\n\u001b[1;32m    508\u001b[0m     \u001b[0;32melse\u001b[0m\u001b[0;34m:\u001b[0m\u001b[0;34m\u001b[0m\u001b[0;34m\u001b[0m\u001b[0m\n",
      "\u001b[0;31mStatisticsError\u001b[0m: no unique mode; found 2 equally common values"
     ]
    }
   ],
   "source": [
    "print('Мода: ', statistics.mode(data['Export_duty']))"
   ]
  },
  {
   "cell_type": "markdown",
   "metadata": {},
   "source": [
    "Моды для переменной Export duty не существует, так как есть два одинаково часто встречающихся значения. Присутствует мультимодальность. Коэффициент ассимметрии посчитать невозможно."
   ]
  },
  {
   "cell_type": "code",
   "execution_count": 29,
   "metadata": {},
   "outputs": [],
   "source": [
    "import matplotlib.pyplot as plt"
   ]
  },
  {
   "cell_type": "code",
   "execution_count": 110,
   "metadata": {},
   "outputs": [
    {
     "data": {
      "image/png": "[encoded data removed]",
      "text/plain": [
       "<Figure size 432x288 with 1 Axes>"
      ]
     },
     "metadata": {
      "needs_background": "light"
     },
     "output_type": "display_data"
    }
   ],
   "source": [
    "data['Venezuela_crisis'].hist(grid='False', bins=8)\n",
    "plt.ylabel('частота')\n",
    "plt.xlabel('измерения')\n",
    "plt.title('Частотное распределение качественной переменной Venezuela_crisis')\n",
    "plt.show()\n"
   ]
  },
  {
   "cell_type": "code",
   "execution_count": 111,
   "metadata": {},
   "outputs": [
    {
     "data": {
      "image/png": "[encoded data removed]",
      "text/plain": [
       "<Figure size 432x288 with 1 Axes>"
      ]
     },
     "metadata": {
      "needs_background": "light"
     },
     "output_type": "display_data"
    }
   ],
   "source": [
    "data['OPEC_convention'].hist(grid='False', bins=8)\n",
    "plt.ylabel('частота')\n",
    "plt.xlabel('измерения')\n",
    "plt.title('Частотное распределение качественной переменной OPEC_convention')\n",
    "plt.show()"
   ]
  },
  {
   "cell_type": "code",
   "execution_count": 112,
   "metadata": {},
   "outputs": [
    {
     "data": {
      "image/png": "[encoded data removed]",
      "text/plain": [
       "<Figure size 432x288 with 1 Axes>"
      ]
     },
     "metadata": {
      "needs_background": "light"
     },
     "output_type": "display_data"
    }
   ],
   "source": [
    "data['Russia_elections'].hist(grid='False', bins=8)\n",
    "plt.title('Частотное распределение качественной переменной Russia_elections')\n",
    "plt.ylabel('частота')\n",
    "plt.xlabel('измерения')\n",
    "plt.show()"
   ]
  },
  {
   "cell_type": "code",
   "execution_count": 113,
   "metadata": {},
   "outputs": [
    {
     "data": {
      "image/png": "[encoded data removed]",
      "text/plain": [
       "<Figure size 432x288 with 1 Axes>"
      ]
     },
     "metadata": {
      "needs_background": "light"
     },
     "output_type": "display_data"
    }
   ],
   "source": [
    "data['Russia_max_output'].hist(grid='False', bins=8)\n",
    "plt.title('Частотное распределение качественной переменной Russia_max_output')\n",
    "plt.ylabel('частота')\n",
    "plt.xlabel('измерения')\n",
    "plt.show()"
   ]
  },
  {
   "cell_type": "code",
   "execution_count": 34,
   "metadata": {},
   "outputs": [
    {
     "data": {
      "text/plain": [
       "1     19266.4\n",
       "3     21329.6\n",
       "4     21388.9\n",
       "5     20161.3\n",
       "6     21532.5\n",
       "7     22058.2\n",
       "8     21125.4\n",
       "9     23332.6\n",
       "10    21820.6\n",
       "11    23029.6\n",
       "Name: Export, dtype: float64"
      ]
     },
     "execution_count": 34,
     "metadata": {},
     "output_type": "execute_result"
    }
   ],
   "source": [
    "datapivot_elections0= data[ data['Russia_elections'] == 0 ]['Export']\n",
    "datapivot_elections0.head(10)"
   ]
  },
  {
   "cell_type": "code",
   "execution_count": 35,
   "metadata": {},
   "outputs": [
    {
     "data": {
      "text/plain": [
       "2    21148.1\n",
       "Name: Export, dtype: float64"
      ]
     },
     "execution_count": 35,
     "metadata": {},
     "output_type": "execute_result"
    }
   ],
   "source": [
    "datapivot_elections1= data[ data['Russia_elections'] == 1 ]['Export']\n",
    "datapivot_elections1.head(10)"
   ]
  },
  {
   "cell_type": "markdown",
   "metadata": {},
   "source": [
    "plt.boxplot(datapivot_elections0)\n",
    "plt.boxplot(datapivot_elections1)\n",
    "plt. xlabel('нет выборов')\n",
    "plt. ylabel('Экспорт')\n",
    "plt.show()"
   ]
  },
  {
   "cell_type": "markdown",
   "metadata": {},
   "source": [
    "Box-Whisker Export Distribution by elections"
   ]
  },
  {
   "cell_type": "code",
   "execution_count": 36,
   "metadata": {},
   "outputs": [
    {
     "data": {
      "text/html": [
       "<div>\n",
       "<style scoped>\n",
       "    .dataframe tbody tr th:only-of-type {\n",
       "        vertical-align: middle;\n",
       "    }\n",
       "\n",
       "    .dataframe tbody tr th {\n",
       "        vertical-align: top;\n",
       "    }\n",
       "\n",
       "    .dataframe thead th {\n",
       "        text-align: right;\n",
       "    }\n",
       "</style>\n",
       "<table border=\"1\" class=\"dataframe\">\n",
       "  <thead>\n",
       "    <tr style=\"text-align: right;\">\n",
       "      <th>Russia_elections</th>\n",
       "      <th>0</th>\n",
       "      <th>1</th>\n",
       "    </tr>\n",
       "  </thead>\n",
       "  <tbody>\n",
       "    <tr>\n",
       "      <th>1</th>\n",
       "      <td>19266.4</td>\n",
       "      <td>NaN</td>\n",
       "    </tr>\n",
       "    <tr>\n",
       "      <th>2</th>\n",
       "      <td>NaN</td>\n",
       "      <td>21148.1</td>\n",
       "    </tr>\n",
       "    <tr>\n",
       "      <th>3</th>\n",
       "      <td>21329.6</td>\n",
       "      <td>NaN</td>\n",
       "    </tr>\n",
       "    <tr>\n",
       "      <th>4</th>\n",
       "      <td>21388.9</td>\n",
       "      <td>NaN</td>\n",
       "    </tr>\n",
       "    <tr>\n",
       "      <th>5</th>\n",
       "      <td>20161.3</td>\n",
       "      <td>NaN</td>\n",
       "    </tr>\n",
       "    <tr>\n",
       "      <th>6</th>\n",
       "      <td>21532.5</td>\n",
       "      <td>NaN</td>\n",
       "    </tr>\n",
       "    <tr>\n",
       "      <th>7</th>\n",
       "      <td>22058.2</td>\n",
       "      <td>NaN</td>\n",
       "    </tr>\n",
       "    <tr>\n",
       "      <th>8</th>\n",
       "      <td>21125.4</td>\n",
       "      <td>NaN</td>\n",
       "    </tr>\n",
       "    <tr>\n",
       "      <th>9</th>\n",
       "      <td>23332.6</td>\n",
       "      <td>NaN</td>\n",
       "    </tr>\n",
       "    <tr>\n",
       "      <th>10</th>\n",
       "      <td>21820.6</td>\n",
       "      <td>NaN</td>\n",
       "    </tr>\n",
       "  </tbody>\n",
       "</table>\n",
       "</div>"
      ],
      "text/plain": [
       "Russia_elections        0        1\n",
       "1                 19266.4      NaN\n",
       "2                     NaN  21148.1\n",
       "3                 21329.6      NaN\n",
       "4                 21388.9      NaN\n",
       "5                 20161.3      NaN\n",
       "6                 21532.5      NaN\n",
       "7                 22058.2      NaN\n",
       "8                 21125.4      NaN\n",
       "9                 23332.6      NaN\n",
       "10                21820.6      NaN"
      ]
     },
     "execution_count": 36,
     "metadata": {},
     "output_type": "execute_result"
    }
   ],
   "source": [
    "data2= data.pivot(columns='Russia_elections', values='Export')\n",
    "data2.head(10)"
   ]
  },
  {
   "cell_type": "code",
   "execution_count": 37,
   "metadata": {},
   "outputs": [
    {
     "data": {
      "image/png": "[encoded data removed]",
      "text/plain": [
       "<Figure size 432x288 with 1 Axes>"
      ]
     },
     "metadata": {
      "needs_background": "light"
     },
     "output_type": "display_data"
    }
   ],
   "source": [
    "data2.boxplot()\n",
    "plt.title('Box-Whisker Export Distribution by  Russia elections')\n",
    "plt. xlabel('нет выборов - 0; есть выборы - 1')\n",
    "plt. ylabel('Экспорт')\n",
    "plt.show()"
   ]
  },
  {
   "cell_type": "code",
   "execution_count": 38,
   "metadata": {},
   "outputs": [
    {
     "data": {
      "image/png": "[encoded data removed]",
      "text/plain": [
       "<Figure size 432x288 with 1 Axes>"
      ]
     },
     "metadata": {
      "needs_background": "light"
     },
     "output_type": "display_data"
    }
   ],
   "source": [
    "plt.boxplot(datapivot_elections1)\n",
    "plt. xlabel('нет выборов')\n",
    "plt. ylabel('Экспорт')\n",
    "plt.show()"
   ]
  },
  {
   "cell_type": "markdown",
   "metadata": {},
   "source": [
    "Box-Whisker Export Distribution by OPEC_convention"
   ]
  },
  {
   "cell_type": "code",
   "execution_count": 39,
   "metadata": {},
   "outputs": [
    {
     "data": {
      "image/png": "[encoded data removed]",
      "text/plain": [
       "<Figure size 432x288 with 1 Axes>"
      ]
     },
     "metadata": {
      "needs_background": "light"
     },
     "output_type": "display_data"
    }
   ],
   "source": [
    "data.pivot(columns='OPEC_convention', values='Export').boxplot()\n",
    "plt.title('Box-Whisker Export Distribution by  OPEC convention')\n",
    "plt. xlabel('нет соглашения - 0; есть соглашение - 1')\n",
    "plt. ylabel('Экспорт')\n",
    "plt.show()\n"
   ]
  },
  {
   "cell_type": "code",
   "execution_count": 40,
   "metadata": {},
   "outputs": [
    {
     "data": {
      "image/png": "[encoded data removed]",
      "text/plain": [
       "<Figure size 432x288 with 1 Axes>"
      ]
     },
     "metadata": {
      "needs_background": "light"
     },
     "output_type": "display_data"
    }
   ],
   "source": [
    "data.pivot(columns='OPEC_convention', values='Output').boxplot()\n",
    "plt.title('Box-Whisker Export Distribution by  OPEC convention')\n",
    "plt. xlabel('нет соглашения - 0; есть соглашение - 1')\n",
    "plt. ylabel('Добыча')\n",
    "plt.show()"
   ]
  },
  {
   "cell_type": "code",
   "execution_count": 122,
   "metadata": {},
   "outputs": [
    {
     "data": {
      "image/png": "[encoded data removed]",
      "text/plain": [
       "<Figure size 432x288 with 1 Axes>"
      ]
     },
     "metadata": {
      "needs_background": "light"
     },
     "output_type": "display_data"
    }
   ],
   "source": [
    "data.pivot(columns='Russia_max_output', values='Output').boxplot()\n",
    "plt.title('Box-Whisker Output Distribution by  Russia_max_output')\n",
    "plt. xlabel('нет объявления - 0; есть объявление - 1')\n",
    "plt. ylabel('Добыча')\n",
    "plt.show()"
   ]
  },
  {
   "cell_type": "code",
   "execution_count": 119,
   "metadata": {},
   "outputs": [
    {
     "name": "stdout",
     "output_type": "stream",
     "text": [
      "                         sum_sq    df         F    PR(>F)\n",
      "Russia_max_output  5.801642e+06   1.0  2.555338  0.123006\n",
      "Residual           5.448962e+07  24.0       NaN       NaN\n"
     ]
    }
   ],
   "source": [
    "mod = ols('Output ~ Russia_max_output', data= data).fit()\n",
    "anova_table= sm.stats.anova_lm(mod,typ=2)\n",
    "print(anova_table)"
   ]
  },
  {
   "cell_type": "code",
   "execution_count": 121,
   "metadata": {},
   "outputs": [
    {
     "name": "stdout",
     "output_type": "stream",
     "text": [
      "                         sum_sq    df         F    PR(>F)\n",
      "Russia_max_output  5.801642e+06   1.0  2.555338  0.123006\n",
      "Residual           5.448962e+07  24.0       NaN       NaN\n"
     ]
    },
    {
     "data": {
      "text/html": [
       "<table class=\"simpletable\">\n",
       "<caption>OLS Regression Results</caption>\n",
       "<tr>\n",
       "  <th>Dep. Variable:</th>         <td>Output</td>      <th>  R-squared:         </th> <td>   0.096</td>\n",
       "</tr>\n",
       "<tr>\n",
       "  <th>Model:</th>                   <td>OLS</td>       <th>  Adj. R-squared:    </th> <td>   0.059</td>\n",
       "</tr>\n",
       "<tr>\n",
       "  <th>Method:</th>             <td>Least Squares</td>  <th>  F-statistic:       </th> <td>   2.555</td>\n",
       "</tr>\n",
       "<tr>\n",
       "  <th>Date:</th>             <td>Wed, 22 Apr 2020</td> <th>  Prob (F-statistic):</th>  <td> 0.123</td> \n",
       "</tr>\n",
       "<tr>\n",
       "  <th>Time:</th>                 <td>20:29:56</td>     <th>  Log-Likelihood:    </th> <td> -226.11</td>\n",
       "</tr>\n",
       "<tr>\n",
       "  <th>No. Observations:</th>      <td>    26</td>      <th>  AIC:               </th> <td>   456.2</td>\n",
       "</tr>\n",
       "<tr>\n",
       "  <th>Df Residuals:</th>          <td>    24</td>      <th>  BIC:               </th> <td>   458.7</td>\n",
       "</tr>\n",
       "<tr>\n",
       "  <th>Df Model:</th>              <td>     1</td>      <th>                     </th>     <td> </td>   \n",
       "</tr>\n",
       "<tr>\n",
       "  <th>Covariance Type:</th>      <td>nonrobust</td>    <th>                     </th>     <td> </td>   \n",
       "</tr>\n",
       "</table>\n",
       "<table class=\"simpletable\">\n",
       "<tr>\n",
       "          <td></td>             <th>coef</th>     <th>std err</th>      <th>t</th>      <th>P>|t|</th>  <th>[0.025</th>    <th>0.975]</th>  \n",
       "</tr>\n",
       "<tr>\n",
       "  <th>Intercept</th>         <td> 4.584e+04</td> <td>  502.262</td> <td>   91.264</td> <td> 0.000</td> <td> 4.48e+04</td> <td> 4.69e+04</td>\n",
       "</tr>\n",
       "<tr>\n",
       "  <th>Russia_max_output</th> <td>  992.9250</td> <td>  621.144</td> <td>    1.599</td> <td> 0.123</td> <td> -289.053</td> <td> 2274.903</td>\n",
       "</tr>\n",
       "</table>\n",
       "<table class=\"simpletable\">\n",
       "<tr>\n",
       "  <th>Omnibus:</th>       <td> 9.831</td> <th>  Durbin-Watson:     </th> <td>   2.406</td>\n",
       "</tr>\n",
       "<tr>\n",
       "  <th>Prob(Omnibus):</th> <td> 0.007</td> <th>  Jarque-Bera (JB):  </th> <td>   8.038</td>\n",
       "</tr>\n",
       "<tr>\n",
       "  <th>Skew:</th>          <td>-1.253</td> <th>  Prob(JB):          </th> <td>  0.0180</td>\n",
       "</tr>\n",
       "<tr>\n",
       "  <th>Kurtosis:</th>      <td> 4.068</td> <th>  Cond. No.          </th> <td>    3.16</td>\n",
       "</tr>\n",
       "</table><br/><br/>Warnings:<br/>[1] Standard Errors assume that the covariance matrix of the errors is correctly specified."
      ],
      "text/plain": [
       "<class 'statsmodels.iolib.summary.Summary'>\n",
       "\"\"\"\n",
       "                            OLS Regression Results                            \n",
       "==============================================================================\n",
       "Dep. Variable:                 Output   R-squared:                       0.096\n",
       "Model:                            OLS   Adj. R-squared:                  0.059\n",
       "Method:                 Least Squares   F-statistic:                     2.555\n",
       "Date:                Wed, 22 Apr 2020   Prob (F-statistic):              0.123\n",
       "Time:                        20:29:56   Log-Likelihood:                -226.11\n",
       "No. Observations:                  26   AIC:                             456.2\n",
       "Df Residuals:                      24   BIC:                             458.7\n",
       "Df Model:                           1                                         \n",
       "Covariance Type:            nonrobust                                         \n",
       "=====================================================================================\n",
       "                        coef    std err          t      P>|t|      [0.025      0.975]\n",
       "-------------------------------------------------------------------------------------\n",
       "Intercept          4.584e+04    502.262     91.264      0.000    4.48e+04    4.69e+04\n",
       "Russia_max_output   992.9250    621.144      1.599      0.123    -289.053    2274.903\n",
       "==============================================================================\n",
       "Omnibus:                        9.831   Durbin-Watson:                   2.406\n",
       "Prob(Omnibus):                  0.007   Jarque-Bera (JB):                8.038\n",
       "Skew:                          -1.253   Prob(JB):                       0.0180\n",
       "Kurtosis:                       4.068   Cond. No.                         3.16\n",
       "==============================================================================\n",
       "\n",
       "Warnings:\n",
       "[1] Standard Errors assume that the covariance matrix of the errors is correctly specified.\n",
       "\"\"\""
      ]
     },
     "execution_count": 121,
     "metadata": {},
     "output_type": "execute_result"
    }
   ],
   "source": [
    "mod = ols('Output ~ Russia_max_output', data= data).fit()\n",
    "anova_table= sm.stats.anova_lm(mod,typ=2)\n",
    "print(anova_table)\n",
    "results = ols('Output ~ Russia_max_output', data=data).fit()\n",
    "results.summary()"
   ]
  },
  {
   "cell_type": "code",
   "execution_count": 41,
   "metadata": {},
   "outputs": [
    {
     "data": {
      "image/png": "[encoded data removed]",
      "text/plain": [
       "<Figure size 432x288 with 1 Axes>"
      ]
     },
     "metadata": {
      "needs_background": "light"
     },
     "output_type": "display_data"
    }
   ],
   "source": [
    "data.pivot(columns='Venezuela_crisis', values='Export').boxplot()\n",
    "plt.title('Box-Whisker Export Distribution by  Venezuela_crisis')\n",
    "plt. xlabel('нет кризиса- 0; есть кризис - 1')\n",
    "plt. ylabel('Экспорт')\n",
    "plt.show()"
   ]
  },
  {
   "cell_type": "code",
   "execution_count": 42,
   "metadata": {},
   "outputs": [
    {
     "data": {
      "text/html": [
       "<div>\n",
       "<style scoped>\n",
       "    .dataframe tbody tr th:only-of-type {\n",
       "        vertical-align: middle;\n",
       "    }\n",
       "\n",
       "    .dataframe tbody tr th {\n",
       "        vertical-align: top;\n",
       "    }\n",
       "\n",
       "    .dataframe thead th {\n",
       "        text-align: right;\n",
       "    }\n",
       "</style>\n",
       "<table border=\"1\" class=\"dataframe\">\n",
       "  <thead>\n",
       "    <tr style=\"text-align: right;\">\n",
       "      <th>Russia_max_output</th>\n",
       "      <th>0</th>\n",
       "      <th>1</th>\n",
       "    </tr>\n",
       "  </thead>\n",
       "  <tbody>\n",
       "    <tr>\n",
       "      <th>1</th>\n",
       "      <td>19266.4</td>\n",
       "      <td>NaN</td>\n",
       "    </tr>\n",
       "    <tr>\n",
       "      <th>2</th>\n",
       "      <td>21148.1</td>\n",
       "      <td>NaN</td>\n",
       "    </tr>\n",
       "    <tr>\n",
       "      <th>3</th>\n",
       "      <td>21329.6</td>\n",
       "      <td>NaN</td>\n",
       "    </tr>\n",
       "    <tr>\n",
       "      <th>4</th>\n",
       "      <td>21388.9</td>\n",
       "      <td>NaN</td>\n",
       "    </tr>\n",
       "    <tr>\n",
       "      <th>5</th>\n",
       "      <td>20161.3</td>\n",
       "      <td>NaN</td>\n",
       "    </tr>\n",
       "  </tbody>\n",
       "</table>\n",
       "</div>"
      ],
      "text/plain": [
       "Russia_max_output        0   1\n",
       "1                  19266.4 NaN\n",
       "2                  21148.1 NaN\n",
       "3                  21329.6 NaN\n",
       "4                  21388.9 NaN\n",
       "5                  20161.3 NaN"
      ]
     },
     "execution_count": 42,
     "metadata": {},
     "output_type": "execute_result"
    }
   ],
   "source": [
    "data.pivot(columns='Russia_max_output', values='Export').head()"
   ]
  },
  {
   "cell_type": "code",
   "execution_count": 43,
   "metadata": {},
   "outputs": [
    {
     "data": {
      "image/png": "[encoded data removed]",
      "text/plain": [
       "<Figure size 432x288 with 1 Axes>"
      ]
     },
     "metadata": {
      "needs_background": "light"
     },
     "output_type": "display_data"
    }
   ],
   "source": [
    "data.pivot(columns='Russia_max_output', values='Export').boxplot()\n",
    "plt.title('Box-Whisker Export Distribution by  Russia_max_output')\n",
    "plt. xlabel('нет объявления- 0; есть объявление - 1')\n",
    "plt. ylabel('Экспорт')\n",
    "plt.show()"
   ]
  },
  {
   "cell_type": "markdown",
   "metadata": {},
   "source": [
    "Проведем однофакторный дисперсионный анализ ANOVA зависимости Экспорта от независимых качетсвенных переменных (поочередно)\n"
   ]
  },
  {
   "cell_type": "code",
   "execution_count": 42,
   "metadata": {},
   "outputs": [],
   "source": [
    "import statsmodels\n",
    "from statsmodels.formula.api import ols\n",
    "import statsmodels.api as sm"
   ]
  },
  {
   "cell_type": "code",
   "execution_count": 45,
   "metadata": {},
   "outputs": [
    {
     "name": "stdout",
     "output_type": "stream",
     "text": [
      "                        sum_sq    df         F    PR(>F)\n",
      "Venezuela_crisis  2.044233e+06   1.0  1.790844  0.193904\n",
      "Residual          2.625431e+07  23.0       NaN       NaN\n"
     ]
    }
   ],
   "source": [
    "mod = ols('Export ~ Venezuela_crisis', data= data).fit()\n",
    "anova_table= sm.stats.anova_lm(mod,typ=2)\n",
    "print(anova_table)"
   ]
  },
  {
   "cell_type": "code",
   "execution_count": 46,
   "metadata": {},
   "outputs": [
    {
     "name": "stdout",
     "output_type": "stream",
     "text": [
      "                         sum_sq    df         F    PR(>F)\n",
      "Russia_max_output  7.405838e+06   1.0  8.152812  0.008953\n",
      "Residual           2.089270e+07  23.0       NaN       NaN\n"
     ]
    },
    {
     "data": {
      "text/html": [
       "<table class=\"simpletable\">\n",
       "<caption>OLS Regression Results</caption>\n",
       "<tr>\n",
       "  <th>Dep. Variable:</th>         <td>Export</td>      <th>  R-squared:         </th> <td>   0.262</td>\n",
       "</tr>\n",
       "<tr>\n",
       "  <th>Model:</th>                   <td>OLS</td>       <th>  Adj. R-squared:    </th> <td>   0.230</td>\n",
       "</tr>\n",
       "<tr>\n",
       "  <th>Method:</th>             <td>Least Squares</td>  <th>  F-statistic:       </th> <td>   8.153</td>\n",
       "</tr>\n",
       "<tr>\n",
       "  <th>Date:</th>             <td>Wed, 15 Apr 2020</td> <th>  Prob (F-statistic):</th>  <td>0.00895</td>\n",
       "</tr>\n",
       "<tr>\n",
       "  <th>Time:</th>                 <td>12:18:38</td>     <th>  Log-Likelihood:    </th> <td> -205.92</td>\n",
       "</tr>\n",
       "<tr>\n",
       "  <th>No. Observations:</th>      <td>    25</td>      <th>  AIC:               </th> <td>   415.8</td>\n",
       "</tr>\n",
       "<tr>\n",
       "  <th>Df Residuals:</th>          <td>    23</td>      <th>  BIC:               </th> <td>   418.3</td>\n",
       "</tr>\n",
       "<tr>\n",
       "  <th>Df Model:</th>              <td>     1</td>      <th>                     </th>     <td> </td>   \n",
       "</tr>\n",
       "<tr>\n",
       "  <th>Covariance Type:</th>      <td>nonrobust</td>    <th>                     </th>     <td> </td>   \n",
       "</tr>\n",
       "</table>\n",
       "<table class=\"simpletable\">\n",
       "<tr>\n",
       "          <td></td>             <th>coef</th>     <th>std err</th>      <th>t</th>      <th>P>|t|</th>  <th>[0.025</th>    <th>0.975]</th>  \n",
       "</tr>\n",
       "<tr>\n",
       "  <th>Intercept</th>         <td>   2.1e+04</td> <td>  336.968</td> <td>   62.324</td> <td> 0.000</td> <td> 2.03e+04</td> <td> 2.17e+04</td>\n",
       "</tr>\n",
       "<tr>\n",
       "  <th>Russia_max_output</th> <td> 1166.7765</td> <td>  408.633</td> <td>    2.855</td> <td> 0.009</td> <td>  321.454</td> <td> 2012.099</td>\n",
       "</tr>\n",
       "</table>\n",
       "<table class=\"simpletable\">\n",
       "<tr>\n",
       "  <th>Omnibus:</th>       <td> 1.134</td> <th>  Durbin-Watson:     </th> <td>   1.853</td>\n",
       "</tr>\n",
       "<tr>\n",
       "  <th>Prob(Omnibus):</th> <td> 0.567</td> <th>  Jarque-Bera (JB):  </th> <td>   0.907</td>\n",
       "</tr>\n",
       "<tr>\n",
       "  <th>Skew:</th>          <td>-0.185</td> <th>  Prob(JB):          </th> <td>   0.635</td>\n",
       "</tr>\n",
       "<tr>\n",
       "  <th>Kurtosis:</th>      <td> 2.144</td> <th>  Cond. No.          </th> <td>    3.30</td>\n",
       "</tr>\n",
       "</table><br/><br/>Warnings:<br/>[1] Standard Errors assume that the covariance matrix of the errors is correctly specified."
      ],
      "text/plain": [
       "<class 'statsmodels.iolib.summary.Summary'>\n",
       "\"\"\"\n",
       "                            OLS Regression Results                            \n",
       "==============================================================================\n",
       "Dep. Variable:                 Export   R-squared:                       0.262\n",
       "Model:                            OLS   Adj. R-squared:                  0.230\n",
       "Method:                 Least Squares   F-statistic:                     8.153\n",
       "Date:                Wed, 15 Apr 2020   Prob (F-statistic):            0.00895\n",
       "Time:                        12:18:38   Log-Likelihood:                -205.92\n",
       "No. Observations:                  25   AIC:                             415.8\n",
       "Df Residuals:                      23   BIC:                             418.3\n",
       "Df Model:                           1                                         \n",
       "Covariance Type:            nonrobust                                         \n",
       "=====================================================================================\n",
       "                        coef    std err          t      P>|t|      [0.025      0.975]\n",
       "-------------------------------------------------------------------------------------\n",
       "Intercept            2.1e+04    336.968     62.324      0.000    2.03e+04    2.17e+04\n",
       "Russia_max_output  1166.7765    408.633      2.855      0.009     321.454    2012.099\n",
       "==============================================================================\n",
       "Omnibus:                        1.134   Durbin-Watson:                   1.853\n",
       "Prob(Omnibus):                  0.567   Jarque-Bera (JB):                0.907\n",
       "Skew:                          -0.185   Prob(JB):                        0.635\n",
       "Kurtosis:                       2.144   Cond. No.                         3.30\n",
       "==============================================================================\n",
       "\n",
       "Warnings:\n",
       "[1] Standard Errors assume that the covariance matrix of the errors is correctly specified.\n",
       "\"\"\""
      ]
     },
     "execution_count": 46,
     "metadata": {},
     "output_type": "execute_result"
    }
   ],
   "source": [
    "mod = ols('Export ~ Russia_max_output', data= data).fit()\n",
    "anova_table= sm.stats.anova_lm(mod,typ=2)\n",
    "print(anova_table)\n",
    "results = ols('Export ~ Russia_max_output', data=data).fit()\n",
    "results.summary()"
   ]
  },
  {
   "cell_type": "markdown",
   "metadata": {},
   "source": [
    "Коэффициент p-value меньше 0,05, значит, нулевая гипотеза о равенстве средних Экспорта между выборками по качественному признаку Максимальая добыча России отклоняется. Можно сделать вывод о наличии статистической связи между достижением России уровня максимальной добычи нефти и недостижением и объемом Экспорта нефти"
   ]
  },
  {
   "cell_type": "code",
   "execution_count": 47,
   "metadata": {},
   "outputs": [
    {
     "name": "stdout",
     "output_type": "stream",
     "text": [
      "                       sum_sq    df         F    PR(>F)\n",
      "OPEC_convention  5.556280e+05   1.0  0.460638  0.504098\n",
      "Residual         2.774291e+07  23.0       NaN       NaN\n"
     ]
    }
   ],
   "source": [
    "mod = ols('Export ~ OPEC_convention', data= data).fit()\n",
    "anova_table= sm.stats.anova_lm(mod,typ=2)\n",
    "print(anova_table)"
   ]
  },
  {
   "cell_type": "code",
   "execution_count": 48,
   "metadata": {},
   "outputs": [
    {
     "name": "stdout",
     "output_type": "stream",
     "text": [
      "                        sum_sq    df        F   PR(>F)\n",
      "Russia_elections  4.355228e+05   1.0  0.35951  0.55464\n",
      "Residual          2.786302e+07  23.0      NaN      NaN\n"
     ]
    }
   ],
   "source": [
    "mod = ols('Export ~ Russia_elections', data= data).fit()\n",
    "anova_table= sm.stats.anova_lm(mod,typ=2)\n",
    "print(anova_table)"
   ]
  },
  {
   "cell_type": "code",
   "execution_count": 49,
   "metadata": {},
   "outputs": [
    {
     "data": {
      "text/html": [
       "<table class=\"simpletable\">\n",
       "<caption>OLS Regression Results</caption>\n",
       "<tr>\n",
       "  <th>Dep. Variable:</th>         <td>Export</td>      <th>  R-squared:         </th> <td>   0.015</td>\n",
       "</tr>\n",
       "<tr>\n",
       "  <th>Model:</th>                   <td>OLS</td>       <th>  Adj. R-squared:    </th> <td>  -0.027</td>\n",
       "</tr>\n",
       "<tr>\n",
       "  <th>Method:</th>             <td>Least Squares</td>  <th>  F-statistic:       </th> <td>  0.3595</td>\n",
       "</tr>\n",
       "<tr>\n",
       "  <th>Date:</th>             <td>Wed, 15 Apr 2020</td> <th>  Prob (F-statistic):</th>  <td> 0.555</td> \n",
       "</tr>\n",
       "<tr>\n",
       "  <th>Time:</th>                 <td>12:18:48</td>     <th>  Log-Likelihood:    </th> <td> -209.52</td>\n",
       "</tr>\n",
       "<tr>\n",
       "  <th>No. Observations:</th>      <td>    25</td>      <th>  AIC:               </th> <td>   423.0</td>\n",
       "</tr>\n",
       "<tr>\n",
       "  <th>Df Residuals:</th>          <td>    23</td>      <th>  BIC:               </th> <td>   425.5</td>\n",
       "</tr>\n",
       "<tr>\n",
       "  <th>Df Model:</th>              <td>     1</td>      <th>                     </th>     <td> </td>   \n",
       "</tr>\n",
       "<tr>\n",
       "  <th>Covariance Type:</th>      <td>nonrobust</td>    <th>                     </th>     <td> </td>   \n",
       "</tr>\n",
       "</table>\n",
       "<table class=\"simpletable\">\n",
       "<tr>\n",
       "          <td></td>            <th>coef</th>     <th>std err</th>      <th>t</th>      <th>P>|t|</th>  <th>[0.025</th>    <th>0.975]</th>  \n",
       "</tr>\n",
       "<tr>\n",
       "  <th>Intercept</th>        <td> 2.182e+04</td> <td>  224.670</td> <td>   97.128</td> <td> 0.000</td> <td> 2.14e+04</td> <td> 2.23e+04</td>\n",
       "</tr>\n",
       "<tr>\n",
       "  <th>Russia_elections</th> <td> -673.5500</td> <td> 1123.349</td> <td>   -0.600</td> <td> 0.555</td> <td>-2997.374</td> <td> 1650.274</td>\n",
       "</tr>\n",
       "</table>\n",
       "<table class=\"simpletable\">\n",
       "<tr>\n",
       "  <th>Omnibus:</th>       <td> 0.281</td> <th>  Durbin-Watson:     </th> <td>   1.641</td>\n",
       "</tr>\n",
       "<tr>\n",
       "  <th>Prob(Omnibus):</th> <td> 0.869</td> <th>  Jarque-Bera (JB):  </th> <td>   0.097</td>\n",
       "</tr>\n",
       "<tr>\n",
       "  <th>Skew:</th>          <td>-0.142</td> <th>  Prob(JB):          </th> <td>   0.953</td>\n",
       "</tr>\n",
       "<tr>\n",
       "  <th>Kurtosis:</th>      <td> 2.887</td> <th>  Cond. No.          </th> <td>    5.11</td>\n",
       "</tr>\n",
       "</table><br/><br/>Warnings:<br/>[1] Standard Errors assume that the covariance matrix of the errors is correctly specified."
      ],
      "text/plain": [
       "<class 'statsmodels.iolib.summary.Summary'>\n",
       "\"\"\"\n",
       "                            OLS Regression Results                            \n",
       "==============================================================================\n",
       "Dep. Variable:                 Export   R-squared:                       0.015\n",
       "Model:                            OLS   Adj. R-squared:                 -0.027\n",
       "Method:                 Least Squares   F-statistic:                    0.3595\n",
       "Date:                Wed, 15 Apr 2020   Prob (F-statistic):              0.555\n",
       "Time:                        12:18:48   Log-Likelihood:                -209.52\n",
       "No. Observations:                  25   AIC:                             423.0\n",
       "Df Residuals:                      23   BIC:                             425.5\n",
       "Df Model:                           1                                         \n",
       "Covariance Type:            nonrobust                                         \n",
       "====================================================================================\n",
       "                       coef    std err          t      P>|t|      [0.025      0.975]\n",
       "------------------------------------------------------------------------------------\n",
       "Intercept         2.182e+04    224.670     97.128      0.000    2.14e+04    2.23e+04\n",
       "Russia_elections  -673.5500   1123.349     -0.600      0.555   -2997.374    1650.274\n",
       "==============================================================================\n",
       "Omnibus:                        0.281   Durbin-Watson:                   1.641\n",
       "Prob(Omnibus):                  0.869   Jarque-Bera (JB):                0.097\n",
       "Skew:                          -0.142   Prob(JB):                        0.953\n",
       "Kurtosis:                       2.887   Cond. No.                         5.11\n",
       "==============================================================================\n",
       "\n",
       "Warnings:\n",
       "[1] Standard Errors assume that the covariance matrix of the errors is correctly specified.\n",
       "\"\"\""
      ]
     },
     "execution_count": 49,
     "metadata": {},
     "output_type": "execute_result"
    }
   ],
   "source": [
    "results = ols('Export ~ Russia_elections', data=data).fit()\n",
    "results.summary()"
   ]
  },
  {
   "cell_type": "markdown",
   "metadata": {},
   "source": [
    "В остальных случаях нулевая гипотеза не отвергается, что говорит об однородности выборок внутри групп "
   ]
  },
  {
   "cell_type": "code",
   "execution_count": 50,
   "metadata": {},
   "outputs": [],
   "source": [
    "from scipy.stats import pearsonr"
   ]
  },
  {
   "cell_type": "code",
   "execution_count": 51,
   "metadata": {},
   "outputs": [
    {
     "data": {
      "text/html": [
       "<div>\n",
       "<style scoped>\n",
       "    .dataframe tbody tr th:only-of-type {\n",
       "        vertical-align: middle;\n",
       "    }\n",
       "\n",
       "    .dataframe tbody tr th {\n",
       "        vertical-align: top;\n",
       "    }\n",
       "\n",
       "    .dataframe thead th {\n",
       "        text-align: right;\n",
       "    }\n",
       "</style>\n",
       "<table border=\"1\" class=\"dataframe\">\n",
       "  <thead>\n",
       "    <tr style=\"text-align: right;\">\n",
       "      <th></th>\n",
       "      <th>Export</th>\n",
       "      <th>Output</th>\n",
       "      <th>Primary_proc</th>\n",
       "      <th>Quotation</th>\n",
       "      <th>Export_duty</th>\n",
       "      <th>OPEC_convention</th>\n",
       "      <th>Venezuela_crisis</th>\n",
       "      <th>Russia_elections</th>\n",
       "      <th>Russia_max_output</th>\n",
       "    </tr>\n",
       "  </thead>\n",
       "  <tbody>\n",
       "    <tr>\n",
       "      <th>Export</th>\n",
       "      <td>1.000000</td>\n",
       "      <td>0.775061</td>\n",
       "      <td>0.390567</td>\n",
       "      <td>0.050789</td>\n",
       "      <td>-0.059826</td>\n",
       "      <td>-0.140123</td>\n",
       "      <td>0.268771</td>\n",
       "      <td>-0.124058</td>\n",
       "      <td>0.511570</td>\n",
       "    </tr>\n",
       "    <tr>\n",
       "      <th>Output</th>\n",
       "      <td>0.775061</td>\n",
       "      <td>1.000000</td>\n",
       "      <td>0.668168</td>\n",
       "      <td>0.248880</td>\n",
       "      <td>0.104589</td>\n",
       "      <td>-0.038215</td>\n",
       "      <td>0.099913</td>\n",
       "      <td>-0.013384</td>\n",
       "      <td>0.316557</td>\n",
       "    </tr>\n",
       "    <tr>\n",
       "      <th>Primary_proc</th>\n",
       "      <td>0.390567</td>\n",
       "      <td>0.668168</td>\n",
       "      <td>1.000000</td>\n",
       "      <td>0.125626</td>\n",
       "      <td>0.071499</td>\n",
       "      <td>0.068028</td>\n",
       "      <td>-0.015716</td>\n",
       "      <td>0.031074</td>\n",
       "      <td>0.030166</td>\n",
       "    </tr>\n",
       "    <tr>\n",
       "      <th>Quotation</th>\n",
       "      <td>0.050789</td>\n",
       "      <td>0.248880</td>\n",
       "      <td>0.125626</td>\n",
       "      <td>1.000000</td>\n",
       "      <td>0.803640</td>\n",
       "      <td>-0.036819</td>\n",
       "      <td>-0.519403</td>\n",
       "      <td>0.027468</td>\n",
       "      <td>-0.226026</td>\n",
       "    </tr>\n",
       "    <tr>\n",
       "      <th>Export_duty</th>\n",
       "      <td>-0.059826</td>\n",
       "      <td>0.104589</td>\n",
       "      <td>0.071499</td>\n",
       "      <td>0.803640</td>\n",
       "      <td>1.000000</td>\n",
       "      <td>-0.436126</td>\n",
       "      <td>-0.867241</td>\n",
       "      <td>0.142570</td>\n",
       "      <td>-0.579101</td>\n",
       "    </tr>\n",
       "    <tr>\n",
       "      <th>OPEC_convention</th>\n",
       "      <td>-0.140123</td>\n",
       "      <td>-0.038215</td>\n",
       "      <td>0.068028</td>\n",
       "      <td>-0.036819</td>\n",
       "      <td>-0.436126</td>\n",
       "      <td>1.000000</td>\n",
       "      <td>0.261387</td>\n",
       "      <td>-0.060193</td>\n",
       "      <td>0.202289</td>\n",
       "    </tr>\n",
       "    <tr>\n",
       "      <th>Venezuela_crisis</th>\n",
       "      <td>0.268771</td>\n",
       "      <td>0.099913</td>\n",
       "      <td>-0.015716</td>\n",
       "      <td>-0.519403</td>\n",
       "      <td>-0.867241</td>\n",
       "      <td>0.261387</td>\n",
       "      <td>1.000000</td>\n",
       "      <td>-0.230283</td>\n",
       "      <td>0.773906</td>\n",
       "    </tr>\n",
       "    <tr>\n",
       "      <th>Russia_elections</th>\n",
       "      <td>-0.124058</td>\n",
       "      <td>-0.013384</td>\n",
       "      <td>0.031074</td>\n",
       "      <td>0.027468</td>\n",
       "      <td>0.142570</td>\n",
       "      <td>-0.060193</td>\n",
       "      <td>-0.230283</td>\n",
       "      <td>1.000000</td>\n",
       "      <td>-0.297560</td>\n",
       "    </tr>\n",
       "    <tr>\n",
       "      <th>Russia_max_output</th>\n",
       "      <td>0.511570</td>\n",
       "      <td>0.316557</td>\n",
       "      <td>0.030166</td>\n",
       "      <td>-0.226026</td>\n",
       "      <td>-0.579101</td>\n",
       "      <td>0.202289</td>\n",
       "      <td>0.773906</td>\n",
       "      <td>-0.297560</td>\n",
       "      <td>1.000000</td>\n",
       "    </tr>\n",
       "  </tbody>\n",
       "</table>\n",
       "</div>"
      ],
      "text/plain": [
       "                     Export    Output  Primary_proc  Quotation  Export_duty  \\\n",
       "Export             1.000000  0.775061      0.390567   0.050789    -0.059826   \n",
       "Output             0.775061  1.000000      0.668168   0.248880     0.104589   \n",
       "Primary_proc       0.390567  0.668168      1.000000   0.125626     0.071499   \n",
       "Quotation          0.050789  0.248880      0.125626   1.000000     0.803640   \n",
       "Export_duty       -0.059826  0.104589      0.071499   0.803640     1.000000   \n",
       "OPEC_convention   -0.140123 -0.038215      0.068028  -0.036819    -0.436126   \n",
       "Venezuela_crisis   0.268771  0.099913     -0.015716  -0.519403    -0.867241   \n",
       "Russia_elections  -0.124058 -0.013384      0.031074   0.027468     0.142570   \n",
       "Russia_max_output  0.511570  0.316557      0.030166  -0.226026    -0.579101   \n",
       "\n",
       "                   OPEC_convention  Venezuela_crisis  Russia_elections  \\\n",
       "Export                   -0.140123          0.268771         -0.124058   \n",
       "Output                   -0.038215          0.099913         -0.013384   \n",
       "Primary_proc              0.068028         -0.015716          0.031074   \n",
       "Quotation                -0.036819         -0.519403          0.027468   \n",
       "Export_duty              -0.436126         -0.867241          0.142570   \n",
       "OPEC_convention           1.000000          0.261387         -0.060193   \n",
       "Venezuela_crisis          0.261387          1.000000         -0.230283   \n",
       "Russia_elections         -0.060193         -0.230283          1.000000   \n",
       "Russia_max_output         0.202289          0.773906         -0.297560   \n",
       "\n",
       "                   Russia_max_output  \n",
       "Export                      0.511570  \n",
       "Output                      0.316557  \n",
       "Primary_proc                0.030166  \n",
       "Quotation                  -0.226026  \n",
       "Export_duty                -0.579101  \n",
       "OPEC_convention             0.202289  \n",
       "Venezuela_crisis            0.773906  \n",
       "Russia_elections           -0.297560  \n",
       "Russia_max_output           1.000000  "
      ]
     },
     "execution_count": 51,
     "metadata": {},
     "output_type": "execute_result"
    }
   ],
   "source": [
    "data.corr()"
   ]
  },
  {
   "cell_type": "code",
   "execution_count": 52,
   "metadata": {},
   "outputs": [
    {
     "data": {
      "text/plain": [
       "25"
      ]
     },
     "execution_count": 52,
     "metadata": {},
     "output_type": "execute_result"
    }
   ],
   "source": [
    "data['Output'].count()"
   ]
  },
  {
   "cell_type": "code",
   "execution_count": 76,
   "metadata": {},
   "outputs": [
    {
     "data": {
      "image/png": "[encoded data removed]",
      "text/plain": [
       "<Figure size 432x288 with 1 Axes>"
      ]
     },
     "metadata": {
      "needs_background": "light"
     },
     "output_type": "display_data"
    },
    {
     "name": "stdout",
     "output_type": "stream",
     "text": [
      "Коэффициент корреляции Пирсона: 0.78\n",
      "значение p-value: 1e-05\n",
      "Значение t-набл критерий Стьюдента: -0.45\n",
      "Значение t-критическое критерий Стьюдента: 1.71\n",
      "t-набл<t-кр:признаки  независимы\n"
     ]
    }
   ],
   "source": [
    "x = data['Output']\n",
    "y = data['Export']\n",
    "plt.scatter(x, y)\n",
    "sns.regplot(x=x, y=y, data=data, fit_reg=True)\n",
    "plt.title('Scatter plot')\n",
    "plt. xlabel('Output')\n",
    "plt. ylabel('Export')\n",
    "plt.show()\n",
    "corr_EO, p_value = pearsonr(x, y)\n",
    "print('Коэффициент корреляции Пирсона:', round(corr_EO,2))\n",
    "print('значение p-value:', round(p_value,5))\n",
    "t_nabl=corr*(pow((25-2),0.5)/pow((1-corr_EO*corr_EO),0.5))\n",
    "print('Значение t-набл критерий Стьюдента:', round(t_nabl,2))\n",
    "t_kr= sts.t.ppf(0.95, 24)\n",
    "print ('Значение t-критическое критерий Стьюдента:', round(sts.t.ppf(0.95, 24),2))\n",
    "if t_nabl > t_kr: print('t-набл>t-кр: признаки зависимы')\n",
    "else: print('t-набл<t-кр:признаки  независимы')"
   ]
  },
  {
   "cell_type": "code",
   "execution_count": 17,
   "metadata": {},
   "outputs": [],
   "source": [
    "import scipy.stats as sts\n"
   ]
  },
  {
   "cell_type": "code",
   "execution_count": 64,
   "metadata": {},
   "outputs": [
    {
     "name": "stdout",
     "output_type": "stream",
     "text": [
      "Spearmans correlation coefficient: 0.752 1.4882079308091702e-05\n",
      "Kendall correlation coefficient: 0.573 5.893008608994226e-05\n"
     ]
    }
   ],
   "source": [
    "coef, p = sts.spearmanr(data['Export'], data['Output'])\n",
    "print('Spearmans correlation coefficient: %.3f' % coef, p)\n",
    "\n",
    "coef, p = sts.kendalltau(data['Export'], data['Output'])\n",
    "print('Kendall correlation coefficient: %.3f' % coef, p)"
   ]
  },
  {
   "cell_type": "markdown",
   "metadata": {},
   "source": [
    "Линейная связь значима. Нелинейная связь незначима"
   ]
  },
  {
   "cell_type": "code",
   "execution_count": 66,
   "metadata": {},
   "outputs": [
    {
     "data": {
      "image/png": "[encoded data removed]",
      "text/plain": [
       "<Figure size 432x288 with 1 Axes>"
      ]
     },
     "metadata": {
      "needs_background": "light"
     },
     "output_type": "display_data"
    },
    {
     "name": "stdout",
     "output_type": "stream",
     "text": [
      "Коэффициент корреляции Пирсона: 0.39\n",
      "значение p-value: 0.05357\n",
      "Значение t-набл критерий Стьюдента: 2.03\n",
      "Значение t-критическое критерий Стьюдента: 1.71\n",
      "t-набл>t-кр: признаки зависимы\n"
     ]
    }
   ],
   "source": [
    "x = data['Primary_proc']\n",
    "y = data['Export']\n",
    "plt.scatter(x, y)\n",
    "sns.regplot(x=x, y=y, data=data, fit_reg=True)\n",
    "plt.title('Scatter plot')\n",
    "plt. xlabel('Primary_proc')\n",
    "plt. ylabel('Export')\n",
    "plt.show()\n",
    "corr, p_value = pearsonr(x, y)\n",
    "print('Коэффициент корреляции Пирсона:', round(corr,2))\n",
    "print('значение p-value:', round(p_value,5))\n",
    "t_nabl=corr*(pow((25-2),0.5)/pow((1-corr*corr),0.5))\n",
    "print('Значение t-набл критерий Стьюдента:', round(t_nabl,2))\n",
    "t_kr= sts.t.ppf(0.95, 24)\n",
    "print ('Значение t-критическое критерий Стьюдента:', round(sts.t.ppf(0.95, 24),2))\n",
    "if t_nabl > t_kr: print('t-набл>t-кр: признаки зависимы')\n",
    "else: print('t-набл<t-кр:признаки  независимы')"
   ]
  },
  {
   "cell_type": "code",
   "execution_count": 67,
   "metadata": {},
   "outputs": [
    {
     "name": "stdout",
     "output_type": "stream",
     "text": [
      "Spearmans correlation coefficient: 0.354 0.08268751738668596\n",
      "Kendall correlation coefficient: 0.573 5.893008608994226e-05\n"
     ]
    }
   ],
   "source": [
    "coef, p = sts.spearmanr(x, y)\n",
    "print('Spearmans correlation coefficient: %.3f' % coef, p)\n",
    "\n",
    "coef, p = sts.kendalltau(data['Export'], data['Output'])\n",
    "print('Kendall correlation coefficient: %.3f' % coef, p)"
   ]
  },
  {
   "cell_type": "code",
   "execution_count": 68,
   "metadata": {},
   "outputs": [
    {
     "data": {
      "image/png": "[encoded data removed]",
      "text/plain": [
       "<Figure size 432x288 with 1 Axes>"
      ]
     },
     "metadata": {
      "needs_background": "light"
     },
     "output_type": "display_data"
    },
    {
     "name": "stdout",
     "output_type": "stream",
     "text": [
      "Коэффициент корреляции Пирсона: 0.05\n",
      "значение p-value: 0.80948\n",
      "Значение t-набл критерий Стьюдента: 0.24\n",
      "Значение t-критическое критерий Стьюдента: 1.71\n",
      "t-набл<t-кр:признаки  независимы\n"
     ]
    }
   ],
   "source": [
    "x = data['Quotation']\n",
    "y = data['Export']\n",
    "plt.scatter(x, y)\n",
    "sns.regplot(x=x, y=y, data=data, fit_reg=True)\n",
    "plt.title('Scatter plot')\n",
    "plt. xlabel('Quotation')\n",
    "plt. ylabel('Export')\n",
    "plt.show()\n",
    "corr, p_value = pearsonr(x, y)\n",
    "print('Коэффициент корреляции Пирсона:', round(corr,2))\n",
    "print('значение p-value:', round(p_value,5))\n",
    "t_nabl=corr*(pow((25-2),0.5)/pow((1-corr*corr),0.5))\n",
    "print('Значение t-набл критерий Стьюдента:', round(t_nabl,2))\n",
    "t_kr= sts.t.ppf(0.95, 24)\n",
    "print ('Значение t-критическое критерий Стьюдента:', round(sts.t.ppf(0.95, 24),2))\n",
    "if t_nabl > t_kr: print('t-набл>t-кр: признаки зависимы')\n",
    "else: print('t-набл<t-кр:признаки  независимы')"
   ]
  },
  {
   "cell_type": "markdown",
   "metadata": {},
   "source": [
    "признаки независимы. однако значение p-value больше 0, 05, следовательно, утверждение о независимости незначимо. Остается вопрос, можно убрать параметр Quotation"
   ]
  },
  {
   "cell_type": "code",
   "execution_count": 69,
   "metadata": {},
   "outputs": [
    {
     "name": "stdout",
     "output_type": "stream",
     "text": [
      "Spearmans correlation coefficient: 0.048 0.8190033332529004\n",
      "Kendall correlation coefficient: 0.573 5.893008608994226e-05\n"
     ]
    }
   ],
   "source": [
    "coef, p = sts.spearmanr(x, y)\n",
    "print('Spearmans correlation coefficient: %.3f' % coef, p)\n",
    "\n",
    "coef, p = sts.kendalltau(data['Export'], data['Output'])\n",
    "print('Kendall correlation coefficient: %.3f' % coef, p)"
   ]
  },
  {
   "cell_type": "code",
   "execution_count": 70,
   "metadata": {},
   "outputs": [
    {
     "data": {
      "image/png": "[encoded data removed]",
      "text/plain": [
       "<Figure size 432x288 with 1 Axes>"
      ]
     },
     "metadata": {
      "needs_background": "light"
     },
     "output_type": "display_data"
    },
    {
     "name": "stdout",
     "output_type": "stream",
     "text": [
      "Коэффициент корреляции Пирсона: -0.06\n",
      "значение p-value: 0.77636\n",
      "Значение t-набл критерий Стьюдента: -0.29\n",
      "Значение t-критическое критерий Стьюдента: 1.71\n",
      "t-набл<t-кр:признаки  независимы\n"
     ]
    }
   ],
   "source": [
    "x = data['Export_duty']\n",
    "y = data['Export']\n",
    "plt.scatter(x, y)\n",
    "sns.regplot(x=x, y=y, data=data, scatter_kws={\"s\": 80}, order=2, ci=None)\n",
    "plt.title('Scatter plot')\n",
    "plt. xlabel('Export_duty')\n",
    "plt. ylabel('Export')\n",
    "plt.show()\n",
    "corr, p_value = pearsonr(x, y)\n",
    "print('Коэффициент корреляции Пирсона:', round(corr,2))\n",
    "print('значение p-value:', round(p_value,5))\n",
    "t_nabl=corr*(pow((25-2),0.5)/pow((1-corr*corr),0.5))\n",
    "print('Значение t-набл критерий Стьюдента:', round(t_nabl,2))\n",
    "t_kr= sts.t.ppf(0.95, 24)\n",
    "print ('Значение t-критическое критерий Стьюдента:', round(sts.t.ppf(0.95, 24),2))\n",
    "if t_nabl > t_kr: print('t-набл>t-кр: признаки зависимы')\n",
    "else: print('t-набл<t-кр:признаки  независимы')"
   ]
  },
  {
   "cell_type": "markdown",
   "metadata": {},
   "source": [
    "p-value больше 0.05. связь между признаками имеет вид параболы. Попробуем просчитать коэффициент корреляции Спирмена для нелинейной связи. "
   ]
  },
  {
   "cell_type": "code",
   "execution_count": 71,
   "metadata": {},
   "outputs": [
    {
     "name": "stdout",
     "output_type": "stream",
     "text": [
      "Spearmans correlation coefficient: -0.009 0.9650165984225664\n",
      "Kendall correlation coefficient: 0.573 5.893008608994226e-05\n"
     ]
    }
   ],
   "source": [
    "coef, p = sts.spearmanr(x, y)\n",
    "print('Spearmans correlation coefficient: %.3f' % coef, p)\n",
    "\n",
    "coef, p = sts.kendalltau(data['Export'], data['Output'])\n",
    "print('Kendall correlation coefficient: %.3f' % coef, p)"
   ]
  },
  {
   "cell_type": "code",
   "execution_count": 72,
   "metadata": {},
   "outputs": [
    {
     "data": {
      "text/plain": [
       "pandas.core.series.Series"
      ]
     },
     "execution_count": 72,
     "metadata": {},
     "output_type": "execute_result"
    }
   ],
   "source": [
    "type(x)"
   ]
  },
  {
   "cell_type": "markdown",
   "metadata": {},
   "source": [
    "Нулевая гипотеза: категорированные признаки X и Z независимы\n",
    "Для оценки значимости коэффициента корреляции используют критерий Стьюдента\n",
    "По таблице Стьюдента найдем Tнабл и сравним с табличным значением. если наблюдаемое значение больше табличного, нулевая гипотеза о независимости признаков отвергается и признаки зависимы\n",
    "Статистикой в данном случае служит случайная величина T набл = r*(корень(n-2)/(корень(1-r^2),\n",
    "имеющая распределение Стьюдента с f = n – 2 числом степеней свободы"
   ]
  },
  {
   "cell_type": "code",
   "execution_count": 73,
   "metadata": {},
   "outputs": [
    {
     "name": "stdout",
     "output_type": "stream",
     "text": [
      "Ttest_indResult(statistic=-64.28926374425792, pvalue=3.164149688595976e-48)\n"
     ]
    }
   ],
   "source": [
    "print(stats.ttest_ind(data['Export'], data['Output']))"
   ]
  },
  {
   "cell_type": "code",
   "execution_count": 74,
   "metadata": {},
   "outputs": [
    {
     "name": "stdout",
     "output_type": "stream",
     "text": [
      "Число наблюдений в выборке 25\n",
      "Число степеней свободы 24\n"
     ]
    }
   ],
   "source": [
    "print('Число наблюдений в выборке',(data['Export']).count())\n",
    "print('Число степеней свободы',(data['Export']).count()-1)"
   ]
  },
  {
   "cell_type": "code",
   "execution_count": 77,
   "metadata": {},
   "outputs": [
    {
     "name": "stdout",
     "output_type": "stream",
     "text": [
      "5.88\n"
     ]
    }
   ],
   "source": [
    "t_nabl=corr_EO*(pow((25-2),0.5)/pow((1-corr_EO*corr_EO),0.5))\n",
    "print(round(t_nabl,2))\n"
   ]
  },
  {
   "cell_type": "markdown",
   "metadata": {},
   "source": [
    "T наблюдаемый 5.88 больше Т критический (1,71 при уровне p=0,05) признаки зависимы"
   ]
  },
  {
   "cell_type": "code",
   "execution_count": 78,
   "metadata": {},
   "outputs": [
    {
     "data": {
      "text/plain": [
       "(-3.127797123256041, 5.127797123256041)"
      ]
     },
     "execution_count": 78,
     "metadata": {},
     "output_type": "execute_result"
    }
   ],
   "source": [
    "from scipy.stats import t\n",
    "t.interval(0.95, 24, loc=1, scale=2) # интервал  T-распределения Стьюдента"
   ]
  },
  {
   "cell_type": "code",
   "execution_count": 80,
   "metadata": {},
   "outputs": [
    {
     "data": {
      "text/plain": [
       "1.7108820799094275"
      ]
     },
     "execution_count": 80,
     "metadata": {},
     "output_type": "execute_result"
    }
   ],
   "source": [
    "sts.t.ppf(0.95, 24) # табличное значение T-распределения Стьюдента с вероятностью 0.95 и числом степеней свободы 24"
   ]
  },
  {
   "cell_type": "code",
   "execution_count": 81,
   "metadata": {},
   "outputs": [
    {
     "data": {
      "text/plain": [
       "<scipy.stats._distn_infrastructure.rv_frozen at 0x1a18510898>"
      ]
     },
     "execution_count": 81,
     "metadata": {},
     "output_type": "execute_result"
    }
   ],
   "source": [
    "sts.t(corr,0.95,24)\n"
   ]
  },
  {
   "cell_type": "code",
   "execution_count": 82,
   "metadata": {},
   "outputs": [
    {
     "data": {
      "image/png": "[encoded data removed]",
      "text/plain": [
       "<Figure size 432x288 with 1 Axes>"
      ]
     },
     "metadata": {
      "needs_background": "light"
     },
     "output_type": "display_data"
    }
   ],
   "source": [
    "rv = t(df=24, loc=0, scale=1)\n",
    "x = np.linspace(rv.ppf(0.0001), rv.ppf(0.9999), 1000)\n",
    "y = rv.pdf(x) \n",
    "\n",
    "x1 = np.linspace(-5,5,1000)                \n",
    "\n",
    "plt.xlim(-5,5)\n",
    "plt.legend(['Нормальное распределение', 'Стьюдента'])\n",
    "plt.plot(x,y,'r.')\n",
    "plt.show()"
   ]
  },
  {
   "cell_type": "code",
   "execution_count": 83,
   "metadata": {},
   "outputs": [
    {
     "data": {
      "image/png": "[encoded data removed]",
      "text/plain": [
       "<Figure size 432x288 with 1 Axes>"
      ]
     },
     "metadata": {
      "needs_background": "light"
     },
     "output_type": "display_data"
    },
    {
     "name": "stdout",
     "output_type": "stream",
     "text": [
      "Коэффициент корреляции Пирсона: 0.8\n",
      "значение p-value: 0.0\n",
      "Значение t-набл критерий Стьюдента: 6.48\n",
      "Значение t-критическое критерий Стьюдента: 1.71\n",
      "t-набл>t-кр: признаки зависимы\n",
      "Spearmans correlation coefficient: 0.765 8.373318952974859e-06\n",
      "Kendall correlation coefficient: 0.660 5.85238431011757e-06\n"
     ]
    }
   ],
   "source": [
    "x = data['Quotation']\n",
    "y = data['Export_duty']\n",
    "plt.scatter(x, y)\n",
    "sns.regplot(x=x, y=y, data=data, scatter_kws={\"s\": 80}, order=1, ci=None, fit_reg=True)\n",
    "plt.title('Scatter plot')\n",
    "plt. xlabel('Quotation')\n",
    "plt. ylabel('Export_duty')\n",
    "plt.show()\n",
    "corr, p_value = pearsonr(x, y)\n",
    "print('Коэффициент корреляции Пирсона:', round(corr,2))\n",
    "print('значение p-value:', round(p_value,5))\n",
    "t_nabl=corr*(pow((25-2),0.5)/pow((1-corr*corr),0.5))\n",
    "print('Значение t-набл критерий Стьюдента:', round(t_nabl,2))\n",
    "t_kr= sts.t.ppf(0.95, 24)\n",
    "print ('Значение t-критическое критерий Стьюдента:', round(sts.t.ppf(0.95, 24),2))\n",
    "if t_nabl > t_kr: print('t-набл>t-кр: признаки зависимы')\n",
    "else: print('t-набл<t-кр:признаки  независимы')\n",
    "coef, p = sts.spearmanr(x, y)\n",
    "print('Spearmans correlation coefficient: %.3f' % coef, p)\n",
    "coef, p = sts.kendalltau(x, y)\n",
    "print('Kendall correlation coefficient: %.3f' % coef, p)"
   ]
  },
  {
   "cell_type": "markdown",
   "metadata": {},
   "source": [
    " Выводы:\n",
    "1. качественные \n",
    "Russia_max_output - cильная зависимость\n",
    "остальные параметры не показали значимых отличий между сгруппированными выборками\n",
    "2. количественные\n",
    "Output - сильная зависимость\n",
    "Primary_proc - есть слабая зависимость\n",
    "Quotation -  все значимые выводы о независимости имеют высокий p-value ???\n",
    "Export_duty - все значимые выводы о независимости имеют высокий p-value ???\n",
    "\n"
   ]
  },
  {
   "cell_type": "markdown",
   "metadata": {},
   "source": [
    "Анализ корреляции между зависимыми переменными"
   ]
  },
  {
   "cell_type": "markdown",
   "metadata": {},
   "source": [
    "Между переменными котировка  экспортная пошлина явно прослеживается линейная кусочная связь. В уравнение необходимо ввести фиктивную переменную, разделяющую интервал экспортной пошлины от 0 до 100 и от 110 до 140"
   ]
  },
  {
   "cell_type": "code",
   "execution_count": 84,
   "metadata": {},
   "outputs": [
    {
     "data": {
      "text/plain": [
       "25"
      ]
     },
     "execution_count": 84,
     "metadata": {},
     "output_type": "execute_result"
    }
   ],
   "source": [
    "(data['Export']).count()"
   ]
  },
  {
   "cell_type": "code",
   "execution_count": 85,
   "metadata": {
    "scrolled": true
   },
   "outputs": [
    {
     "data": {
      "image/png": "[encoded data removed]",
      "text/plain": [
       "<Figure size 864x864 with 2 Axes>"
      ]
     },
     "metadata": {
      "needs_background": "light"
     },
     "output_type": "display_data"
    }
   ],
   "source": [
    "import seaborn as sns\n",
    "sns.heatmap(data.corr(),annot=True,cmap='RdYlGn',linewidths=0.2) #data.corr()-->correlation matrix\n",
    "fig=plt.gcf()\n",
    "fig.set_size_inches(12,12)\n",
    "plt.show()"
   ]
  },
  {
   "cell_type": "code",
   "execution_count": 86,
   "metadata": {},
   "outputs": [
    {
     "data": {
      "image/png": "[encoded data removed]",
      "text/plain": [
       "<Figure size 1620x1620 with 90 Axes>"
      ]
     },
     "metadata": {
      "needs_background": "light"
     },
     "output_type": "display_data"
    }
   ],
   "source": [
    "g = sns.pairplot(data)"
   ]
  },
  {
   "cell_type": "markdown",
   "metadata": {},
   "source": [
    "Коэффициент корреляции Кендалла и Спирмена\n",
    "Если коэффициент корреляции Пирсона показывает линейную зависимость, то коэффициент Кендалла и Спирмена показывает зависимость ранговую: возрастание или убывание результативного признака при возрастании факторного. Это показатель тесноты монотонной нелинейной связи.\n"
   ]
  },
  {
   "cell_type": "code",
   "execution_count": 88,
   "metadata": {},
   "outputs": [
    {
     "data": {
      "image/png": "[encoded data removed]",
      "text/plain": [
       "<Figure size 432x288 with 1 Axes>"
      ]
     },
     "metadata": {
      "needs_background": "light"
     },
     "output_type": "display_data"
    },
    {
     "name": "stdout",
     "output_type": "stream",
     "text": [
      "Коэффициент корреляции Пирсона: 0.67\n",
      "значение p-value: 0.00026\n",
      "Значение t-набл критерий Стьюдента: 4.31\n",
      "Значение t-критическое критерий Стьюдента: 1.71\n",
      "t-набл>t-кр: признаки зависимы\n",
      "Spearmans correlation coefficient: 0.615 0.001079290156864723\n",
      "Kendalls correlation coefficient: 0.447 0.0017506488597579034\n"
     ]
    }
   ],
   "source": [
    "x = data['Output']\n",
    "y = data['Primary_proc']\n",
    "plt.scatter(x, y)\n",
    "sns.regplot(x=x, y=y, data=data, scatter_kws={\"s\": 80}, order=1, ci=None, fit_reg=True)\n",
    "plt.title('Scatter plot')\n",
    "plt. xlabel('Output')\n",
    "plt. ylabel('Primary_proc')\n",
    "plt.show()\n",
    "corr, p_value = pearsonr(x, y)\n",
    "print('Коэффициент корреляции Пирсона:', round(corr,2))\n",
    "print('значение p-value:', round(p_value,5))\n",
    "t_nabl=corr*(pow((25-2),0.5)/pow((1-corr*corr),0.5))\n",
    "print('Значение t-набл критерий Стьюдента:', round(t_nabl,2))\n",
    "t_kr= sts.t.ppf(0.95, 24)\n",
    "print ('Значение t-критическое критерий Стьюдента:', round(sts.t.ppf(0.95, 24),2))\n",
    "if t_nabl > t_kr: print('t-набл>t-кр: признаки зависимы')\n",
    "else: print('t-набл<t-кр:признаки  независимы')\n",
    "coef, p = sts.spearmanr(x, y)\n",
    "print('Spearmans correlation coefficient: %.3f' % coef, p)\n",
    "coefK, p = sts.kendalltau(x, y)\n",
    "print('Kendalls correlation coefficient: %.3f' % coefK, p)"
   ]
  },
  {
   "cell_type": "markdown",
   "metadata": {},
   "source": [
    "Анализ связи между качественными переменными"
   ]
  },
  {
   "cell_type": "code",
   "execution_count": 89,
   "metadata": {},
   "outputs": [
    {
     "name": "stdout",
     "output_type": "stream",
     "text": [
      "                     sum_sq    df          F    PR(>F)\n",
      "Russia_max_output  3.689412   1.0  34.346667  0.000006\n",
      "Residual           2.470588  23.0        NaN       NaN\n"
     ]
    }
   ],
   "source": [
    "mod = ols('Venezuela_crisis ~ Russia_max_output', data= data).fit()\n",
    "anova_table= sm.stats.anova_lm(mod,typ=2)\n",
    "print(anova_table)"
   ]
  },
  {
   "cell_type": "markdown",
   "metadata": {},
   "source": [
    "Venezuela_crisis ~ Russia_max_output связаны по p-value\n",
    "проверим статистики хи-квадрат и V-крамера"
   ]
  },
  {
   "cell_type": "code",
   "execution_count": 90,
   "metadata": {},
   "outputs": [
    {
     "data": {
      "text/html": [
       "<div>\n",
       "<style scoped>\n",
       "    .dataframe tbody tr th:only-of-type {\n",
       "        vertical-align: middle;\n",
       "    }\n",
       "\n",
       "    .dataframe tbody tr th {\n",
       "        vertical-align: top;\n",
       "    }\n",
       "\n",
       "    .dataframe thead th {\n",
       "        text-align: right;\n",
       "    }\n",
       "</style>\n",
       "<table border=\"1\" class=\"dataframe\">\n",
       "  <thead>\n",
       "    <tr style=\"text-align: right;\">\n",
       "      <th>Russia_max_output</th>\n",
       "      <th>0</th>\n",
       "      <th>1</th>\n",
       "    </tr>\n",
       "    <tr>\n",
       "      <th>Venezuela_crisis</th>\n",
       "      <th></th>\n",
       "      <th></th>\n",
       "    </tr>\n",
       "  </thead>\n",
       "  <tbody>\n",
       "    <tr>\n",
       "      <th>0</th>\n",
       "      <td>8</td>\n",
       "      <td>3</td>\n",
       "    </tr>\n",
       "    <tr>\n",
       "      <th>1</th>\n",
       "      <td>0</td>\n",
       "      <td>14</td>\n",
       "    </tr>\n",
       "  </tbody>\n",
       "</table>\n",
       "</div>"
      ],
      "text/plain": [
       "Russia_max_output  0   1\n",
       "Venezuela_crisis        \n",
       "0                  8   3\n",
       "1                  0  14"
      ]
     },
     "execution_count": 90,
     "metadata": {},
     "output_type": "execute_result"
    }
   ],
   "source": [
    "table = pd.crosstab(data['Venezuela_crisis'], data['Russia_max_output'])\n",
    "table"
   ]
  },
  {
   "cell_type": "code",
   "execution_count": 91,
   "metadata": {},
   "outputs": [
    {
     "data": {
      "text/plain": [
       "[[8, 3], [0, 14]]"
      ]
     },
     "execution_count": 91,
     "metadata": {},
     "output_type": "execute_result"
    }
   ],
   "source": [
    "table3= [ [ 8, 3 ], [ 0, 14 ] ]\n",
    "table3"
   ]
  },
  {
   "cell_type": "code",
   "execution_count": 93,
   "metadata": {},
   "outputs": [
    {
     "name": "stdout",
     "output_type": "stream",
     "text": [
      "test Statistics: 11.817525305576778\n",
      "degrees of freedom: 1\n",
      "p-value: 0.00058675795309472\n",
      "\n",
      "[[3.52 7.48]\n",
      " [4.48 9.52]]\n",
      "Probably dependent\n"
     ]
    }
   ],
   "source": [
    "chi2, prob, df, expected = sts.chi2_contingency(table3)\n",
    "output = \"test Statistics: {}\\ndegrees of freedom: {}\\np-value: {}\\n\"\n",
    "\n",
    "print(output.format( chi2, df, prob))\n",
    "\n",
    "print(expected)\n",
    "\n",
    "if prob > 0.05:\n",
    "    print('Probably independent')\n",
    "else:\n",
    "\tprint('Probably dependent')"
   ]
  },
  {
   "cell_type": "code",
   "execution_count": 94,
   "metadata": {},
   "outputs": [
    {
     "name": "stdout",
     "output_type": "stream",
     "text": [
      "Статистика хи-квадрат наблюдаемая: 11.818\n",
      "Статистика хи-квадрат табличная: 3.841\n",
      " признаки зависимы\n"
     ]
    }
   ],
   "source": [
    "t_chi2_kr= sts.chi2.ppf(0.95, 1)\n",
    "print('Статистика хи-квадрат наблюдаемая: %.3f' % chi2)\n",
    "print('Статистика хи-квадрат табличная: %.3f' % t_chi2_kr)\n",
    "if chi2 > t_chi2_kr:\n",
    "\tprint(' признаки зависимы')\n",
    "else:\n",
    "\tprint('признаки независимы')\n",
    "\n"
   ]
  },
  {
   "cell_type": "markdown",
   "metadata": {},
   "source": [
    "https://medstatistic.ru/articles/analiz_dannyh.pdf\n",
    "$ v= (χ2) $\n",
    "\n"
   ]
  },
  {
   "cell_type": "code",
   "execution_count": 95,
   "metadata": {},
   "outputs": [
    {
     "data": {
      "text/plain": [
       "(2, 2)"
      ]
     },
     "execution_count": 95,
     "metadata": {},
     "output_type": "execute_result"
    }
   ],
   "source": [
    "n = table.sum()\n",
    "r,k = table.shape\n",
    "r,k"
   ]
  },
  {
   "cell_type": "code",
   "execution_count": 96,
   "metadata": {},
   "outputs": [
    {
     "name": "stdout",
     "output_type": "stream",
     "text": [
      "V-cramer coefficient: 0.702\n",
      "strong dependency\n"
     ]
    }
   ],
   "source": [
    "V_cramer=pow(chi2/(24*pow((2-1)*(2-1),0.5)),0.5)\n",
    "print('V-cramer coefficient: %.3f' %V_cramer)\n",
    "if  V_cramer > 0.5:\n",
    "    print('strong dependency')\n",
    "else:\n",
    "\tprint('weak dependency')"
   ]
  },
  {
   "cell_type": "code",
   "execution_count": 97,
   "metadata": {},
   "outputs": [
    {
     "name": "stdout",
     "output_type": "stream",
     "text": [
      "                    sum_sq    df      F    PR(>F)\n",
      "Russia_elections  0.326667   1.0  1.288  0.268106\n",
      "Residual          5.833333  23.0    NaN       NaN\n"
     ]
    }
   ],
   "source": [
    "mod = ols('Venezuela_crisis ~ Russia_elections', data= data).fit()\n",
    "anova_table= sm.stats.anova_lm(mod,typ=2)\n",
    "print(anova_table)"
   ]
  },
  {
   "cell_type": "code",
   "execution_count": 98,
   "metadata": {},
   "outputs": [
    {
     "name": "stdout",
     "output_type": "stream",
     "text": [
      "                  sum_sq    df         F    PR(>F)\n",
      "OPEC_convention  0.42087   1.0  1.686667  0.206912\n",
      "Residual         5.73913  23.0       NaN       NaN\n"
     ]
    }
   ],
   "source": [
    "mod = ols('Venezuela_crisis ~ OPEC_convention', data= data).fit()\n",
    "anova_table= sm.stats.anova_lm(mod,typ=2)\n",
    "print(anova_table)"
   ]
  },
  {
   "cell_type": "code",
   "execution_count": 99,
   "metadata": {},
   "outputs": [
    {
     "name": "stdout",
     "output_type": "stream",
     "text": [
      "                   sum_sq    df         F    PR(>F)\n",
      "OPEC_convention  0.222609   1.0  0.981333  0.332178\n",
      "Residual         5.217391  23.0       NaN       NaN\n"
     ]
    }
   ],
   "source": [
    "mod = ols('Russia_max_output ~ OPEC_convention', data= data).fit()\n",
    "anova_table= sm.stats.anova_lm(mod,typ=2)\n",
    "print(anova_table)"
   ]
  },
  {
   "cell_type": "code",
   "execution_count": 100,
   "metadata": {},
   "outputs": [
    {
     "name": "stdout",
     "output_type": "stream",
     "text": [
      "                    sum_sq    df         F    PR(>F)\n",
      "Russia_elections  0.481667   1.0  2.234286  0.148574\n",
      "Residual          4.958333  23.0       NaN       NaN\n"
     ]
    }
   ],
   "source": [
    "mod = ols('Russia_max_output ~ Russia_elections', data= data).fit()\n",
    "anova_table= sm.stats.anova_lm(mod,typ=2)\n",
    "print(anova_table)"
   ]
  },
  {
   "cell_type": "code",
   "execution_count": 101,
   "metadata": {},
   "outputs": [
    {
     "name": "stdout",
     "output_type": "stream",
     "text": [
      "                    sum_sq    df         F    PR(>F)\n",
      "Russia_elections  0.006667   1.0  0.083636  0.775019\n",
      "Residual          1.833333  23.0       NaN       NaN\n"
     ]
    }
   ],
   "source": [
    "mod = ols('OPEC_convention ~ Russia_elections', data= data).fit()\n",
    "anova_table= sm.stats.anova_lm(mod,typ=2)\n",
    "print(anova_table)"
   ]
  },
  {
   "cell_type": "code",
   "execution_count": 102,
   "metadata": {},
   "outputs": [],
   "source": [
    "t_kr= sts.t.ppf(0.95, 24)"
   ]
  },
  {
   "cell_type": "markdown",
   "metadata": {},
   "source": [
    "Таблица сопряженности"
   ]
  },
  {
   "cell_type": "code",
   "execution_count": 103,
   "metadata": {},
   "outputs": [
    {
     "data": {
      "text/html": [
       "<div>\n",
       "<style scoped>\n",
       "    .dataframe tbody tr th:only-of-type {\n",
       "        vertical-align: middle;\n",
       "    }\n",
       "\n",
       "    .dataframe tbody tr th {\n",
       "        vertical-align: top;\n",
       "    }\n",
       "\n",
       "    .dataframe thead th {\n",
       "        text-align: right;\n",
       "    }\n",
       "</style>\n",
       "<table border=\"1\" class=\"dataframe\">\n",
       "  <thead>\n",
       "    <tr style=\"text-align: right;\">\n",
       "      <th>Russia_elections</th>\n",
       "      <th>0</th>\n",
       "      <th>1</th>\n",
       "    </tr>\n",
       "    <tr>\n",
       "      <th>OPEC_convention</th>\n",
       "      <th></th>\n",
       "      <th></th>\n",
       "    </tr>\n",
       "  </thead>\n",
       "  <tbody>\n",
       "    <tr>\n",
       "      <th>0</th>\n",
       "      <td>22</td>\n",
       "      <td>1</td>\n",
       "    </tr>\n",
       "    <tr>\n",
       "      <th>1</th>\n",
       "      <td>2</td>\n",
       "      <td>0</td>\n",
       "    </tr>\n",
       "  </tbody>\n",
       "</table>\n",
       "</div>"
      ],
      "text/plain": [
       "Russia_elections   0  1\n",
       "OPEC_convention        \n",
       "0                 22  1\n",
       "1                  2  0"
      ]
     },
     "execution_count": 103,
     "metadata": {},
     "output_type": "execute_result"
    }
   ],
   "source": [
    "table = pd.crosstab(data['OPEC_convention'], data['Russia_elections'])\n",
    "table"
   ]
  },
  {
   "cell_type": "code",
   "execution_count": 104,
   "metadata": {},
   "outputs": [
    {
     "data": {
      "text/plain": [
       "[[22, 1], [2, 0]]"
      ]
     },
     "execution_count": 104,
     "metadata": {},
     "output_type": "execute_result"
    }
   ],
   "source": [
    "table2= [ [ 22, 1 ], [ 2, 0 ] ]\n",
    "table2"
   ]
  },
  {
   "cell_type": "markdown",
   "metadata": {},
   "source": [
    "Считаем статистику хи-квадрат для OPEC_convention, Russia_elections"
   ]
  },
  {
   "cell_type": "code",
   "execution_count": 106,
   "metadata": {},
   "outputs": [
    {
     "name": "stdout",
     "output_type": "stream",
     "text": [
      "test Statistics: 2.496603260869565\n",
      "degrees of freedom: 1\n",
      "p-value: 0.11409213692556376\n",
      "\n",
      "[[22.08  0.92]\n",
      " [ 1.92  0.08]]\n",
      "Probably independent\n"
     ]
    }
   ],
   "source": [
    "chi2, prob, df, expected = sts.chi2_contingency(table2)\n",
    "output = \"test Statistics: {}\\ndegrees of freedom: {}\\np-value: {}\\n\"\n",
    "\n",
    "print(output.format( chi2, df, prob))\n",
    "\n",
    "print(expected)\n",
    "\n",
    "if prob > 0.05:\n",
    "\tprint('Probably independent')\n",
    "else:\n",
    "\tprint('Probably dependent')"
   ]
  },
  {
   "cell_type": "markdown",
   "metadata": {},
   "source": [
    "Считаем критическое значение хи-квадрат статистики"
   ]
  },
  {
   "cell_type": "code",
   "execution_count": 107,
   "metadata": {},
   "outputs": [
    {
     "name": "stdout",
     "output_type": "stream",
     "text": [
      "Статистика хи-квадрат наблюдаемая: 2.497\n",
      "Статистика хи-квадрат табличная: 3.841\n",
      "признаки независимы\n"
     ]
    }
   ],
   "source": [
    "t_chi2_kr= sts.chi2.ppf(0.95, 1)\n",
    "print('Статистика хи-квадрат наблюдаемая: %.3f' % chi2)\n",
    "print('Статистика хи-квадрат табличная: %.3f' % t_chi2_kr)\n",
    "if chi2 > t_chi2_kr:\n",
    "\tprint(' признаки зависимы')\n",
    "else:\n",
    "\tprint('признаки независимы')\n"
   ]
  },
  {
   "cell_type": "code",
   "execution_count": 108,
   "metadata": {},
   "outputs": [
    {
     "data": {
      "text/plain": [
       "(2, 2)"
      ]
     },
     "execution_count": 108,
     "metadata": {},
     "output_type": "execute_result"
    }
   ],
   "source": [
    "r,k = table.shape\n",
    "r,k"
   ]
  },
  {
   "cell_type": "code",
   "execution_count": 109,
   "metadata": {},
   "outputs": [
    {
     "name": "stdout",
     "output_type": "stream",
     "text": [
      "V-cramer coefficient: 0.323\n",
      "weak dependency\n"
     ]
    }
   ],
   "source": [
    "V_cramer=pow(chi2/(24*pow((2-1)*(2-1),0.5)),0.5)\n",
    "print('V-cramer coefficient: %.3f' %V_cramer)\n",
    "if  V_cramer > 0.5:\n",
    "    print('strong dependency')\n",
    "else:\n",
    "\tprint('weak dependency')"
   ]
  },
  {
   "cell_type": "code",
   "execution_count": 110,
   "metadata": {},
   "outputs": [
    {
     "data": {
      "text/html": [
       "<div>\n",
       "<style scoped>\n",
       "    .dataframe tbody tr th:only-of-type {\n",
       "        vertical-align: middle;\n",
       "    }\n",
       "\n",
       "    .dataframe tbody tr th {\n",
       "        vertical-align: top;\n",
       "    }\n",
       "\n",
       "    .dataframe thead th {\n",
       "        text-align: right;\n",
       "    }\n",
       "</style>\n",
       "<table border=\"1\" class=\"dataframe\">\n",
       "  <thead>\n",
       "    <tr style=\"text-align: right;\">\n",
       "      <th></th>\n",
       "      <th>data</th>\n",
       "      <th>Export</th>\n",
       "      <th>Output</th>\n",
       "      <th>Primary_proc</th>\n",
       "      <th>Quotation</th>\n",
       "      <th>Export_duty</th>\n",
       "      <th>OPEC_convention</th>\n",
       "      <th>Venezuela_crisis</th>\n",
       "      <th>Russia_elections</th>\n",
       "      <th>Russia_max_output</th>\n",
       "    </tr>\n",
       "  </thead>\n",
       "  <tbody>\n",
       "    <tr>\n",
       "      <th>1</th>\n",
       "      <td>01.02.2018</td>\n",
       "      <td>19266.4</td>\n",
       "      <td>41849.7</td>\n",
       "      <td>22517.2</td>\n",
       "      <td>485.5</td>\n",
       "      <td>120.1</td>\n",
       "      <td>0</td>\n",
       "      <td>0</td>\n",
       "      <td>0</td>\n",
       "      <td>0</td>\n",
       "    </tr>\n",
       "    <tr>\n",
       "      <th>2</th>\n",
       "      <td>01.03.2018</td>\n",
       "      <td>21148.1</td>\n",
       "      <td>46392.3</td>\n",
       "      <td>24392.8</td>\n",
       "      <td>483.7</td>\n",
       "      <td>119.5</td>\n",
       "      <td>0</td>\n",
       "      <td>0</td>\n",
       "      <td>1</td>\n",
       "      <td>0</td>\n",
       "    </tr>\n",
       "    <tr>\n",
       "      <th>3</th>\n",
       "      <td>01.04.2018</td>\n",
       "      <td>21329.6</td>\n",
       "      <td>44880.5</td>\n",
       "      <td>22864.6</td>\n",
       "      <td>456.6</td>\n",
       "      <td>111.4</td>\n",
       "      <td>0</td>\n",
       "      <td>0</td>\n",
       "      <td>0</td>\n",
       "      <td>0</td>\n",
       "    </tr>\n",
       "    <tr>\n",
       "      <th>4</th>\n",
       "      <td>01.05.2018</td>\n",
       "      <td>21388.9</td>\n",
       "      <td>46407.2</td>\n",
       "      <td>24687.6</td>\n",
       "      <td>456.6</td>\n",
       "      <td>111.4</td>\n",
       "      <td>0</td>\n",
       "      <td>0</td>\n",
       "      <td>0</td>\n",
       "      <td>0</td>\n",
       "    </tr>\n",
       "    <tr>\n",
       "      <th>5</th>\n",
       "      <td>01.06.2018</td>\n",
       "      <td>20161.3</td>\n",
       "      <td>45292.3</td>\n",
       "      <td>24579.6</td>\n",
       "      <td>456.6</td>\n",
       "      <td>111.4</td>\n",
       "      <td>0</td>\n",
       "      <td>0</td>\n",
       "      <td>0</td>\n",
       "      <td>0</td>\n",
       "    </tr>\n",
       "  </tbody>\n",
       "</table>\n",
       "</div>"
      ],
      "text/plain": [
       "         data   Export   Output  Primary_proc  Quotation  Export_duty  \\\n",
       "1  01.02.2018  19266.4  41849.7       22517.2      485.5        120.1   \n",
       "2  01.03.2018  21148.1  46392.3       24392.8      483.7        119.5   \n",
       "3  01.04.2018  21329.6  44880.5       22864.6      456.6        111.4   \n",
       "4  01.05.2018  21388.9  46407.2       24687.6      456.6        111.4   \n",
       "5  01.06.2018  20161.3  45292.3       24579.6      456.6        111.4   \n",
       "\n",
       "   OPEC_convention  Venezuela_crisis  Russia_elections  Russia_max_output  \n",
       "1                0                 0                 0                  0  \n",
       "2                0                 0                 1                  0  \n",
       "3                0                 0                 0                  0  \n",
       "4                0                 0                 0                  0  \n",
       "5                0                 0                 0                  0  "
      ]
     },
     "execution_count": 110,
     "metadata": {},
     "output_type": "execute_result"
    }
   ],
   "source": [
    "data.head()"
   ]
  },
  {
   "cell_type": "markdown",
   "metadata": {},
   "source": [
    "Фич инжириринг: добавим новую переменную Share = для первичной переработки нефти / добыча нефти"
   ]
  },
  {
   "cell_type": "code",
   "execution_count": 67,
   "metadata": {},
   "outputs": [],
   "source": [
    "data['Share'] = data['Primary_proc']/data['Output']"
   ]
  },
  {
   "cell_type": "code",
   "execution_count": 68,
   "metadata": {},
   "outputs": [
    {
     "data": {
      "text/html": [
       "<div>\n",
       "<style scoped>\n",
       "    .dataframe tbody tr th:only-of-type {\n",
       "        vertical-align: middle;\n",
       "    }\n",
       "\n",
       "    .dataframe tbody tr th {\n",
       "        vertical-align: top;\n",
       "    }\n",
       "\n",
       "    .dataframe thead th {\n",
       "        text-align: right;\n",
       "    }\n",
       "</style>\n",
       "<table border=\"1\" class=\"dataframe\">\n",
       "  <thead>\n",
       "    <tr style=\"text-align: right;\">\n",
       "      <th></th>\n",
       "      <th>data</th>\n",
       "      <th>Export</th>\n",
       "      <th>Output</th>\n",
       "      <th>Primary_proc</th>\n",
       "      <th>Quotation</th>\n",
       "      <th>Export_duty</th>\n",
       "      <th>OPEC_convention</th>\n",
       "      <th>Venezuela_crisis</th>\n",
       "      <th>Russia_elections</th>\n",
       "      <th>Russia_max_output</th>\n",
       "      <th>Export_predicted</th>\n",
       "      <th>Err</th>\n",
       "      <th>Share</th>\n",
       "    </tr>\n",
       "  </thead>\n",
       "  <tbody>\n",
       "    <tr>\n",
       "      <th>1</th>\n",
       "      <td>01.02.2018</td>\n",
       "      <td>19266.4</td>\n",
       "      <td>41849.7</td>\n",
       "      <td>22517.2</td>\n",
       "      <td>485.5</td>\n",
       "      <td>120.1</td>\n",
       "      <td>0</td>\n",
       "      <td>0</td>\n",
       "      <td>0</td>\n",
       "      <td>0</td>\n",
       "      <td>19165.62793</td>\n",
       "      <td>100.77207</td>\n",
       "      <td>0.538049</td>\n",
       "    </tr>\n",
       "    <tr>\n",
       "      <th>2</th>\n",
       "      <td>01.03.2018</td>\n",
       "      <td>21148.1</td>\n",
       "      <td>46392.3</td>\n",
       "      <td>24392.8</td>\n",
       "      <td>483.7</td>\n",
       "      <td>119.5</td>\n",
       "      <td>0</td>\n",
       "      <td>0</td>\n",
       "      <td>1</td>\n",
       "      <td>0</td>\n",
       "      <td>21286.56787</td>\n",
       "      <td>-138.46787</td>\n",
       "      <td>0.525794</td>\n",
       "    </tr>\n",
       "    <tr>\n",
       "      <th>3</th>\n",
       "      <td>01.04.2018</td>\n",
       "      <td>21329.6</td>\n",
       "      <td>44880.5</td>\n",
       "      <td>22864.6</td>\n",
       "      <td>456.6</td>\n",
       "      <td>111.4</td>\n",
       "      <td>0</td>\n",
       "      <td>0</td>\n",
       "      <td>0</td>\n",
       "      <td>0</td>\n",
       "      <td>20580.70845</td>\n",
       "      <td>748.89155</td>\n",
       "      <td>0.509455</td>\n",
       "    </tr>\n",
       "    <tr>\n",
       "      <th>4</th>\n",
       "      <td>01.05.2018</td>\n",
       "      <td>21388.9</td>\n",
       "      <td>46407.2</td>\n",
       "      <td>24687.6</td>\n",
       "      <td>456.6</td>\n",
       "      <td>111.4</td>\n",
       "      <td>0</td>\n",
       "      <td>0</td>\n",
       "      <td>0</td>\n",
       "      <td>0</td>\n",
       "      <td>21293.52468</td>\n",
       "      <td>95.37532</td>\n",
       "      <td>0.531978</td>\n",
       "    </tr>\n",
       "    <tr>\n",
       "      <th>5</th>\n",
       "      <td>01.06.2018</td>\n",
       "      <td>20161.3</td>\n",
       "      <td>45292.3</td>\n",
       "      <td>24579.6</td>\n",
       "      <td>456.6</td>\n",
       "      <td>111.4</td>\n",
       "      <td>0</td>\n",
       "      <td>0</td>\n",
       "      <td>0</td>\n",
       "      <td>0</td>\n",
       "      <td>20772.97787</td>\n",
       "      <td>-611.67787</td>\n",
       "      <td>0.542688</td>\n",
       "    </tr>\n",
       "  </tbody>\n",
       "</table>\n",
       "</div>"
      ],
      "text/plain": [
       "         data   Export   Output  Primary_proc  Quotation  Export_duty  \\\n",
       "1  01.02.2018  19266.4  41849.7       22517.2      485.5        120.1   \n",
       "2  01.03.2018  21148.1  46392.3       24392.8      483.7        119.5   \n",
       "3  01.04.2018  21329.6  44880.5       22864.6      456.6        111.4   \n",
       "4  01.05.2018  21388.9  46407.2       24687.6      456.6        111.4   \n",
       "5  01.06.2018  20161.3  45292.3       24579.6      456.6        111.4   \n",
       "\n",
       "   OPEC_convention  Venezuela_crisis  Russia_elections  Russia_max_output  \\\n",
       "1                0                 0                 0                  0   \n",
       "2                0                 0                 1                  0   \n",
       "3                0                 0                 0                  0   \n",
       "4                0                 0                 0                  0   \n",
       "5                0                 0                 0                  0   \n",
       "\n",
       "   Export_predicted        Err     Share  \n",
       "1       19165.62793  100.77207  0.538049  \n",
       "2       21286.56787 -138.46787  0.525794  \n",
       "3       20580.70845  748.89155  0.509455  \n",
       "4       21293.52468   95.37532  0.531978  \n",
       "5       20772.97787 -611.67787  0.542688  "
      ]
     },
     "execution_count": 68,
     "metadata": {},
     "output_type": "execute_result"
    }
   ],
   "source": [
    "data.head()"
   ]
  },
  {
   "cell_type": "markdown",
   "metadata": {},
   "source": [
    "посмотрим характер распределения новой переменной"
   ]
  },
  {
   "cell_type": "code",
   "execution_count": 113,
   "metadata": {},
   "outputs": [
    {
     "data": {
      "image/png": "[encoded data removed]",
      "text/plain": [
       "<Figure size 432x288 with 1 Axes>"
      ]
     },
     "metadata": {
      "needs_background": "light"
     },
     "output_type": "display_data"
    }
   ],
   "source": [
    "sns.distplot(data['Share'])\n",
    "plt.title('Плотность вероятности распределения доли первичной переработки нефти от объема добычи нефти')\n",
    "plt.show()"
   ]
  },
  {
   "cell_type": "markdown",
   "metadata": {},
   "source": [
    "оценим коэффициент корреляции Пирсона между Экспортом и долей"
   ]
  },
  {
   "cell_type": "code",
   "execution_count": 114,
   "metadata": {},
   "outputs": [
    {
     "data": {
      "image/png": "[encoded data removed]",
      "text/plain": [
       "<Figure size 432x288 with 1 Axes>"
      ]
     },
     "metadata": {
      "needs_background": "light"
     },
     "output_type": "display_data"
    },
    {
     "name": "stdout",
     "output_type": "stream",
     "text": [
      "Коэффициент корреляции Пирсона: -0.34\n",
      "значение p-value: 0.10035\n",
      "Значение t-набл критерий Стьюдента: -1.71\n",
      "Значение t-критическое критерий Стьюдента: 1.71\n",
      "t-набл<t-кр:признаки  независимы\n",
      "Spearmans correlation coefficient: -0.332 0.10459374936681606\n",
      "Kendall correlation coefficient: -0.240 0.09265463512122314\n"
     ]
    }
   ],
   "source": [
    "x = data['Share']\n",
    "y = data['Export']\n",
    "plt.scatter(x, y)\n",
    "sns.regplot(x=x, y=y, data=data, scatter_kws={\"s\": 80}, order=1, ci=None, fit_reg=True)\n",
    "plt.title('Scatter plot')\n",
    "plt. xlabel('Share')\n",
    "plt. ylabel('Export')\n",
    "plt.show()\n",
    "corr, p_value = pearsonr(x, y)\n",
    "print('Коэффициент корреляции Пирсона:', round(corr,2))\n",
    "print('значение p-value:', round(p_value,5))\n",
    "t_nabl=corr*(pow((25-2),0.5)/pow((1-corr*corr),0.5))\n",
    "print('Значение t-набл критерий Стьюдента:', round(t_nabl,2))\n",
    "t_kr= sts.t.ppf(0.95, 24)\n",
    "print ('Значение t-критическое критерий Стьюдента:', round(sts.t.ppf(0.95, 24),2))\n",
    "if t_nabl > t_kr: print('t-набл>t-кр: признаки зависимы')\n",
    "else: print('t-набл<t-кр:признаки  независимы')\n",
    "coef, p = sts.spearmanr(x, y)\n",
    "print('Spearmans correlation coefficient: %.3f' % coef, p)\n",
    "coef, p = sts.kendalltau(x, y)\n",
    "print('Kendall correlation coefficient: %.3f' % coef, p)"
   ]
  },
  {
   "cell_type": "markdown",
   "metadata": {},
   "source": [
    "Проверим вид уравнения: Export= a + b*Output + c*Russia_max_output + e"
   ]
  },
  {
   "cell_type": "markdown",
   "metadata": {},
   "source": [
    "Выпишем проверку выдвинутых гипотез о значимости коэффициентов: \n",
    "Ho гипотеза о незначимости коэффициентов\n",
    "H1 гипотеза о значимости коэффициентов\n",
    " p-value <= 0,05 для каждого члена уравнения\n",
    " tнабл < tкр для каждого члена уравнения где tкр = \n",
    "    \n",
    " t-набл>t-кр: гипотеза Ho отвергается"
   ]
  },
  {
   "cell_type": "code",
   "execution_count": 116,
   "metadata": {},
   "outputs": [
    {
     "data": {
      "text/plain": [
       "1.71"
      ]
     },
     "execution_count": 116,
     "metadata": {},
     "output_type": "execute_result"
    }
   ],
   "source": [
    "#критерий Стьюдента  для каждого члена уравнения\n",
    "t_kr= sts.t.ppf(0.95, 24)\n",
    "round(t_kr,2)"
   ]
  },
  {
   "cell_type": "code",
   "execution_count": 118,
   "metadata": {},
   "outputs": [
    {
     "name": "stdout",
     "output_type": "stream",
     "text": [
      "t кр = 1.72\n"
     ]
    }
   ],
   "source": [
    "#критерий Стьюдента  для всего уравнения\n",
    "t_kr= sts.t.ppf(0.95, (24-3))\n",
    "print('t кр =', round(t_kr,2))"
   ]
  },
  {
   "cell_type": "code",
   "execution_count": 119,
   "metadata": {},
   "outputs": [],
   "source": [
    "Y = data['Export']"
   ]
  },
  {
   "cell_type": "code",
   "execution_count": 120,
   "metadata": {},
   "outputs": [
    {
     "data": {
      "text/html": [
       "<div>\n",
       "<style scoped>\n",
       "    .dataframe tbody tr th:only-of-type {\n",
       "        vertical-align: middle;\n",
       "    }\n",
       "\n",
       "    .dataframe tbody tr th {\n",
       "        vertical-align: top;\n",
       "    }\n",
       "\n",
       "    .dataframe thead th {\n",
       "        text-align: right;\n",
       "    }\n",
       "</style>\n",
       "<table border=\"1\" class=\"dataframe\">\n",
       "  <thead>\n",
       "    <tr style=\"text-align: right;\">\n",
       "      <th></th>\n",
       "      <th>Output</th>\n",
       "      <th>Russia_max_output</th>\n",
       "    </tr>\n",
       "  </thead>\n",
       "  <tbody>\n",
       "    <tr>\n",
       "      <th>1</th>\n",
       "      <td>41849.7</td>\n",
       "      <td>0</td>\n",
       "    </tr>\n",
       "    <tr>\n",
       "      <th>2</th>\n",
       "      <td>46392.3</td>\n",
       "      <td>0</td>\n",
       "    </tr>\n",
       "    <tr>\n",
       "      <th>3</th>\n",
       "      <td>44880.5</td>\n",
       "      <td>0</td>\n",
       "    </tr>\n",
       "    <tr>\n",
       "      <th>4</th>\n",
       "      <td>46407.2</td>\n",
       "      <td>0</td>\n",
       "    </tr>\n",
       "    <tr>\n",
       "      <th>5</th>\n",
       "      <td>45292.3</td>\n",
       "      <td>0</td>\n",
       "    </tr>\n",
       "  </tbody>\n",
       "</table>\n",
       "</div>"
      ],
      "text/plain": [
       "    Output  Russia_max_output\n",
       "1  41849.7                  0\n",
       "2  46392.3                  0\n",
       "3  44880.5                  0\n",
       "4  46407.2                  0\n",
       "5  45292.3                  0"
      ]
     },
     "execution_count": 120,
     "metadata": {},
     "output_type": "execute_result"
    }
   ],
   "source": [
    "X_1 = data[['Output','Russia_max_output']]\n",
    "X_1.head()"
   ]
  },
  {
   "cell_type": "code",
   "execution_count": 121,
   "metadata": {},
   "outputs": [],
   "source": [
    "from math import sqrt\n",
    "from sklearn.metrics import mean_squared_error, mean_absolute_error, r2_score\n",
    "from sklearn.linear_model import LinearRegression\n",
    "import sklearn.linear_model as lm\n",
    "import patsy as pt"
   ]
  },
  {
   "cell_type": "code",
   "execution_count": 122,
   "metadata": {},
   "outputs": [],
   "source": [
    "skm = lm.LinearRegression()"
   ]
  },
  {
   "cell_type": "code",
   "execution_count": 123,
   "metadata": {},
   "outputs": [
    {
     "data": {
      "text/plain": [
       "LinearRegression(copy_X=True, fit_intercept=True, n_jobs=None,\n",
       "         normalize=False)"
      ]
     },
     "execution_count": 123,
     "metadata": {},
     "output_type": "execute_result"
    }
   ],
   "source": [
    "skm.fit(X_1, Y)"
   ]
  },
  {
   "cell_type": "code",
   "execution_count": 125,
   "metadata": {},
   "outputs": [
    {
     "name": "stdout",
     "output_type": "stream",
     "text": [
      "                         sum_sq    df         F    PR(>F)\n",
      "Russia_max_output  7.405838e+06   1.0  8.152812  0.008953\n",
      "Residual           2.089270e+07  23.0       NaN       NaN\n"
     ]
    },
    {
     "data": {
      "text/html": [
       "<table class=\"simpletable\">\n",
       "<caption>OLS Regression Results</caption>\n",
       "<tr>\n",
       "  <th>Dep. Variable:</th>         <td>Export</td>      <th>  R-squared:         </th> <td>   0.262</td>\n",
       "</tr>\n",
       "<tr>\n",
       "  <th>Model:</th>                   <td>OLS</td>       <th>  Adj. R-squared:    </th> <td>   0.230</td>\n",
       "</tr>\n",
       "<tr>\n",
       "  <th>Method:</th>             <td>Least Squares</td>  <th>  F-statistic:       </th> <td>   8.153</td>\n",
       "</tr>\n",
       "<tr>\n",
       "  <th>Date:</th>             <td>Wed, 15 Apr 2020</td> <th>  Prob (F-statistic):</th>  <td>0.00895</td>\n",
       "</tr>\n",
       "<tr>\n",
       "  <th>Time:</th>                 <td>12:31:54</td>     <th>  Log-Likelihood:    </th> <td> -205.92</td>\n",
       "</tr>\n",
       "<tr>\n",
       "  <th>No. Observations:</th>      <td>    25</td>      <th>  AIC:               </th> <td>   415.8</td>\n",
       "</tr>\n",
       "<tr>\n",
       "  <th>Df Residuals:</th>          <td>    23</td>      <th>  BIC:               </th> <td>   418.3</td>\n",
       "</tr>\n",
       "<tr>\n",
       "  <th>Df Model:</th>              <td>     1</td>      <th>                     </th>     <td> </td>   \n",
       "</tr>\n",
       "<tr>\n",
       "  <th>Covariance Type:</th>      <td>nonrobust</td>    <th>                     </th>     <td> </td>   \n",
       "</tr>\n",
       "</table>\n",
       "<table class=\"simpletable\">\n",
       "<tr>\n",
       "          <td></td>             <th>coef</th>     <th>std err</th>      <th>t</th>      <th>P>|t|</th>  <th>[0.025</th>    <th>0.975]</th>  \n",
       "</tr>\n",
       "<tr>\n",
       "  <th>Intercept</th>         <td>   2.1e+04</td> <td>  336.968</td> <td>   62.324</td> <td> 0.000</td> <td> 2.03e+04</td> <td> 2.17e+04</td>\n",
       "</tr>\n",
       "<tr>\n",
       "  <th>Russia_max_output</th> <td> 1166.7765</td> <td>  408.633</td> <td>    2.855</td> <td> 0.009</td> <td>  321.454</td> <td> 2012.099</td>\n",
       "</tr>\n",
       "</table>\n",
       "<table class=\"simpletable\">\n",
       "<tr>\n",
       "  <th>Omnibus:</th>       <td> 1.134</td> <th>  Durbin-Watson:     </th> <td>   1.853</td>\n",
       "</tr>\n",
       "<tr>\n",
       "  <th>Prob(Omnibus):</th> <td> 0.567</td> <th>  Jarque-Bera (JB):  </th> <td>   0.907</td>\n",
       "</tr>\n",
       "<tr>\n",
       "  <th>Skew:</th>          <td>-0.185</td> <th>  Prob(JB):          </th> <td>   0.635</td>\n",
       "</tr>\n",
       "<tr>\n",
       "  <th>Kurtosis:</th>      <td> 2.144</td> <th>  Cond. No.          </th> <td>    3.30</td>\n",
       "</tr>\n",
       "</table><br/><br/>Warnings:<br/>[1] Standard Errors assume that the covariance matrix of the errors is correctly specified."
      ],
      "text/plain": [
       "<class 'statsmodels.iolib.summary.Summary'>\n",
       "\"\"\"\n",
       "                            OLS Regression Results                            \n",
       "==============================================================================\n",
       "Dep. Variable:                 Export   R-squared:                       0.262\n",
       "Model:                            OLS   Adj. R-squared:                  0.230\n",
       "Method:                 Least Squares   F-statistic:                     8.153\n",
       "Date:                Wed, 15 Apr 2020   Prob (F-statistic):            0.00895\n",
       "Time:                        12:31:54   Log-Likelihood:                -205.92\n",
       "No. Observations:                  25   AIC:                             415.8\n",
       "Df Residuals:                      23   BIC:                             418.3\n",
       "Df Model:                           1                                         \n",
       "Covariance Type:            nonrobust                                         \n",
       "=====================================================================================\n",
       "                        coef    std err          t      P>|t|      [0.025      0.975]\n",
       "-------------------------------------------------------------------------------------\n",
       "Intercept            2.1e+04    336.968     62.324      0.000    2.03e+04    2.17e+04\n",
       "Russia_max_output  1166.7765    408.633      2.855      0.009     321.454    2012.099\n",
       "==============================================================================\n",
       "Omnibus:                        1.134   Durbin-Watson:                   1.853\n",
       "Prob(Omnibus):                  0.567   Jarque-Bera (JB):                0.907\n",
       "Skew:                          -0.185   Prob(JB):                        0.635\n",
       "Kurtosis:                       2.144   Cond. No.                         3.30\n",
       "==============================================================================\n",
       "\n",
       "Warnings:\n",
       "[1] Standard Errors assume that the covariance matrix of the errors is correctly specified.\n",
       "\"\"\""
      ]
     },
     "execution_count": 125,
     "metadata": {},
     "output_type": "execute_result"
    }
   ],
   "source": [
    "mod = ols('Export ~ Russia_max_output', data= data).fit()\n",
    "anova_table= sm.stats.anova_lm(mod,typ=2)\n",
    "print(anova_table)\n",
    "results = ols('Export ~ Russia_max_output', data=data).fit()\n",
    "results.summary()"
   ]
  },
  {
   "cell_type": "code",
   "execution_count": 126,
   "metadata": {},
   "outputs": [],
   "source": [
    "model = sm.OLS(Y,X_1)"
   ]
  },
  {
   "cell_type": "code",
   "execution_count": 127,
   "metadata": {},
   "outputs": [],
   "source": [
    "fit=model.fit"
   ]
  },
  {
   "cell_type": "code",
   "execution_count": 6,
   "metadata": {},
   "outputs": [],
   "source": [
    "import statsmodels.formula.api as smf"
   ]
  },
  {
   "cell_type": "code",
   "execution_count": 46,
   "metadata": {},
   "outputs": [],
   "source": [
    "regression = smf.ols('Export ~ Output + Russia_max_output', data=data).fit()"
   ]
  },
  {
   "cell_type": "code",
   "execution_count": 47,
   "metadata": {},
   "outputs": [
    {
     "name": "stdout",
     "output_type": "stream",
     "text": [
      "                            OLS Regression Results                            \n",
      "==============================================================================\n",
      "Dep. Variable:                 Export   R-squared:                       0.679\n",
      "Model:                            OLS   Adj. R-squared:                  0.650\n",
      "Method:                 Least Squares   F-statistic:                     23.32\n",
      "Date:                Sat, 18 Apr 2020   Prob (F-statistic):           3.67e-06\n",
      "Time:                        17:55:04   Log-Likelihood:                -195.49\n",
      "No. Observations:                  25   AIC:                             397.0\n",
      "Df Residuals:                      22   BIC:                             400.6\n",
      "Df Model:                           2                                         \n",
      "Covariance Type:            nonrobust                                         \n",
      "=====================================================================================\n",
      "                        coef    std err          t      P>|t|      [0.025      0.975]\n",
      "-------------------------------------------------------------------------------------\n",
      "Intercept          -373.9997   3998.083     -0.094      0.926   -8665.517    7917.518\n",
      "Output                0.4669      0.087      5.355      0.000       0.286       0.648\n",
      "Russia_max_output   674.8073    290.218      2.325      0.030      72.932    1276.683\n",
      "==============================================================================\n",
      "Omnibus:                        0.266   Durbin-Watson:                   1.678\n",
      "Prob(Omnibus):                  0.875   Jarque-Bera (JB):                0.451\n",
      "Skew:                           0.136   Prob(JB):                        0.798\n",
      "Kurtosis:                       2.401   Cond. No.                     1.45e+06\n",
      "==============================================================================\n",
      "\n",
      "Warnings:\n",
      "[1] Standard Errors assume that the covariance matrix of the errors is correctly specified.\n",
      "[2] The condition number is large, 1.45e+06. This might indicate that there are\n",
      "strong multicollinearity or other numerical problems.\n"
     ]
    }
   ],
   "source": [
    "print(regression.summary())"
   ]
  },
  {
   "cell_type": "markdown",
   "metadata": {},
   "source": [
    "Не обращаясь к таблицам, можно пользоваться приблизительным правилом и считать, что автокорреляция остатков отсутствует, если 1.5 < DW < 2.5\n",
    "\n",
    "статистика Дарбина-Уотсона\n",
    "n-объем выборки = 25 на два параметра = 50\n",
    "m - число объясняющих переменных (без учета свободного члена)=2\n",
    "p= 0.05\n",
    "dl = 1.46\n",
    "du = 1.63\n",
    "DW> du\n",
    "4-dl = 2,54 \n",
    "4-du = 2,37\n",
    "DW < 4-du\n",
    "гипотеза об отсутствии автокорреляции не отвергается"
   ]
  },
  {
   "cell_type": "code",
   "execution_count": 31,
   "metadata": {},
   "outputs": [
    {
     "data": {
      "text/html": [
       "<div>\n",
       "<style scoped>\n",
       "    .dataframe tbody tr th:only-of-type {\n",
       "        vertical-align: middle;\n",
       "    }\n",
       "\n",
       "    .dataframe tbody tr th {\n",
       "        vertical-align: top;\n",
       "    }\n",
       "\n",
       "    .dataframe thead th {\n",
       "        text-align: right;\n",
       "    }\n",
       "</style>\n",
       "<table border=\"1\" class=\"dataframe\">\n",
       "  <thead>\n",
       "    <tr style=\"text-align: right;\">\n",
       "      <th></th>\n",
       "      <th>data</th>\n",
       "      <th>Export</th>\n",
       "      <th>Output</th>\n",
       "      <th>Primary_proc</th>\n",
       "      <th>Quotation</th>\n",
       "      <th>Export_duty</th>\n",
       "      <th>OPEC_convention</th>\n",
       "      <th>Venezuela_crisis</th>\n",
       "      <th>Russia_elections</th>\n",
       "      <th>Russia_max_output</th>\n",
       "      <th>Export_predicted</th>\n",
       "      <th>Err</th>\n",
       "    </tr>\n",
       "  </thead>\n",
       "  <tbody>\n",
       "    <tr>\n",
       "      <th>1</th>\n",
       "      <td>01.02.2018</td>\n",
       "      <td>19266.4</td>\n",
       "      <td>41849.700</td>\n",
       "      <td>22517.200</td>\n",
       "      <td>485.5</td>\n",
       "      <td>120.1</td>\n",
       "      <td>0</td>\n",
       "      <td>0</td>\n",
       "      <td>0</td>\n",
       "      <td>0</td>\n",
       "      <td>19165.627930</td>\n",
       "      <td>100.772070</td>\n",
       "    </tr>\n",
       "    <tr>\n",
       "      <th>2</th>\n",
       "      <td>01.03.2018</td>\n",
       "      <td>21148.1</td>\n",
       "      <td>46392.300</td>\n",
       "      <td>24392.800</td>\n",
       "      <td>483.7</td>\n",
       "      <td>119.5</td>\n",
       "      <td>0</td>\n",
       "      <td>0</td>\n",
       "      <td>1</td>\n",
       "      <td>0</td>\n",
       "      <td>21286.567870</td>\n",
       "      <td>-138.467870</td>\n",
       "    </tr>\n",
       "    <tr>\n",
       "      <th>3</th>\n",
       "      <td>01.04.2018</td>\n",
       "      <td>21329.6</td>\n",
       "      <td>44880.500</td>\n",
       "      <td>22864.600</td>\n",
       "      <td>456.6</td>\n",
       "      <td>111.4</td>\n",
       "      <td>0</td>\n",
       "      <td>0</td>\n",
       "      <td>0</td>\n",
       "      <td>0</td>\n",
       "      <td>20580.708450</td>\n",
       "      <td>748.891550</td>\n",
       "    </tr>\n",
       "    <tr>\n",
       "      <th>4</th>\n",
       "      <td>01.05.2018</td>\n",
       "      <td>21388.9</td>\n",
       "      <td>46407.200</td>\n",
       "      <td>24687.600</td>\n",
       "      <td>456.6</td>\n",
       "      <td>111.4</td>\n",
       "      <td>0</td>\n",
       "      <td>0</td>\n",
       "      <td>0</td>\n",
       "      <td>0</td>\n",
       "      <td>21293.524680</td>\n",
       "      <td>95.375320</td>\n",
       "    </tr>\n",
       "    <tr>\n",
       "      <th>5</th>\n",
       "      <td>01.06.2018</td>\n",
       "      <td>20161.3</td>\n",
       "      <td>45292.300</td>\n",
       "      <td>24579.600</td>\n",
       "      <td>456.6</td>\n",
       "      <td>111.4</td>\n",
       "      <td>0</td>\n",
       "      <td>0</td>\n",
       "      <td>0</td>\n",
       "      <td>0</td>\n",
       "      <td>20772.977870</td>\n",
       "      <td>-611.677870</td>\n",
       "    </tr>\n",
       "    <tr>\n",
       "      <th>6</th>\n",
       "      <td>01.07.2018</td>\n",
       "      <td>21532.5</td>\n",
       "      <td>47442.900</td>\n",
       "      <td>25467.900</td>\n",
       "      <td>549.1</td>\n",
       "      <td>139.1</td>\n",
       "      <td>0</td>\n",
       "      <td>0</td>\n",
       "      <td>0</td>\n",
       "      <td>0</td>\n",
       "      <td>21777.093010</td>\n",
       "      <td>-244.593010</td>\n",
       "    </tr>\n",
       "    <tr>\n",
       "      <th>7</th>\n",
       "      <td>01.08.2018</td>\n",
       "      <td>22058.2</td>\n",
       "      <td>47429.000</td>\n",
       "      <td>24828.200</td>\n",
       "      <td>518.7</td>\n",
       "      <td>135.4</td>\n",
       "      <td>0</td>\n",
       "      <td>0</td>\n",
       "      <td>0</td>\n",
       "      <td>0</td>\n",
       "      <td>21770.603100</td>\n",
       "      <td>287.596900</td>\n",
       "    </tr>\n",
       "    <tr>\n",
       "      <th>8</th>\n",
       "      <td>01.09.2018</td>\n",
       "      <td>21125.4</td>\n",
       "      <td>46527.300</td>\n",
       "      <td>24260.200</td>\n",
       "      <td>518.7</td>\n",
       "      <td>130.0</td>\n",
       "      <td>0</td>\n",
       "      <td>0</td>\n",
       "      <td>0</td>\n",
       "      <td>0</td>\n",
       "      <td>21349.599370</td>\n",
       "      <td>-224.199370</td>\n",
       "    </tr>\n",
       "    <tr>\n",
       "      <th>9</th>\n",
       "      <td>01.10.2018</td>\n",
       "      <td>23332.6</td>\n",
       "      <td>48286.900</td>\n",
       "      <td>23766.500</td>\n",
       "      <td>518.7</td>\n",
       "      <td>130.0</td>\n",
       "      <td>0</td>\n",
       "      <td>0</td>\n",
       "      <td>0</td>\n",
       "      <td>1</td>\n",
       "      <td>22845.963910</td>\n",
       "      <td>486.636090</td>\n",
       "    </tr>\n",
       "    <tr>\n",
       "      <th>10</th>\n",
       "      <td>01.11.2018</td>\n",
       "      <td>21820.6</td>\n",
       "      <td>46558.100</td>\n",
       "      <td>23978.800</td>\n",
       "      <td>518.7</td>\n",
       "      <td>130.0</td>\n",
       "      <td>0</td>\n",
       "      <td>0</td>\n",
       "      <td>0</td>\n",
       "      <td>1</td>\n",
       "      <td>22038.787190</td>\n",
       "      <td>-218.187190</td>\n",
       "    </tr>\n",
       "    <tr>\n",
       "      <th>11</th>\n",
       "      <td>01.12.2018</td>\n",
       "      <td>23029.6</td>\n",
       "      <td>48443.900</td>\n",
       "      <td>25521.776</td>\n",
       "      <td>535.8</td>\n",
       "      <td>135.1</td>\n",
       "      <td>0</td>\n",
       "      <td>0</td>\n",
       "      <td>0</td>\n",
       "      <td>1</td>\n",
       "      <td>22919.267210</td>\n",
       "      <td>110.332790</td>\n",
       "    </tr>\n",
       "    <tr>\n",
       "      <th>12</th>\n",
       "      <td>01.01.2019</td>\n",
       "      <td>22077.3</td>\n",
       "      <td>48113.791</td>\n",
       "      <td>25257.100</td>\n",
       "      <td>441.4</td>\n",
       "      <td>89.0</td>\n",
       "      <td>0</td>\n",
       "      <td>1</td>\n",
       "      <td>0</td>\n",
       "      <td>1</td>\n",
       "      <td>22765.139318</td>\n",
       "      <td>-687.839318</td>\n",
       "    </tr>\n",
       "    <tr>\n",
       "      <th>13</th>\n",
       "      <td>01.02.2019</td>\n",
       "      <td>20637.1</td>\n",
       "      <td>43296.400</td>\n",
       "      <td>22667.700</td>\n",
       "      <td>408.4</td>\n",
       "      <td>80.7</td>\n",
       "      <td>0</td>\n",
       "      <td>1</td>\n",
       "      <td>0</td>\n",
       "      <td>1</td>\n",
       "      <td>20515.899460</td>\n",
       "      <td>121.200540</td>\n",
       "    </tr>\n",
       "    <tr>\n",
       "      <th>14</th>\n",
       "      <td>01.03.2019</td>\n",
       "      <td>22810.5</td>\n",
       "      <td>47802.300</td>\n",
       "      <td>23981.200</td>\n",
       "      <td>450.4</td>\n",
       "      <td>91.2</td>\n",
       "      <td>0</td>\n",
       "      <td>1</td>\n",
       "      <td>0</td>\n",
       "      <td>1</td>\n",
       "      <td>22619.704170</td>\n",
       "      <td>190.795830</td>\n",
       "    </tr>\n",
       "    <tr>\n",
       "      <th>15</th>\n",
       "      <td>01.04.2019</td>\n",
       "      <td>22283.5</td>\n",
       "      <td>45999.800</td>\n",
       "      <td>22224.100</td>\n",
       "      <td>475.0</td>\n",
       "      <td>97.4</td>\n",
       "      <td>0</td>\n",
       "      <td>1</td>\n",
       "      <td>0</td>\n",
       "      <td>1</td>\n",
       "      <td>21778.116920</td>\n",
       "      <td>505.383080</td>\n",
       "    </tr>\n",
       "    <tr>\n",
       "      <th>16</th>\n",
       "      <td>01.05.2019</td>\n",
       "      <td>21253.6</td>\n",
       "      <td>46998.200</td>\n",
       "      <td>22828.500</td>\n",
       "      <td>503.9</td>\n",
       "      <td>104.6</td>\n",
       "      <td>0</td>\n",
       "      <td>1</td>\n",
       "      <td>0</td>\n",
       "      <td>1</td>\n",
       "      <td>22244.269880</td>\n",
       "      <td>-990.669880</td>\n",
       "    </tr>\n",
       "    <tr>\n",
       "      <th>17</th>\n",
       "      <td>01.06.2019</td>\n",
       "      <td>21423.5</td>\n",
       "      <td>45673.900</td>\n",
       "      <td>23774.200</td>\n",
       "      <td>527.3</td>\n",
       "      <td>110.4</td>\n",
       "      <td>0</td>\n",
       "      <td>1</td>\n",
       "      <td>0</td>\n",
       "      <td>1</td>\n",
       "      <td>21625.954210</td>\n",
       "      <td>-202.454210</td>\n",
       "    </tr>\n",
       "    <tr>\n",
       "      <th>18</th>\n",
       "      <td>01.07.2019</td>\n",
       "      <td>23025.9</td>\n",
       "      <td>47174.000</td>\n",
       "      <td>25503.500</td>\n",
       "      <td>486.6</td>\n",
       "      <td>100.3</td>\n",
       "      <td>0</td>\n",
       "      <td>1</td>\n",
       "      <td>0</td>\n",
       "      <td>1</td>\n",
       "      <td>22326.350900</td>\n",
       "      <td>699.549100</td>\n",
       "    </tr>\n",
       "    <tr>\n",
       "      <th>19</th>\n",
       "      <td>01.08.2019</td>\n",
       "      <td>23516.6</td>\n",
       "      <td>47806.300</td>\n",
       "      <td>25437.800</td>\n",
       "      <td>462.1</td>\n",
       "      <td>94.1</td>\n",
       "      <td>0</td>\n",
       "      <td>1</td>\n",
       "      <td>0</td>\n",
       "      <td>1</td>\n",
       "      <td>22621.571770</td>\n",
       "      <td>895.028230</td>\n",
       "    </tr>\n",
       "    <tr>\n",
       "      <th>20</th>\n",
       "      <td>01.09.2019</td>\n",
       "      <td>22451.0</td>\n",
       "      <td>46100.300</td>\n",
       "      <td>24156.900</td>\n",
       "      <td>448.5</td>\n",
       "      <td>90.7</td>\n",
       "      <td>0</td>\n",
       "      <td>1</td>\n",
       "      <td>0</td>\n",
       "      <td>1</td>\n",
       "      <td>21825.040370</td>\n",
       "      <td>625.959630</td>\n",
       "    </tr>\n",
       "    <tr>\n",
       "      <th>21</th>\n",
       "      <td>01.10.2019</td>\n",
       "      <td>23834.7</td>\n",
       "      <td>47534.600</td>\n",
       "      <td>24363.200</td>\n",
       "      <td>434.5</td>\n",
       "      <td>87.2</td>\n",
       "      <td>0</td>\n",
       "      <td>1</td>\n",
       "      <td>0</td>\n",
       "      <td>1</td>\n",
       "      <td>22494.715040</td>\n",
       "      <td>1339.984960</td>\n",
       "    </tr>\n",
       "    <tr>\n",
       "      <th>22</th>\n",
       "      <td>01.11.2019</td>\n",
       "      <td>20845.8</td>\n",
       "      <td>46073.000</td>\n",
       "      <td>24942.200</td>\n",
       "      <td>438.6</td>\n",
       "      <td>88.3</td>\n",
       "      <td>0</td>\n",
       "      <td>1</td>\n",
       "      <td>0</td>\n",
       "      <td>1</td>\n",
       "      <td>21812.294000</td>\n",
       "      <td>-966.494000</td>\n",
       "    </tr>\n",
       "    <tr>\n",
       "      <th>23</th>\n",
       "      <td>01.12.2019</td>\n",
       "      <td>21936.7</td>\n",
       "      <td>47684.100</td>\n",
       "      <td>25134.100</td>\n",
       "      <td>447.7</td>\n",
       "      <td>90.5</td>\n",
       "      <td>0</td>\n",
       "      <td>1</td>\n",
       "      <td>0</td>\n",
       "      <td>1</td>\n",
       "      <td>22564.516590</td>\n",
       "      <td>-627.816590</td>\n",
       "    </tr>\n",
       "    <tr>\n",
       "      <th>24</th>\n",
       "      <td>01.01.2020</td>\n",
       "      <td>21699.1</td>\n",
       "      <td>47874.700</td>\n",
       "      <td>25145.800</td>\n",
       "      <td>471.2</td>\n",
       "      <td>77.2</td>\n",
       "      <td>1</td>\n",
       "      <td>1</td>\n",
       "      <td>0</td>\n",
       "      <td>1</td>\n",
       "      <td>22653.507730</td>\n",
       "      <td>-954.407730</td>\n",
       "    </tr>\n",
       "    <tr>\n",
       "      <th>25</th>\n",
       "      <td>01.02.2020</td>\n",
       "      <td>20879.2</td>\n",
       "      <td>44711.100</td>\n",
       "      <td>23794.200</td>\n",
       "      <td>477.6</td>\n",
       "      <td>78.5</td>\n",
       "      <td>1</td>\n",
       "      <td>1</td>\n",
       "      <td>0</td>\n",
       "      <td>1</td>\n",
       "      <td>21176.422890</td>\n",
       "      <td>-297.222890</td>\n",
       "    </tr>\n",
       "  </tbody>\n",
       "</table>\n",
       "</div>"
      ],
      "text/plain": [
       "          data   Export     Output  Primary_proc  Quotation  Export_duty  \\\n",
       "1   01.02.2018  19266.4  41849.700     22517.200      485.5        120.1   \n",
       "2   01.03.2018  21148.1  46392.300     24392.800      483.7        119.5   \n",
       "3   01.04.2018  21329.6  44880.500     22864.600      456.6        111.4   \n",
       "4   01.05.2018  21388.9  46407.200     24687.600      456.6        111.4   \n",
       "5   01.06.2018  20161.3  45292.300     24579.600      456.6        111.4   \n",
       "6   01.07.2018  21532.5  47442.900     25467.900      549.1        139.1   \n",
       "7   01.08.2018  22058.2  47429.000     24828.200      518.7        135.4   \n",
       "8   01.09.2018  21125.4  46527.300     24260.200      518.7        130.0   \n",
       "9   01.10.2018  23332.6  48286.900     23766.500      518.7        130.0   \n",
       "10  01.11.2018  21820.6  46558.100     23978.800      518.7        130.0   \n",
       "11  01.12.2018  23029.6  48443.900     25521.776      535.8        135.1   \n",
       "12  01.01.2019  22077.3  48113.791     25257.100      441.4         89.0   \n",
       "13  01.02.2019  20637.1  43296.400     22667.700      408.4         80.7   \n",
       "14  01.03.2019  22810.5  47802.300     23981.200      450.4         91.2   \n",
       "15  01.04.2019  22283.5  45999.800     22224.100      475.0         97.4   \n",
       "16  01.05.2019  21253.6  46998.200     22828.500      503.9        104.6   \n",
       "17  01.06.2019  21423.5  45673.900     23774.200      527.3        110.4   \n",
       "18  01.07.2019  23025.9  47174.000     25503.500      486.6        100.3   \n",
       "19  01.08.2019  23516.6  47806.300     25437.800      462.1         94.1   \n",
       "20  01.09.2019  22451.0  46100.300     24156.900      448.5         90.7   \n",
       "21  01.10.2019  23834.7  47534.600     24363.200      434.5         87.2   \n",
       "22  01.11.2019  20845.8  46073.000     24942.200      438.6         88.3   \n",
       "23  01.12.2019  21936.7  47684.100     25134.100      447.7         90.5   \n",
       "24  01.01.2020  21699.1  47874.700     25145.800      471.2         77.2   \n",
       "25  01.02.2020  20879.2  44711.100     23794.200      477.6         78.5   \n",
       "\n",
       "    OPEC_convention  Venezuela_crisis  Russia_elections  Russia_max_output  \\\n",
       "1                 0                 0                 0                  0   \n",
       "2                 0                 0                 1                  0   \n",
       "3                 0                 0                 0                  0   \n",
       "4                 0                 0                 0                  0   \n",
       "5                 0                 0                 0                  0   \n",
       "6                 0                 0                 0                  0   \n",
       "7                 0                 0                 0                  0   \n",
       "8                 0                 0                 0                  0   \n",
       "9                 0                 0                 0                  1   \n",
       "10                0                 0                 0                  1   \n",
       "11                0                 0                 0                  1   \n",
       "12                0                 1                 0                  1   \n",
       "13                0                 1                 0                  1   \n",
       "14                0                 1                 0                  1   \n",
       "15                0                 1                 0                  1   \n",
       "16                0                 1                 0                  1   \n",
       "17                0                 1                 0                  1   \n",
       "18                0                 1                 0                  1   \n",
       "19                0                 1                 0                  1   \n",
       "20                0                 1                 0                  1   \n",
       "21                0                 1                 0                  1   \n",
       "22                0                 1                 0                  1   \n",
       "23                0                 1                 0                  1   \n",
       "24                1                 1                 0                  1   \n",
       "25                1                 1                 0                  1   \n",
       "\n",
       "    Export_predicted          Err  \n",
       "1       19165.627930   100.772070  \n",
       "2       21286.567870  -138.467870  \n",
       "3       20580.708450   748.891550  \n",
       "4       21293.524680    95.375320  \n",
       "5       20772.977870  -611.677870  \n",
       "6       21777.093010  -244.593010  \n",
       "7       21770.603100   287.596900  \n",
       "8       21349.599370  -224.199370  \n",
       "9       22845.963910   486.636090  \n",
       "10      22038.787190  -218.187190  \n",
       "11      22919.267210   110.332790  \n",
       "12      22765.139318  -687.839318  \n",
       "13      20515.899460   121.200540  \n",
       "14      22619.704170   190.795830  \n",
       "15      21778.116920   505.383080  \n",
       "16      22244.269880  -990.669880  \n",
       "17      21625.954210  -202.454210  \n",
       "18      22326.350900   699.549100  \n",
       "19      22621.571770   895.028230  \n",
       "20      21825.040370   625.959630  \n",
       "21      22494.715040  1339.984960  \n",
       "22      21812.294000  -966.494000  \n",
       "23      22564.516590  -627.816590  \n",
       "24      22653.507730  -954.407730  \n",
       "25      21176.422890  -297.222890  "
      ]
     },
     "execution_count": 31,
     "metadata": {},
     "output_type": "execute_result"
    }
   ],
   "source": [
    "data['Export_predicted'] = -373.997 + 0.4669*(data['Output']) + 674.8073*(data['Russia_max_output'])\n",
    "data['Err'] = data['Export'] - data['Export_predicted']\n",
    "data.head(25)"
   ]
  },
  {
   "cell_type": "code",
   "execution_count": 32,
   "metadata": {},
   "outputs": [
    {
     "data": {
      "image/png": "[encoded data removed]",
      "text/plain": [
       "<Figure size 432x288 with 1 Axes>"
      ]
     },
     "metadata": {
      "needs_background": "light"
     },
     "output_type": "display_data"
    }
   ],
   "source": [
    "data['Export'].plot(label=' Y')\n",
    "data['Export_predicted'].plot(label='Y_pred')\n",
    "plt.legend()\n",
    "plt.show()"
   ]
  },
  {
   "cell_type": "code",
   "execution_count": 34,
   "metadata": {},
   "outputs": [
    {
     "data": {
      "image/png": "[encoded data removed]",
      "text/plain": [
       "<Figure size 432x288 with 1 Axes>"
      ]
     },
     "metadata": {
      "needs_background": "light"
     },
     "output_type": "display_data"
    }
   ],
   "source": [
    "data['Export'].plot(label=' Y')\n",
    "data['Export_predicted'].plot(label='Y_pred')\n",
    "plt.legend()\n",
    "plt.show()"
   ]
  },
  {
   "cell_type": "code",
   "execution_count": 35,
   "metadata": {},
   "outputs": [
    {
     "data": {
      "text/plain": [
       "<matplotlib.axes._subplots.AxesSubplot at 0x1c1ddb8390>"
      ]
     },
     "execution_count": 35,
     "metadata": {},
     "output_type": "execute_result"
    },
    {
     "data": {
      "image/png": "[encoded data removed]",
      "text/plain": [
       "<Figure size 432x288 with 1 Axes>"
      ]
     },
     "metadata": {
      "needs_background": "light"
     },
     "output_type": "display_data"
    }
   ],
   "source": [
    "sns.distplot(data['Err'])"
   ]
  },
  {
   "cell_type": "code",
   "execution_count": 36,
   "metadata": {},
   "outputs": [
    {
     "name": "stdout",
     "output_type": "stream",
     "text": [
      "R2:  0.68\n"
     ]
    }
   ],
   "source": [
    "print('R2: ', round(results.rsquared,2))"
   ]
  },
  {
   "cell_type": "markdown",
   "metadata": {},
   "source": [
    "VIF - variance inflation factor"
   ]
  },
  {
   "cell_type": "code",
   "execution_count": 799,
   "metadata": {},
   "outputs": [
    {
     "data": {
      "text/plain": [
       "1.86"
      ]
     },
     "execution_count": 799,
     "metadata": {},
     "output_type": "execute_result"
    }
   ],
   "source": [
    "#VIF = 1/(1-(results.rsquared**2))\n",
    "#round(VIF,2)"
   ]
  },
  {
   "cell_type": "markdown",
   "metadata": {},
   "source": [
    "F-тест - оценивание качества уравнения регрессии - состоит в проверке гипотезы Но о статистической незначимости уравнения регрессии и показателя тесноты связи. Для этого выполняется сравнение фактического Fфакт и критического (табличного) Fтабл значений F-критерия Фишера. Fфакт определяется из соотношения значений факторной и остаточной дисперсий, рассчитанных на одну степень свободы\n",
    "Число степеней свободы объясненной дисперсии f1 равно количеству объясняющих переменных = 3\n",
    "Число степеней свободы необъясненной дисперсии f2 = N-k-1, где N-количество экспериментальных точек, k-количество объясняющих переменных = 25- 3-1 = 21\n",
    "F критическое можно найти по таблице (3, 21) = 2,36 < F набл = 23,32\n",
    "\n",
    "Критерий Фишера для регрессионной модели отражает, насколько хорошо эта модель объясняет общую дисперсию зависимой переменной"
   ]
  },
  {
   "cell_type": "code",
   "execution_count": 4,
   "metadata": {},
   "outputs": [],
   "source": [
    "from statsmodels.stats.outliers_influence import variance_inflation_factor"
   ]
  },
  {
   "cell_type": "code",
   "execution_count": 8,
   "metadata": {},
   "outputs": [
    {
     "name": "stdout",
     "output_type": "stream",
     "text": [
      "                            OLS Regression Results                            \n",
      "==============================================================================\n",
      "Dep. Variable:                 Output   R-squared:                       0.096\n",
      "Model:                            OLS   Adj. R-squared:                  0.059\n",
      "Method:                 Least Squares   F-statistic:                     2.555\n",
      "Date:                Sat, 18 Apr 2020   Prob (F-statistic):              0.123\n",
      "Time:                        17:04:50   Log-Likelihood:                -226.11\n",
      "No. Observations:                  26   AIC:                             456.2\n",
      "Df Residuals:                      24   BIC:                             458.7\n",
      "Df Model:                           1                                         \n",
      "Covariance Type:            nonrobust                                         \n",
      "=====================================================================================\n",
      "                        coef    std err          t      P>|t|      [0.025      0.975]\n",
      "-------------------------------------------------------------------------------------\n",
      "Intercept          4.584e+04    502.262     91.264      0.000    4.48e+04    4.69e+04\n",
      "Russia_max_output   992.9250    621.144      1.599      0.123    -289.053    2274.903\n",
      "==============================================================================\n",
      "Omnibus:                        9.831   Durbin-Watson:                   2.406\n",
      "Prob(Omnibus):                  0.007   Jarque-Bera (JB):                8.038\n",
      "Skew:                          -1.253   Prob(JB):                       0.0180\n",
      "Kurtosis:                       4.068   Cond. No.                         3.16\n",
      "==============================================================================\n",
      "\n",
      "Warnings:\n",
      "[1] Standard Errors assume that the covariance matrix of the errors is correctly specified.\n"
     ]
    }
   ],
   "source": [
    "results1 = smf.ols('Output ~ Russia_max_output', data=data).fit()\n",
    "print(results1.summary())"
   ]
  },
  {
   "cell_type": "code",
   "execution_count": 9,
   "metadata": {},
   "outputs": [
    {
     "data": {
      "text/plain": [
       "1.01"
      ]
     },
     "execution_count": 9,
     "metadata": {},
     "output_type": "execute_result"
    }
   ],
   "source": [
    "VIF2 = 1/(1-(results1.rsquared**2))\n",
    "round(VIF2,2)"
   ]
  },
  {
   "cell_type": "code",
   "execution_count": 10,
   "metadata": {},
   "outputs": [
    {
     "name": "stdout",
     "output_type": "stream",
     "text": [
      "                            OLS Regression Results                            \n",
      "==============================================================================\n",
      "Dep. Variable:      Russia_max_output   R-squared:                       0.096\n",
      "Model:                            OLS   Adj. R-squared:                  0.059\n",
      "Method:                 Least Squares   F-statistic:                     2.555\n",
      "Date:                Sat, 18 Apr 2020   Prob (F-statistic):              0.123\n",
      "Time:                        17:04:55   Log-Likelihood:                -16.262\n",
      "No. Observations:                  26   AIC:                             36.52\n",
      "Df Residuals:                      24   BIC:                             39.04\n",
      "Df Model:                           1                                         \n",
      "Covariance Type:            nonrobust                                         \n",
      "==============================================================================\n",
      "                 coef    std err          t      P>|t|      [0.025      0.975]\n",
      "------------------------------------------------------------------------------\n",
      "Intercept     -3.8514      2.820     -1.366      0.185      -9.671       1.968\n",
      "Output      9.691e-05   6.06e-05      1.599      0.123   -2.82e-05       0.000\n",
      "==============================================================================\n",
      "Omnibus:                        7.707   Durbin-Watson:                   0.360\n",
      "Prob(Omnibus):                  0.021   Jarque-Bera (JB):                3.188\n",
      "Skew:                          -0.568   Prob(JB):                        0.203\n",
      "Kurtosis:                       1.715   Cond. No.                     1.42e+06\n",
      "==============================================================================\n",
      "\n",
      "Warnings:\n",
      "[1] Standard Errors assume that the covariance matrix of the errors is correctly specified.\n",
      "[2] The condition number is large, 1.42e+06. This might indicate that there are\n",
      "strong multicollinearity or other numerical problems.\n"
     ]
    }
   ],
   "source": [
    "results2 = smf.ols('Russia_max_output ~ Output', data=data).fit()\n",
    "print(results2.summary())"
   ]
  },
  {
   "cell_type": "code",
   "execution_count": 11,
   "metadata": {},
   "outputs": [
    {
     "name": "stdout",
     "output_type": "stream",
     "text": [
      "мультиколлинеарности нет\n"
     ]
    }
   ],
   "source": [
    "VIF3 = 1/(1-(results2.rsquared**2))\n",
    "round(VIF3,2)\n",
    "if VIF3  > 10: print ('мультиколлинеарность есть')\n",
    "else: print ('мультиколлинеарности нет')"
   ]
  },
  {
   "cell_type": "markdown",
   "metadata": {},
   "source": [
    "Расстояние Кука (Cook's distance) является широко используемым методом оценки влияния соответствующего наблюдения (элемента выборки) на уравнение регрессии. Эта величина показывает разницу между вычисленными коэффициентами уравнения регрессии и значениями, которые получились бы при исключении соответствующего наблюдения. В адекватной модели все расстояния Кука должны быть примерно одинаковыми; если это не так, то имеются основания считать, что соответствующее наблюдение (или наблюдения) смещает оценки коэффициентов регрессии."
   ]
  },
  {
   "cell_type": "markdown",
   "metadata": {},
   "source": [
    "Внешний стьюдентизированный остаток (Externally studentized residual) или\n",
    "стьюдентизированный удалённый остаток (Studentized deleted residual)\n",
    "– отношение остатка к его стандартной ошибке, вычисленной по регрессионной\n",
    "зависимости с удалённым i-тым наблюдением. Удаление i-того наблюдения позволяет исключить\n",
    "его влияние как потенциального выброса на форму регрессионной зависимости. Внешним\n",
    "стьюдентизированным остатком он называется потому, что при его расчёте привлекается внешняя\n",
    "оценка дисперсии ошибки регрессии, свободная от влияния потенциального выброса. Вообще\n",
    "говоря, именно такая внешняя стьюдентизация и является собственно стьюдентизацией. Поэтому\n",
    "в некоторых литературных источниках и компьютерных программах его могут называть просто\n",
    "стьюдентизированным остатком (Studentized residual, см. вше), в связи с чем, при первом\n",
    "использовании программы, необходимо с помощью ручного расчёта или с привлечением\n",
    "референтного набора данных выяснить что авторы понимают под этим термином.\n",
    "Внешний или удалённый стьюдентизированный остаток имеет t-распределение Стьюдента\n",
    "с числом степеней свободы ν=n-k. Для не слишком малых выборок и небольшого числа\n",
    "параметров регрессии k критические значения t-распределения для 5%-ного уровня значимости\n",
    "близки к 2. На основании этого наблюдения с удалёнными стьюдентизированными остатками 2 и\n",
    "более обычно относятся к выбросам, хотя для более определённого вывода желательно рассчитать\n",
    "непосредственно достигнутый уровень значимости."
   ]
  },
  {
   "cell_type": "code",
   "execution_count": 81,
   "metadata": {},
   "outputs": [
    {
     "data": {
      "text/html": [
       "<div>\n",
       "<style scoped>\n",
       "    .dataframe tbody tr th:only-of-type {\n",
       "        vertical-align: middle;\n",
       "    }\n",
       "\n",
       "    .dataframe tbody tr th {\n",
       "        vertical-align: top;\n",
       "    }\n",
       "\n",
       "    .dataframe thead th {\n",
       "        text-align: right;\n",
       "    }\n",
       "</style>\n",
       "<table border=\"1\" class=\"dataframe\">\n",
       "  <thead>\n",
       "    <tr style=\"text-align: right;\">\n",
       "      <th></th>\n",
       "      <th>dfb_Intercept</th>\n",
       "      <th>dfb_Output</th>\n",
       "      <th>dfb_Russia_max_output</th>\n",
       "      <th>cooks_d</th>\n",
       "      <th>standard_resid</th>\n",
       "      <th>hat_diag</th>\n",
       "      <th>dffits_internal</th>\n",
       "      <th>student_resid</th>\n",
       "      <th>dffits</th>\n",
       "    </tr>\n",
       "  </thead>\n",
       "  <tbody>\n",
       "    <tr>\n",
       "      <th>1</th>\n",
       "      <td>0.141413</td>\n",
       "      <td>-0.136496</td>\n",
       "      <td>-0.027558</td>\n",
       "      <td>0.009347</td>\n",
       "      <td>0.201072</td>\n",
       "      <td>0.409536</td>\n",
       "      <td>0.167456</td>\n",
       "      <td>0.196629</td>\n",
       "      <td>0.163756</td>\n",
       "    </tr>\n",
       "    <tr>\n",
       "      <th>2</th>\n",
       "      <td>0.015567</td>\n",
       "      <td>-0.020540</td>\n",
       "      <td>0.074555</td>\n",
       "      <td>0.002784</td>\n",
       "      <td>-0.234366</td>\n",
       "      <td>0.131967</td>\n",
       "      <td>-0.091382</td>\n",
       "      <td>-0.229264</td>\n",
       "      <td>-0.089392</td>\n",
       "    </tr>\n",
       "    <tr>\n",
       "      <th>3</th>\n",
       "      <td>0.194402</td>\n",
       "      <td>-0.167133</td>\n",
       "      <td>-0.326473</td>\n",
       "      <td>0.085323</td>\n",
       "      <td>1.254760</td>\n",
       "      <td>0.139843</td>\n",
       "      <td>0.505933</td>\n",
       "      <td>1.272282</td>\n",
       "      <td>0.512998</td>\n",
       "    </tr>\n",
       "    <tr>\n",
       "      <th>4</th>\n",
       "      <td>-0.010726</td>\n",
       "      <td>0.014047</td>\n",
       "      <td>-0.049885</td>\n",
       "      <td>0.001246</td>\n",
       "      <td>0.156560</td>\n",
       "      <td>0.132309</td>\n",
       "      <td>0.061136</td>\n",
       "      <td>0.153046</td>\n",
       "      <td>0.059763</td>\n",
       "    </tr>\n",
       "    <tr>\n",
       "      <th>5</th>\n",
       "      <td>-0.094334</td>\n",
       "      <td>0.072400</td>\n",
       "      <td>0.280863</td>\n",
       "      <td>0.051903</td>\n",
       "      <td>-1.023778</td>\n",
       "      <td>0.129344</td>\n",
       "      <td>-0.394599</td>\n",
       "      <td>-1.024953</td>\n",
       "      <td>-0.395052</td>\n",
       "    </tr>\n",
       "    <tr>\n",
       "      <th>6</th>\n",
       "      <td>0.093982</td>\n",
       "      <td>-0.103321</td>\n",
       "      <td>0.159060</td>\n",
       "      <td>0.012735</td>\n",
       "      <td>-0.422729</td>\n",
       "      <td>0.176140</td>\n",
       "      <td>-0.195463</td>\n",
       "      <td>-0.414698</td>\n",
       "      <td>-0.191750</td>\n",
       "    </tr>\n",
       "    <tr>\n",
       "      <th>7</th>\n",
       "      <td>-0.108075</td>\n",
       "      <td>0.118912</td>\n",
       "      <td>-0.184286</td>\n",
       "      <td>0.017023</td>\n",
       "      <td>0.490175</td>\n",
       "      <td>0.175290</td>\n",
       "      <td>0.225985</td>\n",
       "      <td>0.481542</td>\n",
       "      <td>0.222005</td>\n",
       "    </tr>\n",
       "    <tr>\n",
       "      <th>8</th>\n",
       "      <td>0.032537</td>\n",
       "      <td>-0.040611</td>\n",
       "      <td>0.123177</td>\n",
       "      <td>0.007473</td>\n",
       "      <td>-0.378426</td>\n",
       "      <td>0.135364</td>\n",
       "      <td>-0.149732</td>\n",
       "      <td>-0.370935</td>\n",
       "      <td>-0.146768</td>\n",
       "    </tr>\n",
       "    <tr>\n",
       "      <th>9</th>\n",
       "      <td>-0.163766</td>\n",
       "      <td>0.164030</td>\n",
       "      <td>0.056066</td>\n",
       "      <td>0.022863</td>\n",
       "      <td>0.795000</td>\n",
       "      <td>0.097900</td>\n",
       "      <td>0.261897</td>\n",
       "      <td>0.788125</td>\n",
       "      <td>0.259632</td>\n",
       "    </tr>\n",
       "    <tr>\n",
       "      <th>10</th>\n",
       "      <td>-0.013225</td>\n",
       "      <td>0.013247</td>\n",
       "      <td>-0.050667</td>\n",
       "      <td>0.002665</td>\n",
       "      <td>-0.353321</td>\n",
       "      <td>0.060200</td>\n",
       "      <td>-0.089423</td>\n",
       "      <td>-0.346181</td>\n",
       "      <td>-0.087616</td>\n",
       "    </tr>\n",
       "    <tr>\n",
       "      <th>11</th>\n",
       "      <td>-0.040450</td>\n",
       "      <td>0.040515</td>\n",
       "      <td>0.011251</td>\n",
       "      <td>0.001274</td>\n",
       "      <td>0.178830</td>\n",
       "      <td>0.106784</td>\n",
       "      <td>0.061832</td>\n",
       "      <td>0.174845</td>\n",
       "      <td>0.060454</td>\n",
       "    </tr>\n",
       "    <tr>\n",
       "      <th>12</th>\n",
       "      <td>0.206361</td>\n",
       "      <td>-0.206694</td>\n",
       "      <td>-0.089016</td>\n",
       "      <td>0.041325</td>\n",
       "      <td>-1.125396</td>\n",
       "      <td>0.089158</td>\n",
       "      <td>-0.352099</td>\n",
       "      <td>-1.132607</td>\n",
       "      <td>-0.354355</td>\n",
       "    </tr>\n",
       "    <tr>\n",
       "      <th>13</th>\n",
       "      <td>0.122832</td>\n",
       "      <td>-0.123030</td>\n",
       "      <td>0.072301</td>\n",
       "      <td>0.006620</td>\n",
       "      <td>0.220909</td>\n",
       "      <td>0.289259</td>\n",
       "      <td>0.140929</td>\n",
       "      <td>0.216069</td>\n",
       "      <td>0.137842</td>\n",
       "    </tr>\n",
       "    <tr>\n",
       "      <th>14</th>\n",
       "      <td>-0.041075</td>\n",
       "      <td>0.041141</td>\n",
       "      <td>0.027580</td>\n",
       "      <td>0.002579</td>\n",
       "      <td>0.306266</td>\n",
       "      <td>0.076213</td>\n",
       "      <td>0.087968</td>\n",
       "      <td>0.299864</td>\n",
       "      <td>0.086130</td>\n",
       "    </tr>\n",
       "    <tr>\n",
       "      <th>15</th>\n",
       "      <td>0.094488</td>\n",
       "      <td>-0.094641</td>\n",
       "      <td>0.139043</td>\n",
       "      <td>0.017030</td>\n",
       "      <td>0.814087</td>\n",
       "      <td>0.071573</td>\n",
       "      <td>0.226033</td>\n",
       "      <td>0.807628</td>\n",
       "      <td>0.224239</td>\n",
       "    </tr>\n",
       "    <tr>\n",
       "      <th>16</th>\n",
       "      <td>0.038634</td>\n",
       "      <td>-0.038697</td>\n",
       "      <td>-0.209890</td>\n",
       "      <td>0.053401</td>\n",
       "      <td>-1.593629</td>\n",
       "      <td>0.059337</td>\n",
       "      <td>-0.400253</td>\n",
       "      <td>-1.655471</td>\n",
       "      <td>-0.415785</td>\n",
       "    </tr>\n",
       "    <tr>\n",
       "      <th>17</th>\n",
       "      <td>-0.053324</td>\n",
       "      <td>0.053410</td>\n",
       "      <td>-0.061133</td>\n",
       "      <td>0.003351</td>\n",
       "      <td>-0.332140</td>\n",
       "      <td>0.083526</td>\n",
       "      <td>-0.100270</td>\n",
       "      <td>-0.325320</td>\n",
       "      <td>-0.098211</td>\n",
       "    </tr>\n",
       "    <tr>\n",
       "      <th>18</th>\n",
       "      <td>-0.054114</td>\n",
       "      <td>0.054201</td>\n",
       "      <td>0.134393</td>\n",
       "      <td>0.027230</td>\n",
       "      <td>1.121480</td>\n",
       "      <td>0.060990</td>\n",
       "      <td>0.285815</td>\n",
       "      <td>1.128425</td>\n",
       "      <td>0.287585</td>\n",
       "    </tr>\n",
       "    <tr>\n",
       "      <th>19</th>\n",
       "      <td>-0.204515</td>\n",
       "      <td>0.204845</td>\n",
       "      <td>0.136491</td>\n",
       "      <td>0.057738</td>\n",
       "      <td>1.447508</td>\n",
       "      <td>0.076356</td>\n",
       "      <td>0.416190</td>\n",
       "      <td>1.486801</td>\n",
       "      <td>0.427487</td>\n",
       "    </tr>\n",
       "    <tr>\n",
       "      <th>20</th>\n",
       "      <td>0.103491</td>\n",
       "      <td>-0.103658</td>\n",
       "      <td>0.168716</td>\n",
       "      <td>0.024946</td>\n",
       "      <td>1.007403</td>\n",
       "      <td>0.068677</td>\n",
       "      <td>0.273564</td>\n",
       "      <td>1.007760</td>\n",
       "      <td>0.273661</td>\n",
       "    </tr>\n",
       "    <tr>\n",
       "      <th>21</th>\n",
       "      <td>-0.234663</td>\n",
       "      <td>0.235042</td>\n",
       "      <td>0.245853</td>\n",
       "      <td>0.113246</td>\n",
       "      <td>2.158778</td>\n",
       "      <td>0.067947</td>\n",
       "      <td>0.582869</td>\n",
       "      <td>2.375731</td>\n",
       "      <td>0.641446</td>\n",
       "    </tr>\n",
       "    <tr>\n",
       "      <th>22</th>\n",
       "      <td>-0.172627</td>\n",
       "      <td>0.172906</td>\n",
       "      <td>-0.273265</td>\n",
       "      <td>0.060766</td>\n",
       "      <td>-1.563157</td>\n",
       "      <td>0.069427</td>\n",
       "      <td>-0.426964</td>\n",
       "      <td>-1.619819</td>\n",
       "      <td>-0.442440</td>\n",
       "    </tr>\n",
       "    <tr>\n",
       "      <th>23</th>\n",
       "      <td>0.122315</td>\n",
       "      <td>-0.122512</td>\n",
       "      <td>-0.098885</td>\n",
       "      <td>0.026897</td>\n",
       "      <td>-1.018009</td>\n",
       "      <td>0.072237</td>\n",
       "      <td>-0.284062</td>\n",
       "      <td>-1.018891</td>\n",
       "      <td>-0.284308</td>\n",
       "    </tr>\n",
       "    <tr>\n",
       "      <th>24</th>\n",
       "      <td>0.236801</td>\n",
       "      <td>-0.237184</td>\n",
       "      <td>-0.142757</td>\n",
       "      <td>0.068749</td>\n",
       "      <td>-1.551674</td>\n",
       "      <td>0.078902</td>\n",
       "      <td>-0.454143</td>\n",
       "      <td>-1.606450</td>\n",
       "      <td>-0.470175</td>\n",
       "    </tr>\n",
       "    <tr>\n",
       "      <th>25</th>\n",
       "      <td>-0.153204</td>\n",
       "      <td>0.153451</td>\n",
       "      <td>-0.117938</td>\n",
       "      <td>0.013896</td>\n",
       "      <td>-0.502470</td>\n",
       "      <td>0.141721</td>\n",
       "      <td>-0.204180</td>\n",
       "      <td>-0.493758</td>\n",
       "      <td>-0.200640</td>\n",
       "    </tr>\n",
       "  </tbody>\n",
       "</table>\n",
       "</div>"
      ],
      "text/plain": [
       "    dfb_Intercept  dfb_Output  dfb_Russia_max_output   cooks_d  \\\n",
       "1        0.141413   -0.136496              -0.027558  0.009347   \n",
       "2        0.015567   -0.020540               0.074555  0.002784   \n",
       "3        0.194402   -0.167133              -0.326473  0.085323   \n",
       "4       -0.010726    0.014047              -0.049885  0.001246   \n",
       "5       -0.094334    0.072400               0.280863  0.051903   \n",
       "6        0.093982   -0.103321               0.159060  0.012735   \n",
       "7       -0.108075    0.118912              -0.184286  0.017023   \n",
       "8        0.032537   -0.040611               0.123177  0.007473   \n",
       "9       -0.163766    0.164030               0.056066  0.022863   \n",
       "10      -0.013225    0.013247              -0.050667  0.002665   \n",
       "11      -0.040450    0.040515               0.011251  0.001274   \n",
       "12       0.206361   -0.206694              -0.089016  0.041325   \n",
       "13       0.122832   -0.123030               0.072301  0.006620   \n",
       "14      -0.041075    0.041141               0.027580  0.002579   \n",
       "15       0.094488   -0.094641               0.139043  0.017030   \n",
       "16       0.038634   -0.038697              -0.209890  0.053401   \n",
       "17      -0.053324    0.053410              -0.061133  0.003351   \n",
       "18      -0.054114    0.054201               0.134393  0.027230   \n",
       "19      -0.204515    0.204845               0.136491  0.057738   \n",
       "20       0.103491   -0.103658               0.168716  0.024946   \n",
       "21      -0.234663    0.235042               0.245853  0.113246   \n",
       "22      -0.172627    0.172906              -0.273265  0.060766   \n",
       "23       0.122315   -0.122512              -0.098885  0.026897   \n",
       "24       0.236801   -0.237184              -0.142757  0.068749   \n",
       "25      -0.153204    0.153451              -0.117938  0.013896   \n",
       "\n",
       "    standard_resid  hat_diag  dffits_internal  student_resid    dffits  \n",
       "1         0.201072  0.409536         0.167456       0.196629  0.163756  \n",
       "2        -0.234366  0.131967        -0.091382      -0.229264 -0.089392  \n",
       "3         1.254760  0.139843         0.505933       1.272282  0.512998  \n",
       "4         0.156560  0.132309         0.061136       0.153046  0.059763  \n",
       "5        -1.023778  0.129344        -0.394599      -1.024953 -0.395052  \n",
       "6        -0.422729  0.176140        -0.195463      -0.414698 -0.191750  \n",
       "7         0.490175  0.175290         0.225985       0.481542  0.222005  \n",
       "8        -0.378426  0.135364        -0.149732      -0.370935 -0.146768  \n",
       "9         0.795000  0.097900         0.261897       0.788125  0.259632  \n",
       "10       -0.353321  0.060200        -0.089423      -0.346181 -0.087616  \n",
       "11        0.178830  0.106784         0.061832       0.174845  0.060454  \n",
       "12       -1.125396  0.089158        -0.352099      -1.132607 -0.354355  \n",
       "13        0.220909  0.289259         0.140929       0.216069  0.137842  \n",
       "14        0.306266  0.076213         0.087968       0.299864  0.086130  \n",
       "15        0.814087  0.071573         0.226033       0.807628  0.224239  \n",
       "16       -1.593629  0.059337        -0.400253      -1.655471 -0.415785  \n",
       "17       -0.332140  0.083526        -0.100270      -0.325320 -0.098211  \n",
       "18        1.121480  0.060990         0.285815       1.128425  0.287585  \n",
       "19        1.447508  0.076356         0.416190       1.486801  0.427487  \n",
       "20        1.007403  0.068677         0.273564       1.007760  0.273661  \n",
       "21        2.158778  0.067947         0.582869       2.375731  0.641446  \n",
       "22       -1.563157  0.069427        -0.426964      -1.619819 -0.442440  \n",
       "23       -1.018009  0.072237        -0.284062      -1.018891 -0.284308  \n",
       "24       -1.551674  0.078902        -0.454143      -1.606450 -0.470175  \n",
       "25       -0.502470  0.141721        -0.204180      -0.493758 -0.200640  "
      ]
     },
     "execution_count": 81,
     "metadata": {},
     "output_type": "execute_result"
    }
   ],
   "source": [
    "m = smf.ols('Export ~ Output + Russia_max_output', data=data).fit()\n",
    "infl = m.get_influence()\n",
    "sm_fr = infl.summary_frame()\n",
    "sm_fr"
   ]
  },
  {
   "cell_type": "code",
   "execution_count": 193,
   "metadata": {},
   "outputs": [],
   "source": [
    "#from statsmodels.stats.outliers_influence import OLSInfluence\n",
    "#OLSInfluence.resid_studentized_internal()"
   ]
  },
  {
   "cell_type": "code",
   "execution_count": 82,
   "metadata": {},
   "outputs": [
    {
     "data": {
      "image/png": "[encoded data removed]",
      "text/plain": [
       "<Figure size 432x288 with 1 Axes>"
      ]
     },
     "metadata": {
      "needs_background": "light"
     },
     "output_type": "display_data"
    }
   ],
   "source": [
    "x= sm_fr['cooks_d']\n",
    "y= sm_fr['student_resid']\n",
    "z= sm_fr['standard_resid']\n",
    "plt.plot(x, linestyle = ':', label = 'cook')\n",
    "plt.plot(y, linestyle = ':',label = 'student_resid')\n",
    "plt.plot(z, linestyle = ':',label = 'standard_resid')\n",
    "plt.legend()\n",
    "plt.show()"
   ]
  },
  {
   "cell_type": "code",
   "execution_count": 83,
   "metadata": {},
   "outputs": [
    {
     "data": {
      "image/png": "[encoded data removed]",
      "text/plain": [
       "<Figure size 432x288 with 1 Axes>"
      ]
     },
     "metadata": {
      "needs_background": "light"
     },
     "output_type": "display_data"
    }
   ],
   "source": [
    "plt.scatter(x, y)\n",
    "plt.title('Scatter plot')\n",
    "plt. xlabel('Cooks_distance')\n",
    "plt. ylabel('student_resid')\n",
    "plt.show()"
   ]
  },
  {
   "cell_type": "code",
   "execution_count": 84,
   "metadata": {},
   "outputs": [
    {
     "data": {
      "text/plain": [
       "<matplotlib.axes._subplots.AxesSubplot at 0x1c1eb1cd68>"
      ]
     },
     "execution_count": 84,
     "metadata": {},
     "output_type": "execute_result"
    },
    {
     "data": {
      "image/png": "[encoded data removed]",
      "text/plain": [
       "<Figure size 432x288 with 1 Axes>"
      ]
     },
     "metadata": {
      "needs_background": "light"
     },
     "output_type": "display_data"
    }
   ],
   "source": [
    "sns.regplot(x, y,  fit_reg=False)"
   ]
  },
  {
   "cell_type": "markdown",
   "metadata": {},
   "source": [
    "из графика видно, что есть выборс - значение student_resid = 2.4 в точке 21\n",
    "в этой точке максимален зависимый параметр Объем экспорта, однако, объясняющие переменные не ловят максимум, можно сделать вывод о том, что в уравнении в исходном перечне не учтен фактор, объясняющий объем максимального экспорта."
   ]
  },
  {
   "cell_type": "code",
   "execution_count": 18,
   "metadata": {},
   "outputs": [
    {
     "data": {
      "text/plain": [
       "7.814727903251179"
      ]
     },
     "execution_count": 18,
     "metadata": {},
     "output_type": "execute_result"
    }
   ],
   "source": [
    "t_chi2_kr= sts.chi2.ppf(0.95,3)\n",
    "t_chi2_kr"
   ]
  },
  {
   "cell_type": "code",
   "execution_count": 52,
   "metadata": {},
   "outputs": [],
   "source": [
    "from statsmodels.stats.diagnostic import het_white\n",
    "from statsmodels.stats.diagnostic import het_breuschpagan"
   ]
  },
  {
   "cell_type": "code",
   "execution_count": 43,
   "metadata": {},
   "outputs": [],
   "source": [
    "f = 'Export ~ Output + Russia_max_output'\n",
    "regression = ols(formula=f, data=data).fit()"
   ]
  },
  {
   "cell_type": "markdown",
   "metadata": {},
   "source": [
    "Тест Уайта и тест Бреуша-Пагана"
   ]
  },
  {
   "cell_type": "code",
   "execution_count": 61,
   "metadata": {},
   "outputs": [
    {
     "data": {
      "text/plain": [
       "(6.662282258672509, 0.15484818683833954, 1.816551643080917, 0.16524046489062)"
      ]
     },
     "execution_count": 61,
     "metadata": {},
     "output_type": "execute_result"
    }
   ],
   "source": [
    "white_test = het_white(regression.resid,  regression.model.exog)\n",
    "white_test"
   ]
  },
  {
   "cell_type": "code",
   "execution_count": 63,
   "metadata": {},
   "outputs": [
    {
     "data": {
      "text/plain": [
       "(3.749344837050053,\n",
       " 0.15340521132029242,\n",
       " 1.9407774909197388,\n",
       " 0.1674000057581149)"
      ]
     },
     "execution_count": 63,
     "metadata": {},
     "output_type": "execute_result"
    }
   ],
   "source": [
    "bp_test = het_breuschpagan(regression.resid, regression.model.exog)\n",
    "bp_test"
   ]
  },
  {
   "cell_type": "markdown",
   "metadata": {},
   "source": [
    "так как p-value больше 0,05  гипотеза о наличии связи между ошибкой модели и экзогенными параметрами отвергается, значит, гипотеза о гетероскедастичности отвергается, гипотеза о гомоскедастичности не отвергается\n",
    "Тест Уайта представляет собой зависимость ошибок модели от экзогенных параметров без учета связи междлу ними\n",
    "Тест Бреуша-Пагана исследует линейную зависимость только от параметров "
   ]
  },
  {
   "cell_type": "markdown",
   "metadata": {},
   "source": [
    " Оптимизация модели на основе информационного криетрия Акаике"
   ]
  },
  {
   "cell_type": "code",
   "execution_count": 66,
   "metadata": {},
   "outputs": [
    {
     "name": "stdout",
     "output_type": "stream",
     "text": [
      "                            OLS Regression Results                            \n",
      "==============================================================================\n",
      "Dep. Variable:                 Export   R-squared:                       0.601\n",
      "Model:                            OLS   Adj. R-squared:                  0.583\n",
      "Method:                 Least Squares   F-statistic:                     34.60\n",
      "Date:                Sun, 19 Apr 2020   Prob (F-statistic):           5.38e-06\n",
      "Time:                        19:07:37   Log-Likelihood:                -198.24\n",
      "No. Observations:                  25   AIC:                             400.5\n",
      "Df Residuals:                      23   BIC:                             402.9\n",
      "Df Model:                           1                                         \n",
      "Covariance Type:            nonrobust                                         \n",
      "==============================================================================\n",
      "                 coef    std err          t      P>|t|      [0.025      0.975]\n",
      "------------------------------------------------------------------------------\n",
      "Intercept  -2899.1544   4200.203     -0.690      0.497   -1.16e+04    5789.628\n",
      "Output         0.5311      0.090      5.882      0.000       0.344       0.718\n",
      "==============================================================================\n",
      "Omnibus:                        1.912   Durbin-Watson:                   1.500\n",
      "Prob(Omnibus):                  0.385   Jarque-Bera (JB):                1.386\n",
      "Skew:                           0.361   Prob(JB):                        0.500\n",
      "Kurtosis:                       2.100   Cond. No.                     1.39e+06\n",
      "==============================================================================\n",
      "\n",
      "Warnings:\n",
      "[1] Standard Errors assume that the covariance matrix of the errors is correctly specified.\n",
      "[2] The condition number is large, 1.39e+06. This might indicate that there are\n",
      "strong multicollinearity or other numerical problems.\n"
     ]
    }
   ],
   "source": [
    "results1_4 = smf.ols('Export ~ Output', data=data).fit()\n",
    "print(results1_4.summary())"
   ]
  },
  {
   "cell_type": "markdown",
   "metadata": {},
   "source": [
    "Модификации модели не привели к улучшению качества, кроме модели Зависимости Экспорта от Добычи. Однако, прирост качества небольшой, исследователь не считает оптимизацией данную модель. "
   ]
  },
  {
   "cell_type": "code",
   "execution_count": 95,
   "metadata": {},
   "outputs": [
    {
     "name": "stdout",
     "output_type": "stream",
     "text": [
      "                            OLS Regression Results                            \n",
      "==============================================================================\n",
      "Dep. Variable:                 Export   R-squared:                       0.601\n",
      "Model:                            OLS   Adj. R-squared:                  0.583\n",
      "Method:                 Least Squares   F-statistic:                     34.60\n",
      "Date:                Sun, 19 Apr 2020   Prob (F-statistic):           5.38e-06\n",
      "Time:                        19:34:57   Log-Likelihood:                -198.24\n",
      "No. Observations:                  25   AIC:                             400.5\n",
      "Df Residuals:                      23   BIC:                             402.9\n",
      "Df Model:                           1                                         \n",
      "Covariance Type:            nonrobust                                         \n",
      "==============================================================================\n",
      "                 coef    std err          t      P>|t|      [0.025      0.975]\n",
      "------------------------------------------------------------------------------\n",
      "Intercept  -2899.1544   4200.203     -0.690      0.497   -1.16e+04    5789.628\n",
      "Output         0.5311      0.090      5.882      0.000       0.344       0.718\n",
      "==============================================================================\n",
      "Omnibus:                        1.912   Durbin-Watson:                   1.500\n",
      "Prob(Omnibus):                  0.385   Jarque-Bera (JB):                1.386\n",
      "Skew:                           0.361   Prob(JB):                        0.500\n",
      "Kurtosis:                       2.100   Cond. No.                     1.39e+06\n",
      "==============================================================================\n",
      "\n",
      "Warnings:\n",
      "[1] Standard Errors assume that the covariance matrix of the errors is correctly specified.\n",
      "[2] The condition number is large, 1.39e+06. This might indicate that there are\n",
      "strong multicollinearity or other numerical problems.\n"
     ]
    }
   ],
   "source": [
    "results1_5 = smf.ols('Export ~ Output', data=data).fit()\n",
    "print(results1_5.summary())"
   ]
  },
  {
   "cell_type": "code",
   "execution_count": 71,
   "metadata": {},
   "outputs": [
    {
     "data": {
      "text/html": [
       "<div>\n",
       "<style scoped>\n",
       "    .dataframe tbody tr th:only-of-type {\n",
       "        vertical-align: middle;\n",
       "    }\n",
       "\n",
       "    .dataframe tbody tr th {\n",
       "        vertical-align: top;\n",
       "    }\n",
       "\n",
       "    .dataframe thead th {\n",
       "        text-align: right;\n",
       "    }\n",
       "</style>\n",
       "<table border=\"1\" class=\"dataframe\">\n",
       "  <thead>\n",
       "    <tr style=\"text-align: right;\">\n",
       "      <th></th>\n",
       "      <th>Export</th>\n",
       "      <th>Output</th>\n",
       "      <th>Primary_proc</th>\n",
       "      <th>Quotation</th>\n",
       "      <th>Export_duty</th>\n",
       "      <th>OPEC_convention</th>\n",
       "      <th>Venezuela_crisis</th>\n",
       "      <th>Russia_elections</th>\n",
       "      <th>Russia_max_output</th>\n",
       "      <th>Export_predicted</th>\n",
       "      <th>Err</th>\n",
       "      <th>Share</th>\n",
       "    </tr>\n",
       "  </thead>\n",
       "  <tbody>\n",
       "    <tr>\n",
       "      <th>Export</th>\n",
       "      <td>1.000000</td>\n",
       "      <td>0.775061</td>\n",
       "      <td>0.390567</td>\n",
       "      <td>0.050789</td>\n",
       "      <td>-0.059826</td>\n",
       "      <td>-0.140123</td>\n",
       "      <td>0.268771</td>\n",
       "      <td>-0.124058</td>\n",
       "      <td>0.511570</td>\n",
       "      <td>0.824309</td>\n",
       "      <td>0.566215</td>\n",
       "      <td>-0.336194</td>\n",
       "    </tr>\n",
       "    <tr>\n",
       "      <th>Output</th>\n",
       "      <td>0.775061</td>\n",
       "      <td>1.000000</td>\n",
       "      <td>0.668168</td>\n",
       "      <td>0.248880</td>\n",
       "      <td>0.104589</td>\n",
       "      <td>-0.038215</td>\n",
       "      <td>0.099913</td>\n",
       "      <td>-0.013384</td>\n",
       "      <td>0.316557</td>\n",
       "      <td>0.940248</td>\n",
       "      <td>0.000097</td>\n",
       "      <td>-0.215933</td>\n",
       "    </tr>\n",
       "    <tr>\n",
       "      <th>Primary_proc</th>\n",
       "      <td>0.390567</td>\n",
       "      <td>0.668168</td>\n",
       "      <td>1.000000</td>\n",
       "      <td>0.125626</td>\n",
       "      <td>0.071499</td>\n",
       "      <td>0.068028</td>\n",
       "      <td>-0.015716</td>\n",
       "      <td>0.031074</td>\n",
       "      <td>0.030166</td>\n",
       "      <td>0.563148</td>\n",
       "      <td>-0.130025</td>\n",
       "      <td>0.581922</td>\n",
       "    </tr>\n",
       "    <tr>\n",
       "      <th>Quotation</th>\n",
       "      <td>0.050789</td>\n",
       "      <td>0.248880</td>\n",
       "      <td>0.125626</td>\n",
       "      <td>1.000000</td>\n",
       "      <td>0.803640</td>\n",
       "      <td>-0.036819</td>\n",
       "      <td>-0.519403</td>\n",
       "      <td>0.027468</td>\n",
       "      <td>-0.226026</td>\n",
       "      <td>0.124597</td>\n",
       "      <td>-0.091692</td>\n",
       "      <td>-0.104603</td>\n",
       "    </tr>\n",
       "    <tr>\n",
       "      <th>Export_duty</th>\n",
       "      <td>-0.059826</td>\n",
       "      <td>0.104589</td>\n",
       "      <td>0.071499</td>\n",
       "      <td>0.803640</td>\n",
       "      <td>1.000000</td>\n",
       "      <td>-0.436126</td>\n",
       "      <td>-0.867241</td>\n",
       "      <td>0.142570</td>\n",
       "      <td>-0.579101</td>\n",
       "      <td>-0.121413</td>\n",
       "      <td>0.071095</td>\n",
       "      <td>-0.016825</td>\n",
       "    </tr>\n",
       "    <tr>\n",
       "      <th>OPEC_convention</th>\n",
       "      <td>-0.140123</td>\n",
       "      <td>-0.038215</td>\n",
       "      <td>0.068028</td>\n",
       "      <td>-0.036819</td>\n",
       "      <td>-0.436126</td>\n",
       "      <td>1.000000</td>\n",
       "      <td>0.261387</td>\n",
       "      <td>-0.060193</td>\n",
       "      <td>0.202289</td>\n",
       "      <td>0.041023</td>\n",
       "      <td>-0.307232</td>\n",
       "      <td>0.131732</td>\n",
       "    </tr>\n",
       "    <tr>\n",
       "      <th>Venezuela_crisis</th>\n",
       "      <td>0.268771</td>\n",
       "      <td>0.099913</td>\n",
       "      <td>-0.015716</td>\n",
       "      <td>-0.519403</td>\n",
       "      <td>-0.867241</td>\n",
       "      <td>0.261387</td>\n",
       "      <td>1.000000</td>\n",
       "      <td>-0.230283</td>\n",
       "      <td>0.773906</td>\n",
       "      <td>0.360384</td>\n",
       "      <td>-0.049948</td>\n",
       "      <td>-0.134621</td>\n",
       "    </tr>\n",
       "    <tr>\n",
       "      <th>Russia_elections</th>\n",
       "      <td>-0.124058</td>\n",
       "      <td>-0.013384</td>\n",
       "      <td>0.031074</td>\n",
       "      <td>0.027468</td>\n",
       "      <td>0.142570</td>\n",
       "      <td>-0.060193</td>\n",
       "      <td>-0.230283</td>\n",
       "      <td>1.000000</td>\n",
       "      <td>-0.297560</td>\n",
       "      <td>-0.117873</td>\n",
       "      <td>-0.047515</td>\n",
       "      <td>0.054124</td>\n",
       "    </tr>\n",
       "    <tr>\n",
       "      <th>Russia_max_output</th>\n",
       "      <td>0.511570</td>\n",
       "      <td>0.316557</td>\n",
       "      <td>0.030166</td>\n",
       "      <td>-0.226026</td>\n",
       "      <td>-0.579101</td>\n",
       "      <td>0.202289</td>\n",
       "      <td>0.773906</td>\n",
       "      <td>-0.297560</td>\n",
       "      <td>1.000000</td>\n",
       "      <td>0.620623</td>\n",
       "      <td>0.000031</td>\n",
       "      <td>-0.306463</td>\n",
       "    </tr>\n",
       "    <tr>\n",
       "      <th>Export_predicted</th>\n",
       "      <td>0.824309</td>\n",
       "      <td>0.940248</td>\n",
       "      <td>0.563148</td>\n",
       "      <td>0.124597</td>\n",
       "      <td>-0.121413</td>\n",
       "      <td>0.041023</td>\n",
       "      <td>0.360384</td>\n",
       "      <td>-0.117873</td>\n",
       "      <td>0.620623</td>\n",
       "      <td>1.000000</td>\n",
       "      <td>0.000091</td>\n",
       "      <td>-0.288499</td>\n",
       "    </tr>\n",
       "    <tr>\n",
       "      <th>Err</th>\n",
       "      <td>0.566215</td>\n",
       "      <td>0.000097</td>\n",
       "      <td>-0.130025</td>\n",
       "      <td>-0.091692</td>\n",
       "      <td>0.071095</td>\n",
       "      <td>-0.307232</td>\n",
       "      <td>-0.049948</td>\n",
       "      <td>-0.047515</td>\n",
       "      <td>0.000031</td>\n",
       "      <td>0.000091</td>\n",
       "      <td>1.000000</td>\n",
       "      <td>-0.173803</td>\n",
       "    </tr>\n",
       "    <tr>\n",
       "      <th>Share</th>\n",
       "      <td>-0.336194</td>\n",
       "      <td>-0.215933</td>\n",
       "      <td>0.581922</td>\n",
       "      <td>-0.104603</td>\n",
       "      <td>-0.016825</td>\n",
       "      <td>0.131732</td>\n",
       "      <td>-0.134621</td>\n",
       "      <td>0.054124</td>\n",
       "      <td>-0.306463</td>\n",
       "      <td>-0.288499</td>\n",
       "      <td>-0.173803</td>\n",
       "      <td>1.000000</td>\n",
       "    </tr>\n",
       "  </tbody>\n",
       "</table>\n",
       "</div>"
      ],
      "text/plain": [
       "                     Export    Output  Primary_proc  Quotation  Export_duty  \\\n",
       "Export             1.000000  0.775061      0.390567   0.050789    -0.059826   \n",
       "Output             0.775061  1.000000      0.668168   0.248880     0.104589   \n",
       "Primary_proc       0.390567  0.668168      1.000000   0.125626     0.071499   \n",
       "Quotation          0.050789  0.248880      0.125626   1.000000     0.803640   \n",
       "Export_duty       -0.059826  0.104589      0.071499   0.803640     1.000000   \n",
       "OPEC_convention   -0.140123 -0.038215      0.068028  -0.036819    -0.436126   \n",
       "Venezuela_crisis   0.268771  0.099913     -0.015716  -0.519403    -0.867241   \n",
       "Russia_elections  -0.124058 -0.013384      0.031074   0.027468     0.142570   \n",
       "Russia_max_output  0.511570  0.316557      0.030166  -0.226026    -0.579101   \n",
       "Export_predicted   0.824309  0.940248      0.563148   0.124597    -0.121413   \n",
       "Err                0.566215  0.000097     -0.130025  -0.091692     0.071095   \n",
       "Share             -0.336194 -0.215933      0.581922  -0.104603    -0.016825   \n",
       "\n",
       "                   OPEC_convention  Venezuela_crisis  Russia_elections  \\\n",
       "Export                   -0.140123          0.268771         -0.124058   \n",
       "Output                   -0.038215          0.099913         -0.013384   \n",
       "Primary_proc              0.068028         -0.015716          0.031074   \n",
       "Quotation                -0.036819         -0.519403          0.027468   \n",
       "Export_duty              -0.436126         -0.867241          0.142570   \n",
       "OPEC_convention           1.000000          0.261387         -0.060193   \n",
       "Venezuela_crisis          0.261387          1.000000         -0.230283   \n",
       "Russia_elections         -0.060193         -0.230283          1.000000   \n",
       "Russia_max_output         0.202289          0.773906         -0.297560   \n",
       "Export_predicted          0.041023          0.360384         -0.117873   \n",
       "Err                      -0.307232         -0.049948         -0.047515   \n",
       "Share                     0.131732         -0.134621          0.054124   \n",
       "\n",
       "                   Russia_max_output  Export_predicted       Err     Share  \n",
       "Export                      0.511570          0.824309  0.566215 -0.336194  \n",
       "Output                      0.316557          0.940248  0.000097 -0.215933  \n",
       "Primary_proc                0.030166          0.563148 -0.130025  0.581922  \n",
       "Quotation                  -0.226026          0.124597 -0.091692 -0.104603  \n",
       "Export_duty                -0.579101         -0.121413  0.071095 -0.016825  \n",
       "OPEC_convention             0.202289          0.041023 -0.307232  0.131732  \n",
       "Venezuela_crisis            0.773906          0.360384 -0.049948 -0.134621  \n",
       "Russia_elections           -0.297560         -0.117873 -0.047515  0.054124  \n",
       "Russia_max_output           1.000000          0.620623  0.000031 -0.306463  \n",
       "Export_predicted            0.620623          1.000000  0.000091 -0.288499  \n",
       "Err                         0.000031          0.000091  1.000000 -0.173803  \n",
       "Share                      -0.306463         -0.288499 -0.173803  1.000000  "
      ]
     },
     "execution_count": 71,
     "metadata": {},
     "output_type": "execute_result"
    }
   ],
   "source": [
    "data.corr()"
   ]
  },
  {
   "cell_type": "code",
   "execution_count": null,
   "metadata": {},
   "outputs": [],
   "source": []
  }
 ],
 "metadata": {
  "kernelspec": {
   "display_name": "Python 3",
   "language": "python",
   "name": "python3"
  },
  "language_info": {
   "codemirror_mode": {
    "name": "ipython",
    "version": 3
   },
   "file_extension": ".py",
   "mimetype": "text/x-python",
   "name": "python",
   "nbconvert_exporter": "python",
   "pygments_lexer": "ipython3",
   "version": "3.7.1"
  }
 },
 "nbformat": 4,
 "nbformat_minor": 2
}
